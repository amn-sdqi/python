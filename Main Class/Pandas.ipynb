{
 "cells": [
  {
   "cell_type": "markdown",
   "id": "7e61f018",
   "metadata": {},
   "source": [
    "Pandas contain data structures and data manipulation tools designed for data cleaning and analysis.<br><br>\n",
    "While pandas adopt much code from NumPy, the difference is that Pandas is designed for tabular, heterogeneous data. NumPy, by difference, is best suited for working with homogeneous numerical array data.<br><br>\n",
    "The name Pandas is derived from the term 'panel data' (an econometrics term for multidimensional structured data sets)."
   ]
  },
  {
   "cell_type": "markdown",
   "id": "c5653de1",
   "metadata": {},
   "source": [
    "mport the pandas library; the following convention is used"
   ]
  },
  {
   "cell_type": "code",
   "execution_count": 1,
   "id": "d6848750",
   "metadata": {},
   "outputs": [],
   "source": [
    "import pandas as pd"
   ]
  },
  {
   "cell_type": "markdown",
   "id": "f906cc73",
   "metadata": {},
   "source": [
    "# Data Structures\n",
    "\n",
    "Pandas has two data structures as follows:<br>\n",
    "1. A Series is a 1-dimensional labelled array that can hold data of any type (such as integer, string, boolean, float, python objects). Its axis labels are collectively called an index.\n",
    "2. A DataFrame is a 2-dimensional labelled data structure with columns. It supports multiple data types."
   ]
  },
  {
   "cell_type": "markdown",
   "id": "65b181dc",
   "metadata": {},
   "source": [
    "# Pandas Series\n",
    "\n",
    "Pandas Series is a one-dimensional labelled array capable of holding any data type. However, a series is a sequence of similar data types, similar to an array, list, or column in a table. <br>\n",
    "It will assign a labelled index to each item in the pd.Series. By default, each item will receive an index label from 0 to N, where N is the length of the Series minus one."
   ]
  },
  {
   "cell_type": "markdown",
   "id": "259639fb",
   "metadata": {},
   "source": [
    "## Creating a Series\n",
    "\n",
    "### To create a numeric series"
   ]
  },
  {
   "cell_type": "code",
   "execution_count": 3,
   "id": "ac8d76ed",
   "metadata": {},
   "outputs": [
    {
     "data": {
      "text/plain": [
       "0    1\n",
       "1    2\n",
       "2    3\n",
       "3    4\n",
       "4    5\n",
       "5    6\n",
       "6    7\n",
       "7    8\n",
       "8    9\n",
       "dtype: int64"
      ]
     },
     "execution_count": 3,
     "metadata": {},
     "output_type": "execute_result"
    }
   ],
   "source": [
    "# create a numeric series\n",
    "numbers = range(1,10)\n",
    "\n",
    "# covert it to series\n",
    "pd.Series(numbers)"
   ]
  },
  {
   "cell_type": "markdown",
   "id": "1e1ed25f",
   "metadata": {},
   "source": [
    "### To create an object series"
   ]
  },
  {
   "cell_type": "code",
   "execution_count": 4,
   "id": "d64b0bd9",
   "metadata": {},
   "outputs": [
    {
     "data": {
      "text/plain": [
       "0     Hi\n",
       "1    How\n",
       "2    are\n",
       "3    you\n",
       "4      ?\n",
       "dtype: object"
      ]
     },
     "execution_count": 4,
     "metadata": {},
     "output_type": "execute_result"
    }
   ],
   "source": [
    "# create an object series\n",
    "string = \"Hi\" , \"How\" ,\"are\", \"you\", \"?\"\n",
    "\n",
    "\n",
    "# create a series from the above list\n",
    "pd.Series(string)"
   ]
  },
  {
   "cell_type": "markdown",
   "id": "8e88c44b",
   "metadata": {},
   "source": [
    "### To create a series by giving both numeric and string values"
   ]
  },
  {
   "cell_type": "code",
   "execution_count": 5,
   "id": "10a0a34c",
   "metadata": {},
   "outputs": [
    {
     "data": {
      "text/plain": [
       "0               345\n",
       "1            London\n",
       "2              34.5\n",
       "3            -34.45\n",
       "4    Happy Birthday\n",
       "dtype: object"
      ]
     },
     "execution_count": 5,
     "metadata": {},
     "output_type": "execute_result"
    }
   ],
   "source": [
    "# create a Series with an arbitrary list\n",
    "pd.Series([345, 'London', 34.5, -34.45, 'Happy Birthday'])"
   ]
  },
  {
   "cell_type": "markdown",
   "id": "763ad390",
   "metadata": {},
   "source": [
    "Here the numeric values are treated as object."
   ]
  },
  {
   "cell_type": "markdown",
   "id": "387ce412",
   "metadata": {},
   "source": [
    "### To set index values for a series"
   ]
  },
  {
   "cell_type": "code",
   "execution_count": 6,
   "id": "d02da9be",
   "metadata": {},
   "outputs": [
    {
     "data": {
      "text/plain": [
       "Maths             60\n",
       "Science           89\n",
       "English           74\n",
       "Social Science    86\n",
       "dtype: int64"
      ]
     },
     "execution_count": 6,
     "metadata": {},
     "output_type": "execute_result"
    }
   ],
   "source": [
    "# declare a list of marks\n",
    "marks = [60, 89, 74, 86]\n",
    "\n",
    "# declare a list of subjects\n",
    "subject = [\"Maths\", \"Science\", \"English\" , \"Social Science\"]\n",
    "\n",
    "# create a series from the above list of marks with subjects as its index names\n",
    "# index: adds the index \n",
    "marks_series = pd.Series(marks, index = subject) \n",
    "marks_series"
   ]
  },
  {
   "cell_type": "markdown",
   "id": "50940ad8",
   "metadata": {},
   "source": [
    "The index is added using the argument index=. The data type of the series continues to be numeric."
   ]
  },
  {
   "cell_type": "markdown",
   "id": "91f77f7d",
   "metadata": {},
   "source": [
    "### To print the values and index of the Series"
   ]
  },
  {
   "cell_type": "code",
   "execution_count": 7,
   "id": "2fea80c8",
   "metadata": {},
   "outputs": [
    {
     "data": {
      "text/plain": [
       "Index(['Maths', 'Science', 'English', 'Social Science'], dtype='object')"
      ]
     },
     "execution_count": 7,
     "metadata": {},
     "output_type": "execute_result"
    }
   ],
   "source": [
    "# print the index of the series\n",
    "marks_series.index"
   ]
  },
  {
   "cell_type": "code",
   "execution_count": 8,
   "id": "13951dc8",
   "metadata": {},
   "outputs": [
    {
     "data": {
      "text/plain": [
       "array([60, 89, 74, 86], dtype=int64)"
      ]
     },
     "execution_count": 8,
     "metadata": {},
     "output_type": "execute_result"
    }
   ],
   "source": [
    "# prints the values of the series\n",
    "marks_series.values"
   ]
  },
  {
   "cell_type": "markdown",
   "id": "2cd1e370",
   "metadata": {},
   "source": [
    "### To create a series from a dictionary"
   ]
  },
  {
   "cell_type": "code",
   "execution_count": 9,
   "id": "a450f85c",
   "metadata": {},
   "outputs": [
    {
     "data": {
      "text/plain": [
       "Maths             60\n",
       "Science           89\n",
       "English           76\n",
       "Social Science    86\n",
       "dtype: int64"
      ]
     },
     "execution_count": 9,
     "metadata": {},
     "output_type": "execute_result"
    }
   ],
   "source": [
    "# declare a dictionary\n",
    "data = {'Maths': 60, 'Science': 89, 'English': 76, 'Social Science': 86}\n",
    "\n",
    "# create a series from the dictionary\n",
    "# the dictionary keys are the index names\n",
    "# the dictionary values are the series values\n",
    "pd.Series(data)"
   ]
  },
  {
   "cell_type": "markdown",
   "id": "d694b1fa",
   "metadata": {},
   "source": [
    "### To create a series using library numpy"
   ]
  },
  {
   "cell_type": "code",
   "execution_count": 10,
   "id": "249ba0c8",
   "metadata": {},
   "outputs": [
    {
     "data": {
      "text/plain": [
       "array([ 0. ,  2.5,  5. ,  7.5, 10. ])"
      ]
     },
     "execution_count": 10,
     "metadata": {},
     "output_type": "execute_result"
    }
   ],
   "source": [
    "# import the numpy library\n",
    "import numpy as np\n",
    "\n",
    "# declare the variable 'sequence' using linspace()\n",
    "sequence = np.linspace(0,10, 5)\n",
    "\n",
    "# print the array 'sequence'\n",
    "sequence"
   ]
  },
  {
   "cell_type": "code",
   "execution_count": 11,
   "id": "861ab513",
   "metadata": {},
   "outputs": [
    {
     "data": {
      "text/plain": [
       "0     0.0\n",
       "1     2.5\n",
       "2     5.0\n",
       "3     7.5\n",
       "4    10.0\n",
       "dtype: float64"
      ]
     },
     "execution_count": 11,
     "metadata": {},
     "output_type": "execute_result"
    }
   ],
   "source": [
    "# create a series from the above sequence\n",
    "pd.Series(sequence)"
   ]
  },
  {
   "cell_type": "markdown",
   "id": "8dc98a57",
   "metadata": {},
   "source": [
    "### A series with missing values"
   ]
  },
  {
   "cell_type": "markdown",
   "id": "280d35cc",
   "metadata": {},
   "source": [
    "If we pass a key that is not defined, then its value will be NaN."
   ]
  },
  {
   "cell_type": "code",
   "execution_count": 12,
   "id": "67bbaaa4",
   "metadata": {},
   "outputs": [
    {
     "name": "stdout",
     "output_type": "stream",
     "text": [
      "Maths             60.0\n",
      "Science           89.0\n",
      "Art and Craft      NaN\n",
      "Social Science    86.0\n",
      "dtype: float64\n"
     ]
    }
   ],
   "source": [
    "# create a list of subjects\n",
    "subjects = [\"Maths\", \"Science\", \"Art and Craft\" , \"Social Science\"]\n",
    "\n",
    "# declare a dictionary\n",
    "data = {'Maths': 60, 'Science': 89, 'English': 76, 'Social Science': 86}\n",
    "\n",
    "# create a series from the dictionary\n",
    "marks_series = pd.Series(data, index = subjects)\n",
    "\n",
    "# print series\n",
    "print(marks_series)"
   ]
  },
  {
   "cell_type": "code",
   "execution_count": null,
   "id": "4e1466e1",
   "metadata": {},
   "outputs": [],
   "source": []
  },
  {
   "cell_type": "markdown",
   "id": "3ec431b0",
   "metadata": {},
   "source": [
    "## Manipulating Series"
   ]
  },
  {
   "cell_type": "markdown",
   "id": "ab1ee201",
   "metadata": {},
   "source": [
    "**To check for null values using `.isnull`**"
   ]
  },
  {
   "cell_type": "code",
   "execution_count": 13,
   "id": "7fb9e3c2",
   "metadata": {},
   "outputs": [
    {
     "data": {
      "text/plain": [
       "Maths             False\n",
       "Science           False\n",
       "Art and Craft      True\n",
       "Social Science    False\n",
       "dtype: bool"
      ]
     },
     "execution_count": 13,
     "metadata": {},
     "output_type": "execute_result"
    }
   ],
   "source": [
    "# check for nulls in the data\n",
    "marks_series.isnull()"
   ]
  },
  {
   "cell_type": "markdown",
   "id": "56ad53ac",
   "metadata": {},
   "source": [
    "`False` indicates that the value is not null."
   ]
  },
  {
   "cell_type": "markdown",
   "id": "c308bd18",
   "metadata": {},
   "source": [
    "**To check for null values using `.notnull`**"
   ]
  },
  {
   "cell_type": "code",
   "execution_count": 16,
   "id": "d8bcebcb",
   "metadata": {},
   "outputs": [
    {
     "data": {
      "text/plain": [
       "Maths              True\n",
       "Science            True\n",
       "Art and Craft     False\n",
       "Social Science     True\n",
       "dtype: bool"
      ]
     },
     "execution_count": 16,
     "metadata": {},
     "output_type": "execute_result"
    }
   ],
   "source": [
    "# check for nulls in the data\n",
    "marks_series.notnull()"
   ]
  },
  {
   "cell_type": "markdown",
   "id": "96e103cd",
   "metadata": {},
   "source": [
    "` True` indicates that the value is not null."
   ]
  },
  {
   "cell_type": "markdown",
   "id": "1fbff5f6",
   "metadata": {},
   "source": [
    "**To know the subjects in which marks score is more than 75**"
   ]
  },
  {
   "cell_type": "code",
   "execution_count": 17,
   "id": "7d9d8ce7",
   "metadata": {},
   "outputs": [
    {
     "data": {
      "text/plain": [
       "Science           89.0\n",
       "Social Science    86.0\n",
       "dtype: float64"
      ]
     },
     "execution_count": 17,
     "metadata": {},
     "output_type": "execute_result"
    }
   ],
   "source": [
    "# check for marks more than 75\n",
    "marks_series[marks_series > 75]"
   ]
  },
  {
   "cell_type": "markdown",
   "id": "cbc4cf70",
   "metadata": {},
   "source": [
    "**To assign 68 marks to 'Art and Craft'**"
   ]
  },
  {
   "cell_type": "code",
   "execution_count": 18,
   "id": "9b0b9f80",
   "metadata": {},
   "outputs": [
    {
     "data": {
      "text/plain": [
       "Maths             60.0\n",
       "Science           89.0\n",
       "Art and Craft     68.0\n",
       "Social Science    86.0\n",
       "dtype: float64"
      ]
     },
     "execution_count": 18,
     "metadata": {},
     "output_type": "execute_result"
    }
   ],
   "source": [
    "# assign 68 marks to 'Art and Craft'\n",
    "marks_series[\"Art and Craft\"] = 68\n",
    "\n",
    "# print the series\n",
    "marks_series"
   ]
  },
  {
   "cell_type": "markdown",
   "id": "7e9a6a90",
   "metadata": {},
   "source": [
    "**To check whether Maths marks are 73**"
   ]
  },
  {
   "cell_type": "code",
   "execution_count": 20,
   "id": "51029222",
   "metadata": {},
   "outputs": [
    {
     "data": {
      "text/plain": [
       "False"
      ]
     },
     "execution_count": 20,
     "metadata": {},
     "output_type": "execute_result"
    }
   ],
   "source": [
    "# check whether Maths marks are 73\n",
    "marks_series.Maths == 73"
   ]
  },
  {
   "cell_type": "code",
   "execution_count": 19,
   "id": "b209b21f",
   "metadata": {},
   "outputs": [
    {
     "data": {
      "text/plain": [
       "False"
      ]
     },
     "execution_count": 19,
     "metadata": {},
     "output_type": "execute_result"
    }
   ],
   "source": [
    "# or you may use\n",
    "marks_series[\"Maths\"] == 73"
   ]
  },
  {
   "cell_type": "markdown",
   "id": "fa5e355a",
   "metadata": {},
   "source": [
    "**To create a series by generating numpy random numbers**"
   ]
  },
  {
   "cell_type": "code",
   "execution_count": 31,
   "id": "98fd6678",
   "metadata": {},
   "outputs": [],
   "source": [
    "# create the numbers series \n",
    "# generate a sequence of 15 random numbers using random()\n",
    "# round(): rounds off the number to nearest integer\n",
    "num = pd.Series(np.random.random(15)*10).round()"
   ]
  },
  {
   "cell_type": "markdown",
   "id": "c81b0376",
   "metadata": {},
   "source": [
    "**To find the square of the numbers series**"
   ]
  },
  {
   "cell_type": "code",
   "execution_count": 32,
   "id": "64f47b02",
   "metadata": {},
   "outputs": [
    {
     "data": {
      "text/plain": [
       "7.0    49.0\n",
       "4.0    16.0\n",
       "9.0    81.0\n",
       "6.0    36.0\n",
       "7.0    49.0\n",
       "2.0     4.0\n",
       "5.0    25.0\n",
       "4.0    16.0\n",
       "4.0    16.0\n",
       "1.0     1.0\n",
       "7.0    49.0\n",
       "7.0    49.0\n",
       "6.0    36.0\n",
       "4.0    16.0\n",
       "3.0     9.0\n",
       "dtype: float64"
      ]
     },
     "execution_count": 32,
     "metadata": {},
     "output_type": "execute_result"
    }
   ],
   "source": [
    "# declare a variable square \n",
    "# variable 'square' contains the \n",
    "square = pd.Series(num*num)\n",
    "square.index = [num]\n",
    "square"
   ]
  },
  {
   "cell_type": "markdown",
   "id": "0c94f041",
   "metadata": {},
   "source": [
    "**To assign index name and object name**"
   ]
  },
  {
   "cell_type": "code",
   "execution_count": 33,
   "id": "1ed1b524",
   "metadata": {},
   "outputs": [
    {
     "data": {
      "text/plain": [
       "7.0    49.0\n",
       "4.0    16.0\n",
       "9.0    81.0\n",
       "6.0    36.0\n",
       "7.0    49.0\n",
       "2.0     4.0\n",
       "5.0    25.0\n",
       "4.0    16.0\n",
       "4.0    16.0\n",
       "1.0     1.0\n",
       "7.0    49.0\n",
       "7.0    49.0\n",
       "6.0    36.0\n",
       "4.0    16.0\n",
       "3.0     9.0\n",
       "Name: Square, dtype: float64"
      ]
     },
     "execution_count": 33,
     "metadata": {},
     "output_type": "execute_result"
    }
   ],
   "source": [
    "# assign object name\n",
    "square.name = 'Square'\n",
    "\n",
    "# assign index name\n",
    "square.index.name = 'Number'\n",
    "\n",
    "# print the series\n",
    "square"
   ]
  },
  {
   "cell_type": "markdown",
   "id": "e0b30fd0",
   "metadata": {},
   "source": [
    "**Note:** A Series’s index can be altered in-place by assignment\n",
    "\n",
    "From the output, it is not clear that the index column is labeled, to check whether it is labeled let us print it\n",
    "\n",
    "We use `Series.index` to print the index."
   ]
  },
  {
   "cell_type": "code",
   "execution_count": 34,
   "id": "99a45cbd",
   "metadata": {},
   "outputs": [
    {
     "data": {
      "text/plain": [
       "MultiIndex([(7.0,),\n",
       "            (4.0,),\n",
       "            (9.0,),\n",
       "            (6.0,),\n",
       "            (7.0,),\n",
       "            (2.0,),\n",
       "            (5.0,),\n",
       "            (4.0,),\n",
       "            (4.0,),\n",
       "            (1.0,),\n",
       "            (7.0,),\n",
       "            (7.0,),\n",
       "            (6.0,),\n",
       "            (4.0,),\n",
       "            (3.0,)],\n",
       "           name='Number')"
      ]
     },
     "execution_count": 34,
     "metadata": {},
     "output_type": "execute_result"
    }
   ],
   "source": [
    "# print the index\n",
    "square.index"
   ]
  },
  {
   "cell_type": "markdown",
   "id": "0df835fd",
   "metadata": {},
   "source": [
    "From `name='Number'`, it is seen that the column is labeled."
   ]
  },
  {
   "cell_type": "markdown",
   "id": "a2392908",
   "metadata": {},
   "source": [
    "**Add a number 5 to every element of the series**"
   ]
  },
  {
   "cell_type": "code",
   "execution_count": 35,
   "id": "0e6f9705",
   "metadata": {},
   "outputs": [
    {
     "data": {
      "text/plain": [
       "7.0    54.0\n",
       "4.0    21.0\n",
       "9.0    86.0\n",
       "6.0    41.0\n",
       "7.0    54.0\n",
       "2.0     9.0\n",
       "5.0    30.0\n",
       "4.0    21.0\n",
       "4.0    21.0\n",
       "1.0     6.0\n",
       "7.0    54.0\n",
       "7.0    54.0\n",
       "6.0    41.0\n",
       "4.0    21.0\n",
       "3.0    14.0\n",
       "Name: Square, dtype: float64"
      ]
     },
     "execution_count": 35,
     "metadata": {},
     "output_type": "execute_result"
    }
   ],
   "source": [
    "# add 5 to each element\n",
    "square + 5\n"
   ]
  },
  {
   "cell_type": "markdown",
   "id": "2bebc1bf",
   "metadata": {},
   "source": [
    "**To extract a value specifying the index**"
   ]
  },
  {
   "cell_type": "code",
   "execution_count": 36,
   "id": "cf570dd9",
   "metadata": {},
   "outputs": [
    {
     "data": {
      "text/plain": [
       "7.0    49.0\n",
       "7.0    49.0\n",
       "7.0    49.0\n",
       "7.0    49.0\n",
       "Name: Square, dtype: float64"
      ]
     },
     "execution_count": 36,
     "metadata": {},
     "output_type": "execute_result"
    }
   ],
   "source": [
    "# obtain the value having index 7\n",
    "square[7]"
   ]
  },
  {
   "cell_type": "markdown",
   "id": "5374c961",
   "metadata": {},
   "source": [
    "All values with index as '7' are obtained"
   ]
  },
  {
   "cell_type": "markdown",
   "id": "fce16f6e",
   "metadata": {},
   "source": [
    "**To extract a range of values specifying the location**"
   ]
  },
  {
   "cell_type": "code",
   "execution_count": 39,
   "id": "fbbc9fbd",
   "metadata": {},
   "outputs": [
    {
     "data": {
      "text/plain": [
       "6.0    36.0\n",
       "7.0    49.0\n",
       "2.0     4.0\n",
       "5.0    25.0\n",
       "Name: Square, dtype: float64"
      ]
     },
     "execution_count": 39,
     "metadata": {},
     "output_type": "execute_result"
    }
   ],
   "source": [
    "# extract values having the location \n",
    "# obtain the values from the 3rd position till the 6th position\n",
    "square[3:7]"
   ]
  },
  {
   "cell_type": "markdown",
   "id": "0155e25e",
   "metadata": {},
   "source": [
    "**Usage of `.iloc`**\n",
    "\n",
    "We use `.iloc` to get the values of the specified index of numbers "
   ]
  },
  {
   "cell_type": "code",
   "execution_count": 37,
   "id": "0dbc3311",
   "metadata": {},
   "outputs": [
    {
     "data": {
      "text/plain": [
       "4.0"
      ]
     },
     "execution_count": 37,
     "metadata": {},
     "output_type": "execute_result"
    }
   ],
   "source": [
    "# obtain the value in the 5th position\n",
    "square.iloc[5]"
   ]
  },
  {
   "cell_type": "code",
   "execution_count": 38,
   "id": "4e98c1b0",
   "metadata": {},
   "outputs": [
    {
     "data": {
      "text/plain": [
       "6.0    36.0\n",
       "7.0    49.0\n",
       "2.0     4.0\n",
       "5.0    25.0\n",
       "4.0    16.0\n",
       "4.0    16.0\n",
       "Name: Square, dtype: float64"
      ]
     },
     "execution_count": 38,
     "metadata": {},
     "output_type": "execute_result"
    }
   ],
   "source": [
    "# obtain the values from the 3rd till the 8th position\n",
    "square.iloc[3:9]"
   ]
  },
  {
   "cell_type": "markdown",
   "id": "e502bac1",
   "metadata": {},
   "source": [
    "**Sorting a numeric series**"
   ]
  },
  {
   "cell_type": "code",
   "execution_count": 40,
   "id": "33224c69",
   "metadata": {},
   "outputs": [
    {
     "data": {
      "text/plain": [
       "0    23.0\n",
       "1    45.0\n",
       "2     NaN\n",
       "3    41.0\n",
       "4    23.0\n",
       "5    34.0\n",
       "6    55.0\n",
       "7     NaN\n",
       "8    34.0\n",
       "9    20.0\n",
       "dtype: float64"
      ]
     },
     "execution_count": 40,
     "metadata": {},
     "output_type": "execute_result"
    }
   ],
   "source": [
    "# create a pandas series\n",
    "age = pd.Series([23, 45, np.nan, 41, 23, 34, 55, np.nan, 34, 20])\n",
    "\n",
    "# print values\n",
    "age"
   ]
  },
  {
   "cell_type": "code",
   "execution_count": 41,
   "id": "ea41ab0c",
   "metadata": {},
   "outputs": [
    {
     "data": {
      "text/plain": [
       "9    20.0\n",
       "0    23.0\n",
       "4    23.0\n",
       "5    34.0\n",
       "8    34.0\n",
       "3    41.0\n",
       "1    45.0\n",
       "6    55.0\n",
       "2     NaN\n",
       "7     NaN\n",
       "dtype: float64"
      ]
     },
     "execution_count": 41,
     "metadata": {},
     "output_type": "execute_result"
    }
   ],
   "source": [
    "# ascending order\n",
    "# sort_values: sorts the values\n",
    "# ascending : if specified as True, it sorts values in ascending order (default value is True)\n",
    "age.sort_values(ascending = True)"
   ]
  },
  {
   "cell_type": "code",
   "execution_count": 42,
   "id": "cfbc3700",
   "metadata": {},
   "outputs": [
    {
     "data": {
      "text/plain": [
       "6    55.0\n",
       "1    45.0\n",
       "3    41.0\n",
       "5    34.0\n",
       "8    34.0\n",
       "0    23.0\n",
       "4    23.0\n",
       "9    20.0\n",
       "2     NaN\n",
       "7     NaN\n",
       "dtype: float64"
      ]
     },
     "execution_count": 42,
     "metadata": {},
     "output_type": "execute_result"
    }
   ],
   "source": [
    "# arrange in descending order\n",
    "# sort_values: sorts the values\n",
    "# ascending : if specified as True, it sorts values in ascending order (default value is True)\n",
    "# set ascending to False to sort the values in ascending order\n",
    "age.sort_values(ascending = False)"
   ]
  },
  {
   "cell_type": "markdown",
   "id": "8d217168",
   "metadata": {},
   "source": [
    "**Sorting a categorical series**"
   ]
  },
  {
   "cell_type": "code",
   "execution_count": 43,
   "id": "f14bbea4",
   "metadata": {},
   "outputs": [
    {
     "data": {
      "text/plain": [
       "0    a\n",
       "1    j\n",
       "2    d\n",
       "3    f\n",
       "4    t\n",
       "5    a\n",
       "dtype: object"
      ]
     },
     "execution_count": 43,
     "metadata": {},
     "output_type": "execute_result"
    }
   ],
   "source": [
    "# create a pandas series\n",
    "string_values = pd.Series([\"a\", \"j\", \"d\", \"f\", \"t\", \"a\"])\n",
    "\n",
    "# print the values\n",
    "string_values"
   ]
  },
  {
   "cell_type": "code",
   "execution_count": 44,
   "id": "b7362188",
   "metadata": {},
   "outputs": [
    {
     "data": {
      "text/plain": [
       "0    a\n",
       "5    a\n",
       "2    d\n",
       "3    f\n",
       "1    j\n",
       "4    t\n",
       "dtype: object"
      ]
     },
     "execution_count": 44,
     "metadata": {},
     "output_type": "execute_result"
    }
   ],
   "source": [
    "# ascending order\n",
    "# sort_values: sorts the values\n",
    "# ascending : if specified as True, it sorts values in ascending order (default value is True)\n",
    "string_values.sort_values(ascending = True)"
   ]
  },
  {
   "cell_type": "code",
   "execution_count": 45,
   "id": "59db9c65",
   "metadata": {},
   "outputs": [
    {
     "data": {
      "text/plain": [
       "4    t\n",
       "1    j\n",
       "3    f\n",
       "2    d\n",
       "0    a\n",
       "5    a\n",
       "dtype: object"
      ]
     },
     "execution_count": 45,
     "metadata": {},
     "output_type": "execute_result"
    }
   ],
   "source": [
    "# descending order\n",
    "# sort_values: sorts the values\n",
    "# ascending : if specified as True, it sorts values in ascending order (default value is True)\n",
    "# set ascending to False to sort the values in ascending order\n",
    "string_values.sort_values(ascending = False)"
   ]
  },
  {
   "cell_type": "markdown",
   "id": "5a302c44",
   "metadata": {},
   "source": [
    "**Sorting based on index**"
   ]
  },
  {
   "cell_type": "code",
   "execution_count": 46,
   "id": "bd216680",
   "metadata": {},
   "outputs": [
    {
     "data": {
      "text/plain": [
       "7.0    49.0\n",
       "4.0    16.0\n",
       "9.0    81.0\n",
       "6.0    36.0\n",
       "7.0    49.0\n",
       "2.0     4.0\n",
       "5.0    25.0\n",
       "4.0    16.0\n",
       "4.0    16.0\n",
       "1.0     1.0\n",
       "7.0    49.0\n",
       "7.0    49.0\n",
       "6.0    36.0\n",
       "4.0    16.0\n",
       "3.0     9.0\n",
       "Name: Square, dtype: float64"
      ]
     },
     "execution_count": 46,
     "metadata": {},
     "output_type": "execute_result"
    }
   ],
   "source": [
    "# recall the series 'square'\n",
    "square"
   ]
  },
  {
   "cell_type": "code",
   "execution_count": 47,
   "id": "a1343b3f",
   "metadata": {},
   "outputs": [
    {
     "data": {
      "text/plain": [
       "1.0     1.0\n",
       "2.0     4.0\n",
       "3.0     9.0\n",
       "4.0    16.0\n",
       "4.0    16.0\n",
       "4.0    16.0\n",
       "4.0    16.0\n",
       "5.0    25.0\n",
       "6.0    36.0\n",
       "6.0    36.0\n",
       "7.0    49.0\n",
       "7.0    49.0\n",
       "7.0    49.0\n",
       "7.0    49.0\n",
       "9.0    81.0\n",
       "Name: Square, dtype: float64"
      ]
     },
     "execution_count": 47,
     "metadata": {},
     "output_type": "execute_result"
    }
   ],
   "source": [
    "# sort in ascending order based on index\n",
    "# sort_index: sorts the series based on the index\n",
    "# ascending : if specified as True, it sorts values in ascending order (default value is True)\n",
    "square.sort_index(ascending = True)"
   ]
  },
  {
   "cell_type": "code",
   "execution_count": 48,
   "id": "51ed2751",
   "metadata": {},
   "outputs": [
    {
     "data": {
      "text/plain": [
       "9.0    81.0\n",
       "7.0    49.0\n",
       "7.0    49.0\n",
       "7.0    49.0\n",
       "7.0    49.0\n",
       "6.0    36.0\n",
       "6.0    36.0\n",
       "5.0    25.0\n",
       "4.0    16.0\n",
       "4.0    16.0\n",
       "4.0    16.0\n",
       "4.0    16.0\n",
       "3.0     9.0\n",
       "2.0     4.0\n",
       "1.0     1.0\n",
       "Name: Square, dtype: float64"
      ]
     },
     "execution_count": 48,
     "metadata": {},
     "output_type": "execute_result"
    }
   ],
   "source": [
    "# sort in descending order based on index\n",
    "# sort_index: sorts the series based on the index\n",
    "# ascending : if specified as True, it sorts values in ascending order (default value is True)\n",
    "# set ascending to False to sort the values in ascending order\n",
    "square.sort_index(ascending = False)"
   ]
  },
  {
   "cell_type": "markdown",
   "id": "27912b94",
   "metadata": {},
   "source": [
    "**Rank a Series**"
   ]
  },
  {
   "cell_type": "code",
   "execution_count": 50,
   "id": "acbafe65",
   "metadata": {},
   "outputs": [
    {
     "data": {
      "text/plain": [
       "Maths             60.0\n",
       "Science           89.0\n",
       "Art and Craft     68.0\n",
       "Social Science    86.0\n",
       "dtype: float64"
      ]
     },
     "execution_count": 50,
     "metadata": {},
     "output_type": "execute_result"
    }
   ],
   "source": [
    "# recall the marks_series\n",
    "marks_series"
   ]
  },
  {
   "cell_type": "code",
   "execution_count": 51,
   "id": "78c53054",
   "metadata": {},
   "outputs": [
    {
     "data": {
      "text/plain": [
       "Maths             1.0\n",
       "Science           4.0\n",
       "Art and Craft     2.0\n",
       "Social Science    3.0\n",
       "dtype: float64"
      ]
     },
     "execution_count": 51,
     "metadata": {},
     "output_type": "execute_result"
    }
   ],
   "source": [
    "# rank the marks in ascending order\n",
    "# rank(): ranks the values of a series \n",
    "marks_series.rank()"
   ]
  },
  {
   "cell_type": "code",
   "execution_count": 52,
   "id": "7effb36b",
   "metadata": {},
   "outputs": [
    {
     "data": {
      "text/plain": [
       "Maths             4.0\n",
       "Science           1.0\n",
       "Art and Craft     3.0\n",
       "Social Science    2.0\n",
       "dtype: float64"
      ]
     },
     "execution_count": 52,
     "metadata": {},
     "output_type": "execute_result"
    }
   ],
   "source": [
    "# rank the marks in ascending order\n",
    "# rank(): ranks the values of a series \n",
    "# ascending : if specified as True, it sorts values in ascending order (default value is True)\n",
    "# set ascending to False to sort the values in ascending order\n",
    "marks_series.rank(ascending = False)"
   ]
  },
  {
   "cell_type": "code",
   "execution_count": null,
   "id": "4e488a8e",
   "metadata": {},
   "outputs": [],
   "source": []
  },
  {
   "cell_type": "markdown",
   "id": "10455a55",
   "metadata": {},
   "source": [
    "## 4. Pandas DataFrames\n",
    "\n",
    "A DataFrame is a tabular representation of data containing an ordered collection of columns, each of which can be a different type (such as numeric, string, boolean). <br><br>\n",
    "The DataFrame has both row and column index; it can be thought of as a dict of Series all sharing the same index. In a data frame, the data is stored as one or more two-dimensional blocks rather than a list, dict, or some other collection of one-dimensional arrays. <br><br>\n",
    "While a DataFrame is physically two-dimensional, it can be used to represent higher dimensional data in a tabular format using hierarchical indexing."
   ]
  },
  {
   "cell_type": "markdown",
   "id": "7366f685",
   "metadata": {},
   "source": [
    "### 4.1 Creating DataFrames\n",
    "\n",
    "**Creating a data frame a dictionary**"
   ]
  },
  {
   "cell_type": "code",
   "execution_count": 54,
   "id": "c475ce80",
   "metadata": {},
   "outputs": [
    {
     "name": "stdout",
     "output_type": "stream",
     "text": [
      "    Subject  Marks  GPA\n",
      "0     Maths     45  2.5\n",
      "1   History     65  3.0\n",
      "2   Science     78  3.5\n",
      "3   English     65  2.0\n",
      "4  Georaphy     80  4.0\n",
      "5       Art     78  4.0\n"
     ]
    }
   ],
   "source": [
    "# create a dictionary\n",
    "data = {'Subject': ['Maths', 'History', 'Science', 'English', 'Georaphy', 'Art'],\n",
    "        'Marks': (45, 65, 78, 65, 80, 78),\n",
    "        'GPA': [2.5, 3.0, 3.5, 2.0, 4.0, 4.0]}\n",
    "\n",
    "# create the dataframe using DataFrame()\n",
    "df_marks = pd.DataFrame(data)\n",
    "\n",
    "# print the dataframe\n",
    "print(df_marks)"
   ]
  },
  {
   "cell_type": "markdown",
   "id": "0948fa8e",
   "metadata": {},
   "source": [
    "**Note:** Like Series, the resulting DataFrame is assigned index automatically. And the 'Marks' values are in a tuple. "
   ]
  },
  {
   "cell_type": "markdown",
   "id": "2c48e718",
   "metadata": {},
   "source": [
    "**Another way to create dataframe from dictionary**"
   ]
  },
  {
   "cell_type": "code",
   "execution_count": null,
   "id": "b7aaf3c4",
   "metadata": {},
   "outputs": [],
   "source": [
    "# creare the dictionary\n",
    "data = [{'Subject': 'Maths', 'Marks': 45, 'GPA':2.5},\n",
    "        {'Subject':'History', 'Marks':65, 'GPA':3.0},\n",
    "        {'Subject':'Science', 'Marks':78, 'GPA':3.5},\n",
    "        {'Subject':'English', 'Marks':65, 'GPA':2.0},\n",
    "        {'Subject':'Georaphy', 'Marks':80, 'GPA':4.0},\n",
    "        {'Subject':'Art', 'Marks':78, 'GPA':4.0}]\n",
    "\n",
    "# create the dataframe using DataFrame()\n",
    "df_marks = pd.DataFrame(data)\n",
    "\n",
    "# print the dataframe\n",
    "print(df_marks)"
   ]
  },
  {
   "cell_type": "markdown",
   "id": "43c20c81",
   "metadata": {},
   "source": [
    "**To create dataframe from lists**"
   ]
  },
  {
   "cell_type": "code",
   "execution_count": 56,
   "id": "ac858309",
   "metadata": {},
   "outputs": [],
   "source": [
    "# declare the list 'Subject'\n",
    "Subject = ['Maths', 'History', 'Science', 'English', 'Georaphy', 'Art']\n",
    "\n",
    "# declare the list 'Marks'\n",
    "Marks = [45, 65, 78, 65, 80, 78]\n",
    "\n",
    "# declare the list 'CPA'\n",
    "GPA = [2.5, 3.0, 3.5, 2.0, 4.0, 4.0]"
   ]
  },
  {
   "cell_type": "code",
   "execution_count": 57,
   "id": "86d39846",
   "metadata": {},
   "outputs": [
    {
     "data": {
      "text/html": [
       "<div>\n",
       "<style scoped>\n",
       "    .dataframe tbody tr th:only-of-type {\n",
       "        vertical-align: middle;\n",
       "    }\n",
       "\n",
       "    .dataframe tbody tr th {\n",
       "        vertical-align: top;\n",
       "    }\n",
       "\n",
       "    .dataframe thead th {\n",
       "        text-align: right;\n",
       "    }\n",
       "</style>\n",
       "<table border=\"1\" class=\"dataframe\">\n",
       "  <thead>\n",
       "    <tr style=\"text-align: right;\">\n",
       "      <th></th>\n",
       "      <th>0</th>\n",
       "      <th>1</th>\n",
       "      <th>2</th>\n",
       "      <th>3</th>\n",
       "      <th>4</th>\n",
       "      <th>5</th>\n",
       "    </tr>\n",
       "  </thead>\n",
       "  <tbody>\n",
       "    <tr>\n",
       "      <th>Subject</th>\n",
       "      <td>Maths</td>\n",
       "      <td>History</td>\n",
       "      <td>Science</td>\n",
       "      <td>English</td>\n",
       "      <td>Georaphy</td>\n",
       "      <td>Art</td>\n",
       "    </tr>\n",
       "    <tr>\n",
       "      <th>Marks</th>\n",
       "      <td>45</td>\n",
       "      <td>65</td>\n",
       "      <td>78</td>\n",
       "      <td>65</td>\n",
       "      <td>80</td>\n",
       "      <td>78</td>\n",
       "    </tr>\n",
       "    <tr>\n",
       "      <th>GPA</th>\n",
       "      <td>2.5</td>\n",
       "      <td>3.0</td>\n",
       "      <td>3.5</td>\n",
       "      <td>2.0</td>\n",
       "      <td>4.0</td>\n",
       "      <td>4.0</td>\n",
       "    </tr>\n",
       "  </tbody>\n",
       "</table>\n",
       "</div>"
      ],
      "text/plain": [
       "             0        1        2        3         4    5\n",
       "Subject  Maths  History  Science  English  Georaphy  Art\n",
       "Marks       45       65       78       65        80   78\n",
       "GPA        2.5      3.0      3.5      2.0       4.0  4.0"
      ]
     },
     "execution_count": 57,
     "metadata": {},
     "output_type": "execute_result"
    }
   ],
   "source": [
    "# create a DataFrame from the lists\n",
    "# index: specifies the index names\n",
    "df_marks = pd.DataFrame([Subject, Marks, GPA], index = ['Subject','Marks','GPA'])\n",
    "\n",
    "# print the DataFrame\n",
    "df_marks"
   ]
  },
  {
   "cell_type": "markdown",
   "id": "1257dafa",
   "metadata": {},
   "source": [
    "However to want a vertical dataframe so we use `.T`. The 'T' stands for transpose."
   ]
  },
  {
   "cell_type": "code",
   "execution_count": 58,
   "id": "7083135c",
   "metadata": {},
   "outputs": [
    {
     "data": {
      "text/html": [
       "<div>\n",
       "<style scoped>\n",
       "    .dataframe tbody tr th:only-of-type {\n",
       "        vertical-align: middle;\n",
       "    }\n",
       "\n",
       "    .dataframe tbody tr th {\n",
       "        vertical-align: top;\n",
       "    }\n",
       "\n",
       "    .dataframe thead th {\n",
       "        text-align: right;\n",
       "    }\n",
       "</style>\n",
       "<table border=\"1\" class=\"dataframe\">\n",
       "  <thead>\n",
       "    <tr style=\"text-align: right;\">\n",
       "      <th></th>\n",
       "      <th>Subject</th>\n",
       "      <th>Marks</th>\n",
       "      <th>GPA</th>\n",
       "    </tr>\n",
       "  </thead>\n",
       "  <tbody>\n",
       "    <tr>\n",
       "      <th>0</th>\n",
       "      <td>Maths</td>\n",
       "      <td>45</td>\n",
       "      <td>2.5</td>\n",
       "    </tr>\n",
       "    <tr>\n",
       "      <th>1</th>\n",
       "      <td>History</td>\n",
       "      <td>65</td>\n",
       "      <td>3.0</td>\n",
       "    </tr>\n",
       "    <tr>\n",
       "      <th>2</th>\n",
       "      <td>Science</td>\n",
       "      <td>78</td>\n",
       "      <td>3.5</td>\n",
       "    </tr>\n",
       "    <tr>\n",
       "      <th>3</th>\n",
       "      <td>English</td>\n",
       "      <td>65</td>\n",
       "      <td>2.0</td>\n",
       "    </tr>\n",
       "    <tr>\n",
       "      <th>4</th>\n",
       "      <td>Georaphy</td>\n",
       "      <td>80</td>\n",
       "      <td>4.0</td>\n",
       "    </tr>\n",
       "    <tr>\n",
       "      <th>5</th>\n",
       "      <td>Art</td>\n",
       "      <td>78</td>\n",
       "      <td>4.0</td>\n",
       "    </tr>\n",
       "  </tbody>\n",
       "</table>\n",
       "</div>"
      ],
      "text/plain": [
       "    Subject Marks  GPA\n",
       "0     Maths    45  2.5\n",
       "1   History    65  3.0\n",
       "2   Science    78  3.5\n",
       "3   English    65  2.0\n",
       "4  Georaphy    80  4.0\n",
       "5       Art    78  4.0"
      ]
     },
     "execution_count": 58,
     "metadata": {},
     "output_type": "execute_result"
    }
   ],
   "source": [
    "# transpose the DataFrame\n",
    "df_marks.T"
   ]
  },
  {
   "cell_type": "markdown",
   "id": "5117c3c6",
   "metadata": {},
   "source": [
    "**To create dataframe from series**"
   ]
  },
  {
   "cell_type": "code",
   "execution_count": 59,
   "id": "1d9d3083",
   "metadata": {},
   "outputs": [],
   "source": [
    "# declare the series 'Subject'\n",
    "Subject = pd.Series(['Maths', 'History', 'Science', 'English', 'Georaphy', 'Art'])\n",
    "\n",
    "# declare the series 'Marks'\n",
    "Marks = pd.Series([45, 65, 78, 65, 80, 78])\n",
    "\n",
    "# declare the series 'GPA'\n",
    "GPA = pd.Series([2.5, 3.0, 3.5, 2.0, 4.0, 4.0])"
   ]
  },
  {
   "cell_type": "code",
   "execution_count": 60,
   "id": "bd5aa769",
   "metadata": {},
   "outputs": [
    {
     "data": {
      "text/html": [
       "<div>\n",
       "<style scoped>\n",
       "    .dataframe tbody tr th:only-of-type {\n",
       "        vertical-align: middle;\n",
       "    }\n",
       "\n",
       "    .dataframe tbody tr th {\n",
       "        vertical-align: top;\n",
       "    }\n",
       "\n",
       "    .dataframe thead th {\n",
       "        text-align: right;\n",
       "    }\n",
       "</style>\n",
       "<table border=\"1\" class=\"dataframe\">\n",
       "  <thead>\n",
       "    <tr style=\"text-align: right;\">\n",
       "      <th></th>\n",
       "      <th>0</th>\n",
       "      <th>1</th>\n",
       "      <th>2</th>\n",
       "      <th>3</th>\n",
       "      <th>4</th>\n",
       "      <th>5</th>\n",
       "    </tr>\n",
       "  </thead>\n",
       "  <tbody>\n",
       "    <tr>\n",
       "      <th>Subject</th>\n",
       "      <td>Maths</td>\n",
       "      <td>History</td>\n",
       "      <td>Science</td>\n",
       "      <td>English</td>\n",
       "      <td>Georaphy</td>\n",
       "      <td>Art</td>\n",
       "    </tr>\n",
       "    <tr>\n",
       "      <th>Marks</th>\n",
       "      <td>45</td>\n",
       "      <td>65</td>\n",
       "      <td>78</td>\n",
       "      <td>65</td>\n",
       "      <td>80</td>\n",
       "      <td>78</td>\n",
       "    </tr>\n",
       "    <tr>\n",
       "      <th>GPA</th>\n",
       "      <td>2.5</td>\n",
       "      <td>3.0</td>\n",
       "      <td>3.5</td>\n",
       "      <td>2.0</td>\n",
       "      <td>4.0</td>\n",
       "      <td>4.0</td>\n",
       "    </tr>\n",
       "  </tbody>\n",
       "</table>\n",
       "</div>"
      ],
      "text/plain": [
       "             0        1        2        3         4    5\n",
       "Subject  Maths  History  Science  English  Georaphy  Art\n",
       "Marks       45       65       78       65        80   78\n",
       "GPA        2.5      3.0      3.5      2.0       4.0  4.0"
      ]
     },
     "execution_count": 60,
     "metadata": {},
     "output_type": "execute_result"
    }
   ],
   "source": [
    "# create a DataFrame from the Series\n",
    "# index: specifies the index names\n",
    "df_marks = pd.DataFrame([Subject, Marks, GPA], index = ['Subject','Marks','GPA'])\n",
    "\n",
    "# print the DataFrame\n",
    "df_marks"
   ]
  },
  {
   "cell_type": "markdown",
   "id": "1f1eb8b1",
   "metadata": {},
   "source": [
    "However to want a vertical dataframe so we use `.T`. The 'T' stands for transpose."
   ]
  },
  {
   "cell_type": "code",
   "execution_count": 61,
   "id": "6d94058d",
   "metadata": {},
   "outputs": [
    {
     "data": {
      "text/html": [
       "<div>\n",
       "<style scoped>\n",
       "    .dataframe tbody tr th:only-of-type {\n",
       "        vertical-align: middle;\n",
       "    }\n",
       "\n",
       "    .dataframe tbody tr th {\n",
       "        vertical-align: top;\n",
       "    }\n",
       "\n",
       "    .dataframe thead th {\n",
       "        text-align: right;\n",
       "    }\n",
       "</style>\n",
       "<table border=\"1\" class=\"dataframe\">\n",
       "  <thead>\n",
       "    <tr style=\"text-align: right;\">\n",
       "      <th></th>\n",
       "      <th>Subject</th>\n",
       "      <th>Marks</th>\n",
       "      <th>GPA</th>\n",
       "    </tr>\n",
       "  </thead>\n",
       "  <tbody>\n",
       "    <tr>\n",
       "      <th>0</th>\n",
       "      <td>Maths</td>\n",
       "      <td>45</td>\n",
       "      <td>2.5</td>\n",
       "    </tr>\n",
       "    <tr>\n",
       "      <th>1</th>\n",
       "      <td>History</td>\n",
       "      <td>65</td>\n",
       "      <td>3.0</td>\n",
       "    </tr>\n",
       "    <tr>\n",
       "      <th>2</th>\n",
       "      <td>Science</td>\n",
       "      <td>78</td>\n",
       "      <td>3.5</td>\n",
       "    </tr>\n",
       "    <tr>\n",
       "      <th>3</th>\n",
       "      <td>English</td>\n",
       "      <td>65</td>\n",
       "      <td>2.0</td>\n",
       "    </tr>\n",
       "    <tr>\n",
       "      <th>4</th>\n",
       "      <td>Georaphy</td>\n",
       "      <td>80</td>\n",
       "      <td>4.0</td>\n",
       "    </tr>\n",
       "    <tr>\n",
       "      <th>5</th>\n",
       "      <td>Art</td>\n",
       "      <td>78</td>\n",
       "      <td>4.0</td>\n",
       "    </tr>\n",
       "  </tbody>\n",
       "</table>\n",
       "</div>"
      ],
      "text/plain": [
       "    Subject Marks  GPA\n",
       "0     Maths    45  2.5\n",
       "1   History    65  3.0\n",
       "2   Science    78  3.5\n",
       "3   English    65  2.0\n",
       "4  Georaphy    80  4.0\n",
       "5       Art    78  4.0"
      ]
     },
     "execution_count": 61,
     "metadata": {},
     "output_type": "execute_result"
    }
   ],
   "source": [
    "# transpose the DataFrame\n",
    "df_marks.T"
   ]
  },
  {
   "cell_type": "markdown",
   "id": "2ef43192",
   "metadata": {},
   "source": [
    "**Remark:** Assign a name to the data frame and then use `.T` to transpose it."
   ]
  },
  {
   "cell_type": "markdown",
   "id": "e1d21c22",
   "metadata": {},
   "source": [
    "**To read data from csv file**"
   ]
  },
  {
   "cell_type": "code",
   "execution_count": 63,
   "id": "dc3110ab",
   "metadata": {},
   "outputs": [],
   "source": [
    "df_basic_info = pd.read_csv(\"basic_info.csv\")"
   ]
  },
  {
   "cell_type": "code",
   "execution_count": 64,
   "id": "6ccada74",
   "metadata": {},
   "outputs": [
    {
     "data": {
      "text/plain": [
       "pandas.core.frame.DataFrame"
      ]
     },
     "execution_count": 64,
     "metadata": {},
     "output_type": "execute_result"
    }
   ],
   "source": [
    "type(df_basic_info)"
   ]
  },
  {
   "cell_type": "markdown",
   "id": "86cf522a",
   "metadata": {},
   "source": [
    "On checking the data type, we notice it is read as pandas data frame."
   ]
  },
  {
   "cell_type": "code",
   "execution_count": 65,
   "id": "d4bc6c51",
   "metadata": {},
   "outputs": [
    {
     "name": "stdout",
     "output_type": "stream",
     "text": [
      "    Age  Weight (in kg)  Height (in m)\n",
      "0    45              60           1.35\n",
      "1    12              43           1.21\n",
      "2    54              78           1.50\n",
      "3    26              65           1.21\n",
      "4    68              50           1.32\n",
      "5    21              43           1.52\n",
      "6    10              32           1.65\n",
      "7    57              34           1.61\n",
      "8    75              23           1.24\n",
      "9    32              21           1.52\n",
      "10   23              53           1.50\n",
      "11   34              65           1.76\n",
      "12   55              89           1.65\n",
      "13   23              45           1.75\n",
      "14   56              76           1.69\n",
      "15   67              78           1.85\n",
      "16   26              65           1.21\n",
      "17   56              74           1.69\n",
      "18   67              78           1.85\n",
      "19   26              65           1.21\n",
      "20   68              50           1.32\n",
      "21   56              76           1.69\n",
      "22   67              78           1.85\n"
     ]
    }
   ],
   "source": [
    "print(df_basic_info)"
   ]
  },
  {
   "cell_type": "markdown",
   "id": "8fb840ed",
   "metadata": {},
   "source": [
    "**To print head of the data**"
   ]
  },
  {
   "cell_type": "code",
   "execution_count": 66,
   "id": "72181e37",
   "metadata": {},
   "outputs": [
    {
     "data": {
      "text/html": [
       "<div>\n",
       "<style scoped>\n",
       "    .dataframe tbody tr th:only-of-type {\n",
       "        vertical-align: middle;\n",
       "    }\n",
       "\n",
       "    .dataframe tbody tr th {\n",
       "        vertical-align: top;\n",
       "    }\n",
       "\n",
       "    .dataframe thead th {\n",
       "        text-align: right;\n",
       "    }\n",
       "</style>\n",
       "<table border=\"1\" class=\"dataframe\">\n",
       "  <thead>\n",
       "    <tr style=\"text-align: right;\">\n",
       "      <th></th>\n",
       "      <th>Age</th>\n",
       "      <th>Weight (in kg)</th>\n",
       "      <th>Height (in m)</th>\n",
       "    </tr>\n",
       "  </thead>\n",
       "  <tbody>\n",
       "    <tr>\n",
       "      <th>0</th>\n",
       "      <td>45</td>\n",
       "      <td>60</td>\n",
       "      <td>1.35</td>\n",
       "    </tr>\n",
       "    <tr>\n",
       "      <th>1</th>\n",
       "      <td>12</td>\n",
       "      <td>43</td>\n",
       "      <td>1.21</td>\n",
       "    </tr>\n",
       "    <tr>\n",
       "      <th>2</th>\n",
       "      <td>54</td>\n",
       "      <td>78</td>\n",
       "      <td>1.50</td>\n",
       "    </tr>\n",
       "    <tr>\n",
       "      <th>3</th>\n",
       "      <td>26</td>\n",
       "      <td>65</td>\n",
       "      <td>1.21</td>\n",
       "    </tr>\n",
       "    <tr>\n",
       "      <th>4</th>\n",
       "      <td>68</td>\n",
       "      <td>50</td>\n",
       "      <td>1.32</td>\n",
       "    </tr>\n",
       "  </tbody>\n",
       "</table>\n",
       "</div>"
      ],
      "text/plain": [
       "   Age  Weight (in kg)  Height (in m)\n",
       "0   45              60           1.35\n",
       "1   12              43           1.21\n",
       "2   54              78           1.50\n",
       "3   26              65           1.21\n",
       "4   68              50           1.32"
      ]
     },
     "execution_count": 66,
     "metadata": {},
     "output_type": "execute_result"
    }
   ],
   "source": [
    "# display the first 5 rows of the DataFrame\n",
    "# head(): displays the first 5 rows\n",
    "# to display more rows, for example 15, use head(15)\n",
    "# the default value is 5\n",
    "df_basic_info.head()"
   ]
  },
  {
   "cell_type": "markdown",
   "id": "2401c509",
   "metadata": {},
   "source": [
    "By default, the `.head()` will display **first** five rows. However, we can set the desired number of rows to be displayed.<br>\n",
    "\n",
    "Say we want to see the first 9 rows, we write the number 9 in the parentheses."
   ]
  },
  {
   "cell_type": "code",
   "execution_count": 68,
   "id": "c611d414",
   "metadata": {},
   "outputs": [
    {
     "data": {
      "text/html": [
       "<div>\n",
       "<style scoped>\n",
       "    .dataframe tbody tr th:only-of-type {\n",
       "        vertical-align: middle;\n",
       "    }\n",
       "\n",
       "    .dataframe tbody tr th {\n",
       "        vertical-align: top;\n",
       "    }\n",
       "\n",
       "    .dataframe thead th {\n",
       "        text-align: right;\n",
       "    }\n",
       "</style>\n",
       "<table border=\"1\" class=\"dataframe\">\n",
       "  <thead>\n",
       "    <tr style=\"text-align: right;\">\n",
       "      <th></th>\n",
       "      <th>Age</th>\n",
       "      <th>Weight (in kg)</th>\n",
       "      <th>Height (in m)</th>\n",
       "    </tr>\n",
       "  </thead>\n",
       "  <tbody>\n",
       "    <tr>\n",
       "      <th>0</th>\n",
       "      <td>45</td>\n",
       "      <td>60</td>\n",
       "      <td>1.35</td>\n",
       "    </tr>\n",
       "    <tr>\n",
       "      <th>1</th>\n",
       "      <td>12</td>\n",
       "      <td>43</td>\n",
       "      <td>1.21</td>\n",
       "    </tr>\n",
       "    <tr>\n",
       "      <th>2</th>\n",
       "      <td>54</td>\n",
       "      <td>78</td>\n",
       "      <td>1.50</td>\n",
       "    </tr>\n",
       "    <tr>\n",
       "      <th>3</th>\n",
       "      <td>26</td>\n",
       "      <td>65</td>\n",
       "      <td>1.21</td>\n",
       "    </tr>\n",
       "    <tr>\n",
       "      <th>4</th>\n",
       "      <td>68</td>\n",
       "      <td>50</td>\n",
       "      <td>1.32</td>\n",
       "    </tr>\n",
       "    <tr>\n",
       "      <th>5</th>\n",
       "      <td>21</td>\n",
       "      <td>43</td>\n",
       "      <td>1.52</td>\n",
       "    </tr>\n",
       "    <tr>\n",
       "      <th>6</th>\n",
       "      <td>10</td>\n",
       "      <td>32</td>\n",
       "      <td>1.65</td>\n",
       "    </tr>\n",
       "    <tr>\n",
       "      <th>7</th>\n",
       "      <td>57</td>\n",
       "      <td>34</td>\n",
       "      <td>1.61</td>\n",
       "    </tr>\n",
       "    <tr>\n",
       "      <th>8</th>\n",
       "      <td>75</td>\n",
       "      <td>23</td>\n",
       "      <td>1.24</td>\n",
       "    </tr>\n",
       "  </tbody>\n",
       "</table>\n",
       "</div>"
      ],
      "text/plain": [
       "   Age  Weight (in kg)  Height (in m)\n",
       "0   45              60           1.35\n",
       "1   12              43           1.21\n",
       "2   54              78           1.50\n",
       "3   26              65           1.21\n",
       "4   68              50           1.32\n",
       "5   21              43           1.52\n",
       "6   10              32           1.65\n",
       "7   57              34           1.61\n",
       "8   75              23           1.24"
      ]
     },
     "execution_count": 68,
     "metadata": {},
     "output_type": "execute_result"
    }
   ],
   "source": [
    "# display 9 rows\n",
    "df_basic_info.head(9)"
   ]
  },
  {
   "cell_type": "markdown",
   "id": "2b415e79",
   "metadata": {},
   "source": [
    "**To print tail of the data**"
   ]
  },
  {
   "cell_type": "code",
   "execution_count": 69,
   "id": "d4b722ba",
   "metadata": {},
   "outputs": [
    {
     "data": {
      "text/html": [
       "<div>\n",
       "<style scoped>\n",
       "    .dataframe tbody tr th:only-of-type {\n",
       "        vertical-align: middle;\n",
       "    }\n",
       "\n",
       "    .dataframe tbody tr th {\n",
       "        vertical-align: top;\n",
       "    }\n",
       "\n",
       "    .dataframe thead th {\n",
       "        text-align: right;\n",
       "    }\n",
       "</style>\n",
       "<table border=\"1\" class=\"dataframe\">\n",
       "  <thead>\n",
       "    <tr style=\"text-align: right;\">\n",
       "      <th></th>\n",
       "      <th>Age</th>\n",
       "      <th>Weight (in kg)</th>\n",
       "      <th>Height (in m)</th>\n",
       "    </tr>\n",
       "  </thead>\n",
       "  <tbody>\n",
       "    <tr>\n",
       "      <th>18</th>\n",
       "      <td>67</td>\n",
       "      <td>78</td>\n",
       "      <td>1.85</td>\n",
       "    </tr>\n",
       "    <tr>\n",
       "      <th>19</th>\n",
       "      <td>26</td>\n",
       "      <td>65</td>\n",
       "      <td>1.21</td>\n",
       "    </tr>\n",
       "    <tr>\n",
       "      <th>20</th>\n",
       "      <td>68</td>\n",
       "      <td>50</td>\n",
       "      <td>1.32</td>\n",
       "    </tr>\n",
       "    <tr>\n",
       "      <th>21</th>\n",
       "      <td>56</td>\n",
       "      <td>76</td>\n",
       "      <td>1.69</td>\n",
       "    </tr>\n",
       "    <tr>\n",
       "      <th>22</th>\n",
       "      <td>67</td>\n",
       "      <td>78</td>\n",
       "      <td>1.85</td>\n",
       "    </tr>\n",
       "  </tbody>\n",
       "</table>\n",
       "</div>"
      ],
      "text/plain": [
       "    Age  Weight (in kg)  Height (in m)\n",
       "18   67              78           1.85\n",
       "19   26              65           1.21\n",
       "20   68              50           1.32\n",
       "21   56              76           1.69\n",
       "22   67              78           1.85"
      ]
     },
     "execution_count": 69,
     "metadata": {},
     "output_type": "execute_result"
    }
   ],
   "source": [
    "# to display the last 5 rows\n",
    "df_basic_info.tail()"
   ]
  },
  {
   "cell_type": "markdown",
   "id": "ff820e05",
   "metadata": {},
   "source": [
    "By default, the `.tail()` will display **last** five rows. However, we can set the desired number of rows to be displayed.\n",
    "\n",
    "Say we want to see the last 14 rows, we write the number 14 in the parentheses."
   ]
  },
  {
   "cell_type": "code",
   "execution_count": 70,
   "id": "55ffe0c6",
   "metadata": {},
   "outputs": [
    {
     "data": {
      "text/html": [
       "<div>\n",
       "<style scoped>\n",
       "    .dataframe tbody tr th:only-of-type {\n",
       "        vertical-align: middle;\n",
       "    }\n",
       "\n",
       "    .dataframe tbody tr th {\n",
       "        vertical-align: top;\n",
       "    }\n",
       "\n",
       "    .dataframe thead th {\n",
       "        text-align: right;\n",
       "    }\n",
       "</style>\n",
       "<table border=\"1\" class=\"dataframe\">\n",
       "  <thead>\n",
       "    <tr style=\"text-align: right;\">\n",
       "      <th></th>\n",
       "      <th>Age</th>\n",
       "      <th>Weight (in kg)</th>\n",
       "      <th>Height (in m)</th>\n",
       "    </tr>\n",
       "  </thead>\n",
       "  <tbody>\n",
       "    <tr>\n",
       "      <th>9</th>\n",
       "      <td>32</td>\n",
       "      <td>21</td>\n",
       "      <td>1.52</td>\n",
       "    </tr>\n",
       "    <tr>\n",
       "      <th>10</th>\n",
       "      <td>23</td>\n",
       "      <td>53</td>\n",
       "      <td>1.50</td>\n",
       "    </tr>\n",
       "    <tr>\n",
       "      <th>11</th>\n",
       "      <td>34</td>\n",
       "      <td>65</td>\n",
       "      <td>1.76</td>\n",
       "    </tr>\n",
       "    <tr>\n",
       "      <th>12</th>\n",
       "      <td>55</td>\n",
       "      <td>89</td>\n",
       "      <td>1.65</td>\n",
       "    </tr>\n",
       "    <tr>\n",
       "      <th>13</th>\n",
       "      <td>23</td>\n",
       "      <td>45</td>\n",
       "      <td>1.75</td>\n",
       "    </tr>\n",
       "    <tr>\n",
       "      <th>14</th>\n",
       "      <td>56</td>\n",
       "      <td>76</td>\n",
       "      <td>1.69</td>\n",
       "    </tr>\n",
       "    <tr>\n",
       "      <th>15</th>\n",
       "      <td>67</td>\n",
       "      <td>78</td>\n",
       "      <td>1.85</td>\n",
       "    </tr>\n",
       "    <tr>\n",
       "      <th>16</th>\n",
       "      <td>26</td>\n",
       "      <td>65</td>\n",
       "      <td>1.21</td>\n",
       "    </tr>\n",
       "    <tr>\n",
       "      <th>17</th>\n",
       "      <td>56</td>\n",
       "      <td>74</td>\n",
       "      <td>1.69</td>\n",
       "    </tr>\n",
       "    <tr>\n",
       "      <th>18</th>\n",
       "      <td>67</td>\n",
       "      <td>78</td>\n",
       "      <td>1.85</td>\n",
       "    </tr>\n",
       "    <tr>\n",
       "      <th>19</th>\n",
       "      <td>26</td>\n",
       "      <td>65</td>\n",
       "      <td>1.21</td>\n",
       "    </tr>\n",
       "    <tr>\n",
       "      <th>20</th>\n",
       "      <td>68</td>\n",
       "      <td>50</td>\n",
       "      <td>1.32</td>\n",
       "    </tr>\n",
       "    <tr>\n",
       "      <th>21</th>\n",
       "      <td>56</td>\n",
       "      <td>76</td>\n",
       "      <td>1.69</td>\n",
       "    </tr>\n",
       "    <tr>\n",
       "      <th>22</th>\n",
       "      <td>67</td>\n",
       "      <td>78</td>\n",
       "      <td>1.85</td>\n",
       "    </tr>\n",
       "  </tbody>\n",
       "</table>\n",
       "</div>"
      ],
      "text/plain": [
       "    Age  Weight (in kg)  Height (in m)\n",
       "9    32              21           1.52\n",
       "10   23              53           1.50\n",
       "11   34              65           1.76\n",
       "12   55              89           1.65\n",
       "13   23              45           1.75\n",
       "14   56              76           1.69\n",
       "15   67              78           1.85\n",
       "16   26              65           1.21\n",
       "17   56              74           1.69\n",
       "18   67              78           1.85\n",
       "19   26              65           1.21\n",
       "20   68              50           1.32\n",
       "21   56              76           1.69\n",
       "22   67              78           1.85"
      ]
     },
     "execution_count": 70,
     "metadata": {},
     "output_type": "execute_result"
    }
   ],
   "source": [
    "# to display the last 14 rows\n",
    "df_basic_info.tail(14)"
   ]
  },
  {
   "cell_type": "markdown",
   "id": "825aecec",
   "metadata": {},
   "source": [
    "**To obtain the dimension of the data**"
   ]
  },
  {
   "cell_type": "code",
   "execution_count": 71,
   "id": "ca3663ed",
   "metadata": {},
   "outputs": [
    {
     "data": {
      "text/plain": [
       "(23, 3)"
      ]
     },
     "execution_count": 71,
     "metadata": {},
     "output_type": "execute_result"
    }
   ],
   "source": [
    "# to display the shape of the data\n",
    "df_basic_info.shape"
   ]
  },
  {
   "cell_type": "markdown",
   "id": "aba01012",
   "metadata": {},
   "source": [
    "**To know the data types of a data frame**"
   ]
  },
  {
   "cell_type": "code",
   "execution_count": 73,
   "id": "4d7d25c1",
   "metadata": {},
   "outputs": [
    {
     "data": {
      "text/plain": [
       "Age                 int64\n",
       "Weight (in kg)      int64\n",
       "Height (in m)     float64\n",
       "dtype: object"
      ]
     },
     "execution_count": 73,
     "metadata": {},
     "output_type": "execute_result"
    }
   ],
   "source": [
    "# to know the type of each variable\n",
    "df_basic_info.dtypes"
   ]
  },
  {
   "cell_type": "markdown",
   "id": "3af6d9a2",
   "metadata": {},
   "source": [
    "We see the data type of each variable."
   ]
  },
  {
   "cell_type": "markdown",
   "id": "c75f7580",
   "metadata": {},
   "source": [
    "**To know some information of the data**"
   ]
  },
  {
   "cell_type": "code",
   "execution_count": 74,
   "id": "b5ea7a77",
   "metadata": {},
   "outputs": [
    {
     "name": "stdout",
     "output_type": "stream",
     "text": [
      "<class 'pandas.core.frame.DataFrame'>\n",
      "RangeIndex: 23 entries, 0 to 22\n",
      "Data columns (total 3 columns):\n",
      " #   Column          Non-Null Count  Dtype  \n",
      "---  ------          --------------  -----  \n",
      " 0   Age             23 non-null     int64  \n",
      " 1   Weight (in kg)  23 non-null     int64  \n",
      " 2   Height (in m)   23 non-null     float64\n",
      "dtypes: float64(1), int64(2)\n",
      "memory usage: 680.0 bytes\n"
     ]
    }
   ],
   "source": [
    "# to know information on the variables in the data\n",
    "df_basic_info.info()"
   ]
  },
  {
   "cell_type": "markdown",
   "id": "a16ce0fe",
   "metadata": {},
   "source": [
    "We see this output gives the number of rows present in the data `RangeIndex: 23 entries, 0 to 22` There are 23 rows numbered from 0 to 22. And there are a total of three columns - `Data columns (total 3 columns)`. \n",
    "\n",
    "Consider `Age 23 non-null int64` indicates that the column named 'Age' has 23 non-null observations having the data type 'int64'\n",
    "\n",
    "And finally the memory used to save this dataframe is 680 bytes."
   ]
  },
  {
   "cell_type": "markdown",
   "id": "21978a4e",
   "metadata": {},
   "source": [
    "**To check the data type of column in the data frame**"
   ]
  },
  {
   "cell_type": "code",
   "execution_count": 75,
   "id": "b22121b2",
   "metadata": {},
   "outputs": [
    {
     "data": {
      "text/plain": [
       "pandas.core.series.Series"
      ]
     },
     "execution_count": 75,
     "metadata": {},
     "output_type": "execute_result"
    }
   ],
   "source": [
    "# check the type of each variable\n",
    "type(df_basic_info.Age)"
   ]
  },
  {
   "cell_type": "code",
   "execution_count": 76,
   "id": "6e4ff6fd",
   "metadata": {},
   "outputs": [
    {
     "data": {
      "text/plain": [
       "pandas.core.series.Series"
      ]
     },
     "execution_count": 76,
     "metadata": {},
     "output_type": "execute_result"
    }
   ],
   "source": [
    "# check the type of each variable\n",
    "type(df_basic_info[\"Weight (in kg)\"])"
   ]
  },
  {
   "cell_type": "code",
   "execution_count": 77,
   "id": "d4f59754",
   "metadata": {},
   "outputs": [
    {
     "data": {
      "text/plain": [
       "pandas.core.series.Series"
      ]
     },
     "execution_count": 77,
     "metadata": {},
     "output_type": "execute_result"
    }
   ],
   "source": [
    "# check the type of each variable\n",
    "type(df_basic_info[\"Height (in m)\"])"
   ]
  },
  {
   "cell_type": "markdown",
   "id": "de15e980",
   "metadata": {},
   "source": [
    "**Note that every column of the data frame is a pandas Series.**"
   ]
  },
  {
   "cell_type": "markdown",
   "id": "989900f8",
   "metadata": {},
   "source": [
    "### Manipulating DataFrames \n",
    "\n",
    "### Add new column and rows\n",
    "\n",
    " **Remark:**   \n",
    " 1. DataFrame[column] works for any column name, but DataFrame.column only works when the column name is a valid Python variable name.<br>\n",
    " 2. New columns cannot be created with the ` df_basic_info.BMI ` syntax."
   ]
  },
  {
   "cell_type": "markdown",
   "id": "9fc5e8b0",
   "metadata": {},
   "source": [
    "**Adding a new column to the data set**"
   ]
  },
  {
   "cell_type": "code",
   "execution_count": 80,
   "id": "90400198",
   "metadata": {},
   "outputs": [
    {
     "data": {
      "text/html": [
       "<div>\n",
       "<style scoped>\n",
       "    .dataframe tbody tr th:only-of-type {\n",
       "        vertical-align: middle;\n",
       "    }\n",
       "\n",
       "    .dataframe tbody tr th {\n",
       "        vertical-align: top;\n",
       "    }\n",
       "\n",
       "    .dataframe thead th {\n",
       "        text-align: right;\n",
       "    }\n",
       "</style>\n",
       "<table border=\"1\" class=\"dataframe\">\n",
       "  <thead>\n",
       "    <tr style=\"text-align: right;\">\n",
       "      <th></th>\n",
       "      <th>Age</th>\n",
       "      <th>Weight (in kg)</th>\n",
       "      <th>Height (in m)</th>\n",
       "      <th>BMI</th>\n",
       "    </tr>\n",
       "  </thead>\n",
       "  <tbody>\n",
       "    <tr>\n",
       "      <th>0</th>\n",
       "      <td>45</td>\n",
       "      <td>60</td>\n",
       "      <td>1.35</td>\n",
       "      <td>32.921811</td>\n",
       "    </tr>\n",
       "    <tr>\n",
       "      <th>1</th>\n",
       "      <td>12</td>\n",
       "      <td>43</td>\n",
       "      <td>1.21</td>\n",
       "      <td>29.369579</td>\n",
       "    </tr>\n",
       "    <tr>\n",
       "      <th>2</th>\n",
       "      <td>54</td>\n",
       "      <td>78</td>\n",
       "      <td>1.50</td>\n",
       "      <td>34.666667</td>\n",
       "    </tr>\n",
       "    <tr>\n",
       "      <th>3</th>\n",
       "      <td>26</td>\n",
       "      <td>65</td>\n",
       "      <td>1.21</td>\n",
       "      <td>44.395875</td>\n",
       "    </tr>\n",
       "    <tr>\n",
       "      <th>4</th>\n",
       "      <td>68</td>\n",
       "      <td>50</td>\n",
       "      <td>1.32</td>\n",
       "      <td>28.696051</td>\n",
       "    </tr>\n",
       "  </tbody>\n",
       "</table>\n",
       "</div>"
      ],
      "text/plain": [
       "   Age  Weight (in kg)  Height (in m)        BMI\n",
       "0   45              60           1.35  32.921811\n",
       "1   12              43           1.21  29.369579\n",
       "2   54              78           1.50  34.666667\n",
       "3   26              65           1.21  44.395875\n",
       "4   68              50           1.32  28.696051"
      ]
     },
     "execution_count": 80,
     "metadata": {},
     "output_type": "execute_result"
    }
   ],
   "source": [
    "# create a new variable BMI\n",
    "df_basic_info[\"BMI\"] = df_basic_info[\"Weight (in kg)\"] / df_basic_info[\"Height (in m)\"]**2\n",
    "\n",
    "# print the DataFrame\n",
    "df_basic_info.head()"
   ]
  },
  {
   "cell_type": "code",
   "execution_count": 81,
   "id": "be13e0a7",
   "metadata": {},
   "outputs": [
    {
     "data": {
      "text/plain": [
       "(23, 4)"
      ]
     },
     "execution_count": 81,
     "metadata": {},
     "output_type": "execute_result"
    }
   ],
   "source": [
    "# check the shape of the DataFrame\n",
    "df_basic_info.shape"
   ]
  },
  {
   "cell_type": "markdown",
   "id": "cd0307e7",
   "metadata": {},
   "source": [
    "**Adding a new row to the data set**\n",
    "\n",
    "A new row can be added using the `loc`"
   ]
  },
  {
   "cell_type": "code",
   "execution_count": 82,
   "id": "b4ebfb81",
   "metadata": {},
   "outputs": [
    {
     "data": {
      "text/html": [
       "<div>\n",
       "<style scoped>\n",
       "    .dataframe tbody tr th:only-of-type {\n",
       "        vertical-align: middle;\n",
       "    }\n",
       "\n",
       "    .dataframe tbody tr th {\n",
       "        vertical-align: top;\n",
       "    }\n",
       "\n",
       "    .dataframe thead th {\n",
       "        text-align: right;\n",
       "    }\n",
       "</style>\n",
       "<table border=\"1\" class=\"dataframe\">\n",
       "  <thead>\n",
       "    <tr style=\"text-align: right;\">\n",
       "      <th></th>\n",
       "      <th>Age</th>\n",
       "      <th>Weight (in kg)</th>\n",
       "      <th>Height (in m)</th>\n",
       "      <th>BMI</th>\n",
       "    </tr>\n",
       "  </thead>\n",
       "  <tbody>\n",
       "    <tr>\n",
       "      <th>0</th>\n",
       "      <td>45.0</td>\n",
       "      <td>60.0</td>\n",
       "      <td>1.35</td>\n",
       "      <td>32.921811</td>\n",
       "    </tr>\n",
       "    <tr>\n",
       "      <th>1</th>\n",
       "      <td>12.0</td>\n",
       "      <td>43.0</td>\n",
       "      <td>1.21</td>\n",
       "      <td>29.369579</td>\n",
       "    </tr>\n",
       "    <tr>\n",
       "      <th>2</th>\n",
       "      <td>54.0</td>\n",
       "      <td>78.0</td>\n",
       "      <td>1.50</td>\n",
       "      <td>34.666667</td>\n",
       "    </tr>\n",
       "    <tr>\n",
       "      <th>3</th>\n",
       "      <td>26.0</td>\n",
       "      <td>65.0</td>\n",
       "      <td>1.21</td>\n",
       "      <td>44.395875</td>\n",
       "    </tr>\n",
       "    <tr>\n",
       "      <th>4</th>\n",
       "      <td>68.0</td>\n",
       "      <td>50.0</td>\n",
       "      <td>1.32</td>\n",
       "      <td>28.696051</td>\n",
       "    </tr>\n",
       "    <tr>\n",
       "      <th>5</th>\n",
       "      <td>21.0</td>\n",
       "      <td>43.0</td>\n",
       "      <td>1.52</td>\n",
       "      <td>18.611496</td>\n",
       "    </tr>\n",
       "    <tr>\n",
       "      <th>6</th>\n",
       "      <td>10.0</td>\n",
       "      <td>32.0</td>\n",
       "      <td>1.65</td>\n",
       "      <td>11.753903</td>\n",
       "    </tr>\n",
       "    <tr>\n",
       "      <th>7</th>\n",
       "      <td>57.0</td>\n",
       "      <td>34.0</td>\n",
       "      <td>1.61</td>\n",
       "      <td>13.116778</td>\n",
       "    </tr>\n",
       "    <tr>\n",
       "      <th>8</th>\n",
       "      <td>75.0</td>\n",
       "      <td>23.0</td>\n",
       "      <td>1.24</td>\n",
       "      <td>14.958377</td>\n",
       "    </tr>\n",
       "    <tr>\n",
       "      <th>9</th>\n",
       "      <td>32.0</td>\n",
       "      <td>21.0</td>\n",
       "      <td>1.52</td>\n",
       "      <td>9.089335</td>\n",
       "    </tr>\n",
       "    <tr>\n",
       "      <th>10</th>\n",
       "      <td>23.0</td>\n",
       "      <td>53.0</td>\n",
       "      <td>1.50</td>\n",
       "      <td>23.555556</td>\n",
       "    </tr>\n",
       "    <tr>\n",
       "      <th>11</th>\n",
       "      <td>34.0</td>\n",
       "      <td>65.0</td>\n",
       "      <td>1.76</td>\n",
       "      <td>20.983988</td>\n",
       "    </tr>\n",
       "    <tr>\n",
       "      <th>12</th>\n",
       "      <td>55.0</td>\n",
       "      <td>89.0</td>\n",
       "      <td>1.65</td>\n",
       "      <td>32.690542</td>\n",
       "    </tr>\n",
       "    <tr>\n",
       "      <th>13</th>\n",
       "      <td>23.0</td>\n",
       "      <td>45.0</td>\n",
       "      <td>1.75</td>\n",
       "      <td>14.693878</td>\n",
       "    </tr>\n",
       "    <tr>\n",
       "      <th>14</th>\n",
       "      <td>56.0</td>\n",
       "      <td>76.0</td>\n",
       "      <td>1.69</td>\n",
       "      <td>26.609713</td>\n",
       "    </tr>\n",
       "    <tr>\n",
       "      <th>15</th>\n",
       "      <td>67.0</td>\n",
       "      <td>78.0</td>\n",
       "      <td>1.85</td>\n",
       "      <td>22.790358</td>\n",
       "    </tr>\n",
       "    <tr>\n",
       "      <th>16</th>\n",
       "      <td>26.0</td>\n",
       "      <td>65.0</td>\n",
       "      <td>1.21</td>\n",
       "      <td>44.395875</td>\n",
       "    </tr>\n",
       "    <tr>\n",
       "      <th>17</th>\n",
       "      <td>56.0</td>\n",
       "      <td>74.0</td>\n",
       "      <td>1.69</td>\n",
       "      <td>25.909457</td>\n",
       "    </tr>\n",
       "    <tr>\n",
       "      <th>18</th>\n",
       "      <td>67.0</td>\n",
       "      <td>78.0</td>\n",
       "      <td>1.85</td>\n",
       "      <td>22.790358</td>\n",
       "    </tr>\n",
       "    <tr>\n",
       "      <th>19</th>\n",
       "      <td>26.0</td>\n",
       "      <td>65.0</td>\n",
       "      <td>1.21</td>\n",
       "      <td>44.395875</td>\n",
       "    </tr>\n",
       "    <tr>\n",
       "      <th>20</th>\n",
       "      <td>68.0</td>\n",
       "      <td>50.0</td>\n",
       "      <td>1.32</td>\n",
       "      <td>28.696051</td>\n",
       "    </tr>\n",
       "    <tr>\n",
       "      <th>21</th>\n",
       "      <td>56.0</td>\n",
       "      <td>76.0</td>\n",
       "      <td>1.69</td>\n",
       "      <td>26.609713</td>\n",
       "    </tr>\n",
       "    <tr>\n",
       "      <th>22</th>\n",
       "      <td>67.0</td>\n",
       "      <td>78.0</td>\n",
       "      <td>1.85</td>\n",
       "      <td>22.790358</td>\n",
       "    </tr>\n",
       "    <tr>\n",
       "      <th>24</th>\n",
       "      <td>45.0</td>\n",
       "      <td>85.0</td>\n",
       "      <td>1.80</td>\n",
       "      <td>26.300000</td>\n",
       "    </tr>\n",
       "  </tbody>\n",
       "</table>\n",
       "</div>"
      ],
      "text/plain": [
       "     Age  Weight (in kg)  Height (in m)        BMI\n",
       "0   45.0            60.0           1.35  32.921811\n",
       "1   12.0            43.0           1.21  29.369579\n",
       "2   54.0            78.0           1.50  34.666667\n",
       "3   26.0            65.0           1.21  44.395875\n",
       "4   68.0            50.0           1.32  28.696051\n",
       "5   21.0            43.0           1.52  18.611496\n",
       "6   10.0            32.0           1.65  11.753903\n",
       "7   57.0            34.0           1.61  13.116778\n",
       "8   75.0            23.0           1.24  14.958377\n",
       "9   32.0            21.0           1.52   9.089335\n",
       "10  23.0            53.0           1.50  23.555556\n",
       "11  34.0            65.0           1.76  20.983988\n",
       "12  55.0            89.0           1.65  32.690542\n",
       "13  23.0            45.0           1.75  14.693878\n",
       "14  56.0            76.0           1.69  26.609713\n",
       "15  67.0            78.0           1.85  22.790358\n",
       "16  26.0            65.0           1.21  44.395875\n",
       "17  56.0            74.0           1.69  25.909457\n",
       "18  67.0            78.0           1.85  22.790358\n",
       "19  26.0            65.0           1.21  44.395875\n",
       "20  68.0            50.0           1.32  28.696051\n",
       "21  56.0            76.0           1.69  26.609713\n",
       "22  67.0            78.0           1.85  22.790358\n",
       "24  45.0            85.0           1.80  26.300000"
      ]
     },
     "execution_count": 82,
     "metadata": {},
     "output_type": "execute_result"
    }
   ],
   "source": [
    "# add a new row at the end of the DataFrame\n",
    "df_basic_info.loc[24] = [45, 85, 1.8, 26.3]\n",
    "\n",
    "# display the DataFrame\n",
    "df_basic_info"
   ]
  },
  {
   "cell_type": "markdown",
   "id": "f2783b1e",
   "metadata": {},
   "source": [
    "We see that a new column number 23 has be added to the data."
   ]
  },
  {
   "cell_type": "markdown",
   "id": "0b535a60",
   "metadata": {},
   "source": [
    "**Indexing a dataframe using `.iloc`**\n",
    "\n",
    "`DataFrame.iloc[]` method is used when the index label of a data frame is something other than numeric series of 0, 1, 2, 3….n or in case the user doesn’t know the index label. \n",
    "\n",
    "We shall work on the BMI data set."
   ]
  },
  {
   "cell_type": "markdown",
   "id": "b519d176",
   "metadata": {},
   "source": [
    "#### Select the 2nd row"
   ]
  },
  {
   "cell_type": "code",
   "execution_count": 83,
   "id": "c7bed736",
   "metadata": {},
   "outputs": [
    {
     "data": {
      "text/plain": [
       "Age               54.000000\n",
       "Weight (in kg)    78.000000\n",
       "Height (in m)      1.500000\n",
       "BMI               34.666667\n",
       "Name: 2, dtype: float64"
      ]
     },
     "execution_count": 83,
     "metadata": {},
     "output_type": "execute_result"
    }
   ],
   "source": [
    "# select the second row\n",
    "df_basic_info.iloc[2]"
   ]
  },
  {
   "cell_type": "markdown",
   "id": "93209a34",
   "metadata": {},
   "source": [
    "#### Select fourth, seventh and tenth rows"
   ]
  },
  {
   "cell_type": "code",
   "execution_count": 103,
   "id": "3af7d376",
   "metadata": {},
   "outputs": [
    {
     "data": {
      "text/html": [
       "<div>\n",
       "<style scoped>\n",
       "    .dataframe tbody tr th:only-of-type {\n",
       "        vertical-align: middle;\n",
       "    }\n",
       "\n",
       "    .dataframe tbody tr th {\n",
       "        vertical-align: top;\n",
       "    }\n",
       "\n",
       "    .dataframe thead th {\n",
       "        text-align: right;\n",
       "    }\n",
       "</style>\n",
       "<table border=\"1\" class=\"dataframe\">\n",
       "  <thead>\n",
       "    <tr style=\"text-align: right;\">\n",
       "      <th></th>\n",
       "      <th>Age</th>\n",
       "      <th>Weight (in kg)</th>\n",
       "      <th>Height (in m)</th>\n",
       "      <th>BMI</th>\n",
       "      <th>Rank_min</th>\n",
       "      <th>Rank_densed</th>\n",
       "    </tr>\n",
       "  </thead>\n",
       "  <tbody>\n",
       "    <tr>\n",
       "      <th>4</th>\n",
       "      <td>68.0</td>\n",
       "      <td>50.0</td>\n",
       "      <td>1.32</td>\n",
       "      <td>28.696051</td>\n",
       "      <td>8.0</td>\n",
       "      <td>13.0</td>\n",
       "    </tr>\n",
       "    <tr>\n",
       "      <th>7</th>\n",
       "      <td>57.0</td>\n",
       "      <td>34.0</td>\n",
       "      <td>1.61</td>\n",
       "      <td>13.116778</td>\n",
       "      <td>22.0</td>\n",
       "      <td>3.0</td>\n",
       "    </tr>\n",
       "    <tr>\n",
       "      <th>10</th>\n",
       "      <td>23.0</td>\n",
       "      <td>53.0</td>\n",
       "      <td>1.50</td>\n",
       "      <td>23.555556</td>\n",
       "      <td>14.0</td>\n",
       "      <td>9.0</td>\n",
       "    </tr>\n",
       "  </tbody>\n",
       "</table>\n",
       "</div>"
      ],
      "text/plain": [
       "     Age  Weight (in kg)  Height (in m)        BMI  Rank_min  Rank_densed\n",
       "4   68.0            50.0           1.32  28.696051       8.0         13.0\n",
       "7   57.0            34.0           1.61  13.116778      22.0          3.0\n",
       "10  23.0            53.0           1.50  23.555556      14.0          9.0"
      ]
     },
     "execution_count": 103,
     "metadata": {},
     "output_type": "execute_result"
    }
   ],
   "source": [
    "# select the 4th, 7th and the 10th row\n",
    "df_basic_info.iloc[[4,7,10]]"
   ]
  },
  {
   "cell_type": "markdown",
   "id": "53598dad",
   "metadata": {},
   "source": [
    "We use two square brackets since we are passing a list of row numbers to be accessed.\n",
    "\n",
    "#### Select 12th to 17th rows"
   ]
  },
  {
   "cell_type": "code",
   "execution_count": 102,
   "id": "d726566c",
   "metadata": {},
   "outputs": [
    {
     "data": {
      "text/html": [
       "<div>\n",
       "<style scoped>\n",
       "    .dataframe tbody tr th:only-of-type {\n",
       "        vertical-align: middle;\n",
       "    }\n",
       "\n",
       "    .dataframe tbody tr th {\n",
       "        vertical-align: top;\n",
       "    }\n",
       "\n",
       "    .dataframe thead th {\n",
       "        text-align: right;\n",
       "    }\n",
       "</style>\n",
       "<table border=\"1\" class=\"dataframe\">\n",
       "  <thead>\n",
       "    <tr style=\"text-align: right;\">\n",
       "      <th></th>\n",
       "      <th>Age</th>\n",
       "      <th>Weight (in kg)</th>\n",
       "      <th>Height (in m)</th>\n",
       "      <th>BMI</th>\n",
       "      <th>Rank_min</th>\n",
       "      <th>Rank_densed</th>\n",
       "    </tr>\n",
       "  </thead>\n",
       "  <tbody>\n",
       "    <tr>\n",
       "      <th>12</th>\n",
       "      <td>55.0</td>\n",
       "      <td>89.0</td>\n",
       "      <td>1.65</td>\n",
       "      <td>32.690542</td>\n",
       "      <td>6.0</td>\n",
       "      <td>15.0</td>\n",
       "    </tr>\n",
       "    <tr>\n",
       "      <th>13</th>\n",
       "      <td>23.0</td>\n",
       "      <td>45.0</td>\n",
       "      <td>1.75</td>\n",
       "      <td>14.693878</td>\n",
       "      <td>21.0</td>\n",
       "      <td>4.0</td>\n",
       "    </tr>\n",
       "    <tr>\n",
       "      <th>14</th>\n",
       "      <td>56.0</td>\n",
       "      <td>76.0</td>\n",
       "      <td>1.69</td>\n",
       "      <td>26.609713</td>\n",
       "      <td>10.0</td>\n",
       "      <td>12.0</td>\n",
       "    </tr>\n",
       "    <tr>\n",
       "      <th>15</th>\n",
       "      <td>67.0</td>\n",
       "      <td>78.0</td>\n",
       "      <td>1.85</td>\n",
       "      <td>22.790358</td>\n",
       "      <td>15.0</td>\n",
       "      <td>8.0</td>\n",
       "    </tr>\n",
       "    <tr>\n",
       "      <th>16</th>\n",
       "      <td>26.0</td>\n",
       "      <td>65.0</td>\n",
       "      <td>1.21</td>\n",
       "      <td>44.395875</td>\n",
       "      <td>1.0</td>\n",
       "      <td>18.0</td>\n",
       "    </tr>\n",
       "    <tr>\n",
       "      <th>17</th>\n",
       "      <td>56.0</td>\n",
       "      <td>74.0</td>\n",
       "      <td>1.69</td>\n",
       "      <td>25.909457</td>\n",
       "      <td>13.0</td>\n",
       "      <td>10.0</td>\n",
       "    </tr>\n",
       "  </tbody>\n",
       "</table>\n",
       "</div>"
      ],
      "text/plain": [
       "     Age  Weight (in kg)  Height (in m)        BMI  Rank_min  Rank_densed\n",
       "12  55.0            89.0           1.65  32.690542       6.0         15.0\n",
       "13  23.0            45.0           1.75  14.693878      21.0          4.0\n",
       "14  56.0            76.0           1.69  26.609713      10.0         12.0\n",
       "15  67.0            78.0           1.85  22.790358      15.0          8.0\n",
       "16  26.0            65.0           1.21  44.395875       1.0         18.0\n",
       "17  56.0            74.0           1.69  25.909457      13.0         10.0"
      ]
     },
     "execution_count": 102,
     "metadata": {},
     "output_type": "execute_result"
    }
   ],
   "source": [
    "# select rows \n",
    "df_basic_info.iloc[12:18]"
   ]
  },
  {
   "cell_type": "markdown",
   "id": "a9553ba8",
   "metadata": {},
   "source": [
    "#### Select the 1st column"
   ]
  },
  {
   "cell_type": "code",
   "execution_count": 101,
   "id": "daa37131",
   "metadata": {},
   "outputs": [
    {
     "data": {
      "text/plain": [
       "0     60.0\n",
       "1     43.0\n",
       "2     78.0\n",
       "3     65.0\n",
       "4     50.0\n",
       "5     43.0\n",
       "6     32.0\n",
       "7     34.0\n",
       "8     23.0\n",
       "9     21.0\n",
       "10    53.0\n",
       "11    65.0\n",
       "12    89.0\n",
       "13    45.0\n",
       "14    76.0\n",
       "15    78.0\n",
       "16    65.0\n",
       "17    74.0\n",
       "18    78.0\n",
       "19    65.0\n",
       "20    50.0\n",
       "21    76.0\n",
       "22    78.0\n",
       "24    85.0\n",
       "Name: Weight (in kg), dtype: float64"
      ]
     },
     "execution_count": 101,
     "metadata": {},
     "output_type": "execute_result"
    }
   ],
   "source": [
    "# select the 1st column\n",
    "df_basic_info.iloc[:, 1]"
   ]
  },
  {
   "cell_type": "markdown",
   "id": "76d3cafb",
   "metadata": {},
   "source": [
    "#### Select the last column"
   ]
  },
  {
   "cell_type": "code",
   "execution_count": 104,
   "id": "a2667eee",
   "metadata": {},
   "outputs": [
    {
     "data": {
      "text/plain": [
       "0     16.0\n",
       "1     14.0\n",
       "2     17.0\n",
       "3     18.0\n",
       "4     13.0\n",
       "5      6.0\n",
       "6      2.0\n",
       "7      3.0\n",
       "8      5.0\n",
       "9      1.0\n",
       "10     9.0\n",
       "11     7.0\n",
       "12    15.0\n",
       "13     4.0\n",
       "14    12.0\n",
       "15     8.0\n",
       "16    18.0\n",
       "17    10.0\n",
       "18     8.0\n",
       "19    18.0\n",
       "20    13.0\n",
       "21    12.0\n",
       "22     8.0\n",
       "24    11.0\n",
       "Name: Rank_densed, dtype: float64"
      ]
     },
     "execution_count": 104,
     "metadata": {},
     "output_type": "execute_result"
    }
   ],
   "source": [
    "# select the last column\n",
    "# the colon indicates that all the rows are selected\n",
    "# -1 indicated that the last column is selected\n",
    "df_basic_info.iloc[:,-1]"
   ]
  },
  {
   "cell_type": "markdown",
   "id": "bb9303fd",
   "metadata": {},
   "source": [
    "To select the last column we use -1, to select the second last column we use -2"
   ]
  },
  {
   "cell_type": "markdown",
   "id": "66a387ce",
   "metadata": {},
   "source": [
    "#### Select the first two columns"
   ]
  },
  {
   "cell_type": "code",
   "execution_count": 105,
   "id": "682d5ea1",
   "metadata": {},
   "outputs": [
    {
     "data": {
      "text/html": [
       "<div>\n",
       "<style scoped>\n",
       "    .dataframe tbody tr th:only-of-type {\n",
       "        vertical-align: middle;\n",
       "    }\n",
       "\n",
       "    .dataframe tbody tr th {\n",
       "        vertical-align: top;\n",
       "    }\n",
       "\n",
       "    .dataframe thead th {\n",
       "        text-align: right;\n",
       "    }\n",
       "</style>\n",
       "<table border=\"1\" class=\"dataframe\">\n",
       "  <thead>\n",
       "    <tr style=\"text-align: right;\">\n",
       "      <th></th>\n",
       "      <th>Age</th>\n",
       "      <th>Weight (in kg)</th>\n",
       "    </tr>\n",
       "  </thead>\n",
       "  <tbody>\n",
       "    <tr>\n",
       "      <th>0</th>\n",
       "      <td>45.0</td>\n",
       "      <td>60.0</td>\n",
       "    </tr>\n",
       "    <tr>\n",
       "      <th>1</th>\n",
       "      <td>12.0</td>\n",
       "      <td>43.0</td>\n",
       "    </tr>\n",
       "    <tr>\n",
       "      <th>2</th>\n",
       "      <td>54.0</td>\n",
       "      <td>78.0</td>\n",
       "    </tr>\n",
       "    <tr>\n",
       "      <th>3</th>\n",
       "      <td>26.0</td>\n",
       "      <td>65.0</td>\n",
       "    </tr>\n",
       "    <tr>\n",
       "      <th>4</th>\n",
       "      <td>68.0</td>\n",
       "      <td>50.0</td>\n",
       "    </tr>\n",
       "    <tr>\n",
       "      <th>5</th>\n",
       "      <td>21.0</td>\n",
       "      <td>43.0</td>\n",
       "    </tr>\n",
       "    <tr>\n",
       "      <th>6</th>\n",
       "      <td>10.0</td>\n",
       "      <td>32.0</td>\n",
       "    </tr>\n",
       "    <tr>\n",
       "      <th>7</th>\n",
       "      <td>57.0</td>\n",
       "      <td>34.0</td>\n",
       "    </tr>\n",
       "    <tr>\n",
       "      <th>8</th>\n",
       "      <td>75.0</td>\n",
       "      <td>23.0</td>\n",
       "    </tr>\n",
       "    <tr>\n",
       "      <th>9</th>\n",
       "      <td>32.0</td>\n",
       "      <td>21.0</td>\n",
       "    </tr>\n",
       "    <tr>\n",
       "      <th>10</th>\n",
       "      <td>23.0</td>\n",
       "      <td>53.0</td>\n",
       "    </tr>\n",
       "    <tr>\n",
       "      <th>11</th>\n",
       "      <td>34.0</td>\n",
       "      <td>65.0</td>\n",
       "    </tr>\n",
       "    <tr>\n",
       "      <th>12</th>\n",
       "      <td>55.0</td>\n",
       "      <td>89.0</td>\n",
       "    </tr>\n",
       "    <tr>\n",
       "      <th>13</th>\n",
       "      <td>23.0</td>\n",
       "      <td>45.0</td>\n",
       "    </tr>\n",
       "    <tr>\n",
       "      <th>14</th>\n",
       "      <td>56.0</td>\n",
       "      <td>76.0</td>\n",
       "    </tr>\n",
       "    <tr>\n",
       "      <th>15</th>\n",
       "      <td>67.0</td>\n",
       "      <td>78.0</td>\n",
       "    </tr>\n",
       "    <tr>\n",
       "      <th>16</th>\n",
       "      <td>26.0</td>\n",
       "      <td>65.0</td>\n",
       "    </tr>\n",
       "    <tr>\n",
       "      <th>17</th>\n",
       "      <td>56.0</td>\n",
       "      <td>74.0</td>\n",
       "    </tr>\n",
       "    <tr>\n",
       "      <th>18</th>\n",
       "      <td>67.0</td>\n",
       "      <td>78.0</td>\n",
       "    </tr>\n",
       "    <tr>\n",
       "      <th>19</th>\n",
       "      <td>26.0</td>\n",
       "      <td>65.0</td>\n",
       "    </tr>\n",
       "    <tr>\n",
       "      <th>20</th>\n",
       "      <td>68.0</td>\n",
       "      <td>50.0</td>\n",
       "    </tr>\n",
       "    <tr>\n",
       "      <th>21</th>\n",
       "      <td>56.0</td>\n",
       "      <td>76.0</td>\n",
       "    </tr>\n",
       "    <tr>\n",
       "      <th>22</th>\n",
       "      <td>67.0</td>\n",
       "      <td>78.0</td>\n",
       "    </tr>\n",
       "    <tr>\n",
       "      <th>24</th>\n",
       "      <td>45.0</td>\n",
       "      <td>85.0</td>\n",
       "    </tr>\n",
       "  </tbody>\n",
       "</table>\n",
       "</div>"
      ],
      "text/plain": [
       "     Age  Weight (in kg)\n",
       "0   45.0            60.0\n",
       "1   12.0            43.0\n",
       "2   54.0            78.0\n",
       "3   26.0            65.0\n",
       "4   68.0            50.0\n",
       "5   21.0            43.0\n",
       "6   10.0            32.0\n",
       "7   57.0            34.0\n",
       "8   75.0            23.0\n",
       "9   32.0            21.0\n",
       "10  23.0            53.0\n",
       "11  34.0            65.0\n",
       "12  55.0            89.0\n",
       "13  23.0            45.0\n",
       "14  56.0            76.0\n",
       "15  67.0            78.0\n",
       "16  26.0            65.0\n",
       "17  56.0            74.0\n",
       "18  67.0            78.0\n",
       "19  26.0            65.0\n",
       "20  68.0            50.0\n",
       "21  56.0            76.0\n",
       "22  67.0            78.0\n",
       "24  45.0            85.0"
      ]
     },
     "execution_count": 105,
     "metadata": {},
     "output_type": "execute_result"
    }
   ],
   "source": [
    "# select the 1st and 2nd columns\n",
    "# the colon indicates that all the rows are selected\n",
    "# 0:2 indicates that the 1st and 2nd columns are selected\n",
    "df_basic_info.iloc[:,0:2]"
   ]
  },
  {
   "cell_type": "markdown",
   "id": "39e045ec",
   "metadata": {},
   "source": [
    "#### Select the first two columns and 5 to 10 rows"
   ]
  },
  {
   "cell_type": "code",
   "execution_count": 106,
   "id": "09b33b0e",
   "metadata": {},
   "outputs": [
    {
     "data": {
      "text/html": [
       "<div>\n",
       "<style scoped>\n",
       "    .dataframe tbody tr th:only-of-type {\n",
       "        vertical-align: middle;\n",
       "    }\n",
       "\n",
       "    .dataframe tbody tr th {\n",
       "        vertical-align: top;\n",
       "    }\n",
       "\n",
       "    .dataframe thead th {\n",
       "        text-align: right;\n",
       "    }\n",
       "</style>\n",
       "<table border=\"1\" class=\"dataframe\">\n",
       "  <thead>\n",
       "    <tr style=\"text-align: right;\">\n",
       "      <th></th>\n",
       "      <th>Age</th>\n",
       "      <th>Weight (in kg)</th>\n",
       "    </tr>\n",
       "  </thead>\n",
       "  <tbody>\n",
       "    <tr>\n",
       "      <th>5</th>\n",
       "      <td>21.0</td>\n",
       "      <td>43.0</td>\n",
       "    </tr>\n",
       "    <tr>\n",
       "      <th>6</th>\n",
       "      <td>10.0</td>\n",
       "      <td>32.0</td>\n",
       "    </tr>\n",
       "    <tr>\n",
       "      <th>7</th>\n",
       "      <td>57.0</td>\n",
       "      <td>34.0</td>\n",
       "    </tr>\n",
       "    <tr>\n",
       "      <th>8</th>\n",
       "      <td>75.0</td>\n",
       "      <td>23.0</td>\n",
       "    </tr>\n",
       "    <tr>\n",
       "      <th>9</th>\n",
       "      <td>32.0</td>\n",
       "      <td>21.0</td>\n",
       "    </tr>\n",
       "    <tr>\n",
       "      <th>10</th>\n",
       "      <td>23.0</td>\n",
       "      <td>53.0</td>\n",
       "    </tr>\n",
       "  </tbody>\n",
       "</table>\n",
       "</div>"
      ],
      "text/plain": [
       "     Age  Weight (in kg)\n",
       "5   21.0            43.0\n",
       "6   10.0            32.0\n",
       "7   57.0            34.0\n",
       "8   75.0            23.0\n",
       "9   32.0            21.0\n",
       "10  23.0            53.0"
      ]
     },
     "execution_count": 106,
     "metadata": {},
     "output_type": "execute_result"
    }
   ],
   "source": [
    "# 5:11 indicates that the 5th to 10th rows will be selected\n",
    "# 0:2 indicates that the 1st and 2nd columns be selected\n",
    "df_basic_info.iloc[5:11, 0:2]"
   ]
  },
  {
   "cell_type": "markdown",
   "id": "2c6edbcd",
   "metadata": {},
   "source": [
    "**Indexing a dataframe using `.loc`**\n",
    "\n",
    "`DataFrame.loc[]` method is a method that takes only index labels and returns row or dataframe if the index label exists in the caller data frame. <br>\n",
    "`DataFrame.loc[Row_names, column_names]` is used to select or index rows or columns based on their name."
   ]
  },
  {
   "cell_type": "markdown",
   "id": "5cfa55fc",
   "metadata": {},
   "source": [
    "#### Select 1 to 5 rows and 2nd and 4th columns"
   ]
  },
  {
   "cell_type": "code",
   "execution_count": 107,
   "id": "10033723",
   "metadata": {},
   "outputs": [
    {
     "data": {
      "text/html": [
       "<div>\n",
       "<style scoped>\n",
       "    .dataframe tbody tr th:only-of-type {\n",
       "        vertical-align: middle;\n",
       "    }\n",
       "\n",
       "    .dataframe tbody tr th {\n",
       "        vertical-align: top;\n",
       "    }\n",
       "\n",
       "    .dataframe thead th {\n",
       "        text-align: right;\n",
       "    }\n",
       "</style>\n",
       "<table border=\"1\" class=\"dataframe\">\n",
       "  <thead>\n",
       "    <tr style=\"text-align: right;\">\n",
       "      <th></th>\n",
       "      <th>Weight (in kg)</th>\n",
       "      <th>BMI</th>\n",
       "    </tr>\n",
       "  </thead>\n",
       "  <tbody>\n",
       "    <tr>\n",
       "      <th>1</th>\n",
       "      <td>43.0</td>\n",
       "      <td>29.369579</td>\n",
       "    </tr>\n",
       "    <tr>\n",
       "      <th>2</th>\n",
       "      <td>78.0</td>\n",
       "      <td>34.666667</td>\n",
       "    </tr>\n",
       "    <tr>\n",
       "      <th>3</th>\n",
       "      <td>65.0</td>\n",
       "      <td>44.395875</td>\n",
       "    </tr>\n",
       "    <tr>\n",
       "      <th>4</th>\n",
       "      <td>50.0</td>\n",
       "      <td>28.696051</td>\n",
       "    </tr>\n",
       "    <tr>\n",
       "      <th>5</th>\n",
       "      <td>43.0</td>\n",
       "      <td>18.611496</td>\n",
       "    </tr>\n",
       "  </tbody>\n",
       "</table>\n",
       "</div>"
      ],
      "text/plain": [
       "   Weight (in kg)        BMI\n",
       "1            43.0  29.369579\n",
       "2            78.0  34.666667\n",
       "3            65.0  44.395875\n",
       "4            50.0  28.696051\n",
       "5            43.0  18.611496"
      ]
     },
     "execution_count": 107,
     "metadata": {},
     "output_type": "execute_result"
    }
   ],
   "source": [
    "# 1:5 indicates that rows with indices 1, 2, 3, 4 and 5 are selected\n",
    "# [\"Weight (in kg)\",\"BMI\"] indicates that the specified columns be selected\n",
    "df_basic_info.loc[1:5,[\"Weight (in kg)\",\"BMI\"]]"
   ]
  },
  {
   "cell_type": "markdown",
   "id": "fe2d675f",
   "metadata": {},
   "source": [
    "**Note:** the row names are numbers \n",
    "\n",
    "**Selecting columns by specifying column names**"
   ]
  },
  {
   "cell_type": "markdown",
   "id": "e1fb942f",
   "metadata": {},
   "source": [
    "#### Select the column 'Age'"
   ]
  },
  {
   "cell_type": "code",
   "execution_count": 108,
   "id": "4a924aac",
   "metadata": {},
   "outputs": [
    {
     "data": {
      "text/plain": [
       "0     45.0\n",
       "1     12.0\n",
       "2     54.0\n",
       "3     26.0\n",
       "4     68.0\n",
       "5     21.0\n",
       "6     10.0\n",
       "7     57.0\n",
       "8     75.0\n",
       "9     32.0\n",
       "10    23.0\n",
       "11    34.0\n",
       "12    55.0\n",
       "13    23.0\n",
       "14    56.0\n",
       "15    67.0\n",
       "16    26.0\n",
       "17    56.0\n",
       "18    67.0\n",
       "19    26.0\n",
       "20    68.0\n",
       "21    56.0\n",
       "22    67.0\n",
       "24    45.0\n",
       "Name: Age, dtype: float64"
      ]
     },
     "execution_count": 108,
     "metadata": {},
     "output_type": "execute_result"
    }
   ],
   "source": [
    "# select the coumn 'Age'\n",
    "df_basic_info.Age"
   ]
  },
  {
   "cell_type": "markdown",
   "id": "07e2ad14",
   "metadata": {},
   "source": [
    "**Remark:** Using this method we can select only one column."
   ]
  },
  {
   "cell_type": "code",
   "execution_count": 109,
   "id": "fa26872b",
   "metadata": {},
   "outputs": [
    {
     "data": {
      "text/plain": [
       "0     45.0\n",
       "1     12.0\n",
       "2     54.0\n",
       "3     26.0\n",
       "4     68.0\n",
       "5     21.0\n",
       "6     10.0\n",
       "7     57.0\n",
       "8     75.0\n",
       "9     32.0\n",
       "10    23.0\n",
       "11    34.0\n",
       "12    55.0\n",
       "13    23.0\n",
       "14    56.0\n",
       "15    67.0\n",
       "16    26.0\n",
       "17    56.0\n",
       "18    67.0\n",
       "19    26.0\n",
       "20    68.0\n",
       "21    56.0\n",
       "22    67.0\n",
       "24    45.0\n",
       "Name: Age, dtype: float64"
      ]
     },
     "execution_count": 109,
     "metadata": {},
     "output_type": "execute_result"
    }
   ],
   "source": [
    "# OR\n",
    "df_basic_info[\"Age\"]"
   ]
  },
  {
   "cell_type": "markdown",
   "id": "5bc9fa8b",
   "metadata": {},
   "source": [
    "#### Select the column 'Age' and 'BMI'"
   ]
  },
  {
   "cell_type": "code",
   "execution_count": 110,
   "id": "ac06c2ee",
   "metadata": {},
   "outputs": [
    {
     "data": {
      "text/html": [
       "<div>\n",
       "<style scoped>\n",
       "    .dataframe tbody tr th:only-of-type {\n",
       "        vertical-align: middle;\n",
       "    }\n",
       "\n",
       "    .dataframe tbody tr th {\n",
       "        vertical-align: top;\n",
       "    }\n",
       "\n",
       "    .dataframe thead th {\n",
       "        text-align: right;\n",
       "    }\n",
       "</style>\n",
       "<table border=\"1\" class=\"dataframe\">\n",
       "  <thead>\n",
       "    <tr style=\"text-align: right;\">\n",
       "      <th></th>\n",
       "      <th>Age</th>\n",
       "      <th>BMI</th>\n",
       "    </tr>\n",
       "  </thead>\n",
       "  <tbody>\n",
       "    <tr>\n",
       "      <th>0</th>\n",
       "      <td>45.0</td>\n",
       "      <td>32.921811</td>\n",
       "    </tr>\n",
       "    <tr>\n",
       "      <th>1</th>\n",
       "      <td>12.0</td>\n",
       "      <td>29.369579</td>\n",
       "    </tr>\n",
       "    <tr>\n",
       "      <th>2</th>\n",
       "      <td>54.0</td>\n",
       "      <td>34.666667</td>\n",
       "    </tr>\n",
       "    <tr>\n",
       "      <th>3</th>\n",
       "      <td>26.0</td>\n",
       "      <td>44.395875</td>\n",
       "    </tr>\n",
       "    <tr>\n",
       "      <th>4</th>\n",
       "      <td>68.0</td>\n",
       "      <td>28.696051</td>\n",
       "    </tr>\n",
       "    <tr>\n",
       "      <th>5</th>\n",
       "      <td>21.0</td>\n",
       "      <td>18.611496</td>\n",
       "    </tr>\n",
       "    <tr>\n",
       "      <th>6</th>\n",
       "      <td>10.0</td>\n",
       "      <td>11.753903</td>\n",
       "    </tr>\n",
       "    <tr>\n",
       "      <th>7</th>\n",
       "      <td>57.0</td>\n",
       "      <td>13.116778</td>\n",
       "    </tr>\n",
       "    <tr>\n",
       "      <th>8</th>\n",
       "      <td>75.0</td>\n",
       "      <td>14.958377</td>\n",
       "    </tr>\n",
       "    <tr>\n",
       "      <th>9</th>\n",
       "      <td>32.0</td>\n",
       "      <td>9.089335</td>\n",
       "    </tr>\n",
       "    <tr>\n",
       "      <th>10</th>\n",
       "      <td>23.0</td>\n",
       "      <td>23.555556</td>\n",
       "    </tr>\n",
       "    <tr>\n",
       "      <th>11</th>\n",
       "      <td>34.0</td>\n",
       "      <td>20.983988</td>\n",
       "    </tr>\n",
       "    <tr>\n",
       "      <th>12</th>\n",
       "      <td>55.0</td>\n",
       "      <td>32.690542</td>\n",
       "    </tr>\n",
       "    <tr>\n",
       "      <th>13</th>\n",
       "      <td>23.0</td>\n",
       "      <td>14.693878</td>\n",
       "    </tr>\n",
       "    <tr>\n",
       "      <th>14</th>\n",
       "      <td>56.0</td>\n",
       "      <td>26.609713</td>\n",
       "    </tr>\n",
       "    <tr>\n",
       "      <th>15</th>\n",
       "      <td>67.0</td>\n",
       "      <td>22.790358</td>\n",
       "    </tr>\n",
       "    <tr>\n",
       "      <th>16</th>\n",
       "      <td>26.0</td>\n",
       "      <td>44.395875</td>\n",
       "    </tr>\n",
       "    <tr>\n",
       "      <th>17</th>\n",
       "      <td>56.0</td>\n",
       "      <td>25.909457</td>\n",
       "    </tr>\n",
       "    <tr>\n",
       "      <th>18</th>\n",
       "      <td>67.0</td>\n",
       "      <td>22.790358</td>\n",
       "    </tr>\n",
       "    <tr>\n",
       "      <th>19</th>\n",
       "      <td>26.0</td>\n",
       "      <td>44.395875</td>\n",
       "    </tr>\n",
       "    <tr>\n",
       "      <th>20</th>\n",
       "      <td>68.0</td>\n",
       "      <td>28.696051</td>\n",
       "    </tr>\n",
       "    <tr>\n",
       "      <th>21</th>\n",
       "      <td>56.0</td>\n",
       "      <td>26.609713</td>\n",
       "    </tr>\n",
       "    <tr>\n",
       "      <th>22</th>\n",
       "      <td>67.0</td>\n",
       "      <td>22.790358</td>\n",
       "    </tr>\n",
       "    <tr>\n",
       "      <th>24</th>\n",
       "      <td>45.0</td>\n",
       "      <td>26.300000</td>\n",
       "    </tr>\n",
       "  </tbody>\n",
       "</table>\n",
       "</div>"
      ],
      "text/plain": [
       "     Age        BMI\n",
       "0   45.0  32.921811\n",
       "1   12.0  29.369579\n",
       "2   54.0  34.666667\n",
       "3   26.0  44.395875\n",
       "4   68.0  28.696051\n",
       "5   21.0  18.611496\n",
       "6   10.0  11.753903\n",
       "7   57.0  13.116778\n",
       "8   75.0  14.958377\n",
       "9   32.0   9.089335\n",
       "10  23.0  23.555556\n",
       "11  34.0  20.983988\n",
       "12  55.0  32.690542\n",
       "13  23.0  14.693878\n",
       "14  56.0  26.609713\n",
       "15  67.0  22.790358\n",
       "16  26.0  44.395875\n",
       "17  56.0  25.909457\n",
       "18  67.0  22.790358\n",
       "19  26.0  44.395875\n",
       "20  68.0  28.696051\n",
       "21  56.0  26.609713\n",
       "22  67.0  22.790358\n",
       "24  45.0  26.300000"
      ]
     },
     "execution_count": 110,
     "metadata": {},
     "output_type": "execute_result"
    }
   ],
   "source": [
    "# select two columns\n",
    "# the column names are passed in a list\n",
    "df_basic_info[[\"Age\",\"BMI\"]]"
   ]
  },
  {
   "cell_type": "markdown",
   "id": "a8fd38ab",
   "metadata": {},
   "source": [
    "**Conditional subsetting**\n",
    "\n",
    "Selecting rows where the value of `Age` is greater than 47 "
   ]
  },
  {
   "cell_type": "code",
   "execution_count": 89,
   "id": "523b8857",
   "metadata": {},
   "outputs": [
    {
     "data": {
      "text/html": [
       "<div>\n",
       "<style scoped>\n",
       "    .dataframe tbody tr th:only-of-type {\n",
       "        vertical-align: middle;\n",
       "    }\n",
       "\n",
       "    .dataframe tbody tr th {\n",
       "        vertical-align: top;\n",
       "    }\n",
       "\n",
       "    .dataframe thead th {\n",
       "        text-align: right;\n",
       "    }\n",
       "</style>\n",
       "<table border=\"1\" class=\"dataframe\">\n",
       "  <thead>\n",
       "    <tr style=\"text-align: right;\">\n",
       "      <th></th>\n",
       "      <th>Age</th>\n",
       "      <th>Weight (in kg)</th>\n",
       "      <th>Height (in m)</th>\n",
       "      <th>BMI</th>\n",
       "    </tr>\n",
       "  </thead>\n",
       "  <tbody>\n",
       "    <tr>\n",
       "      <th>2</th>\n",
       "      <td>54.0</td>\n",
       "      <td>78.0</td>\n",
       "      <td>1.50</td>\n",
       "      <td>34.666667</td>\n",
       "    </tr>\n",
       "    <tr>\n",
       "      <th>4</th>\n",
       "      <td>68.0</td>\n",
       "      <td>50.0</td>\n",
       "      <td>1.32</td>\n",
       "      <td>28.696051</td>\n",
       "    </tr>\n",
       "    <tr>\n",
       "      <th>7</th>\n",
       "      <td>57.0</td>\n",
       "      <td>34.0</td>\n",
       "      <td>1.61</td>\n",
       "      <td>13.116778</td>\n",
       "    </tr>\n",
       "    <tr>\n",
       "      <th>8</th>\n",
       "      <td>75.0</td>\n",
       "      <td>23.0</td>\n",
       "      <td>1.24</td>\n",
       "      <td>14.958377</td>\n",
       "    </tr>\n",
       "    <tr>\n",
       "      <th>12</th>\n",
       "      <td>55.0</td>\n",
       "      <td>89.0</td>\n",
       "      <td>1.65</td>\n",
       "      <td>32.690542</td>\n",
       "    </tr>\n",
       "    <tr>\n",
       "      <th>14</th>\n",
       "      <td>56.0</td>\n",
       "      <td>76.0</td>\n",
       "      <td>1.69</td>\n",
       "      <td>26.609713</td>\n",
       "    </tr>\n",
       "    <tr>\n",
       "      <th>15</th>\n",
       "      <td>67.0</td>\n",
       "      <td>78.0</td>\n",
       "      <td>1.85</td>\n",
       "      <td>22.790358</td>\n",
       "    </tr>\n",
       "    <tr>\n",
       "      <th>17</th>\n",
       "      <td>56.0</td>\n",
       "      <td>74.0</td>\n",
       "      <td>1.69</td>\n",
       "      <td>25.909457</td>\n",
       "    </tr>\n",
       "    <tr>\n",
       "      <th>18</th>\n",
       "      <td>67.0</td>\n",
       "      <td>78.0</td>\n",
       "      <td>1.85</td>\n",
       "      <td>22.790358</td>\n",
       "    </tr>\n",
       "    <tr>\n",
       "      <th>20</th>\n",
       "      <td>68.0</td>\n",
       "      <td>50.0</td>\n",
       "      <td>1.32</td>\n",
       "      <td>28.696051</td>\n",
       "    </tr>\n",
       "    <tr>\n",
       "      <th>21</th>\n",
       "      <td>56.0</td>\n",
       "      <td>76.0</td>\n",
       "      <td>1.69</td>\n",
       "      <td>26.609713</td>\n",
       "    </tr>\n",
       "    <tr>\n",
       "      <th>22</th>\n",
       "      <td>67.0</td>\n",
       "      <td>78.0</td>\n",
       "      <td>1.85</td>\n",
       "      <td>22.790358</td>\n",
       "    </tr>\n",
       "  </tbody>\n",
       "</table>\n",
       "</div>"
      ],
      "text/plain": [
       "     Age  Weight (in kg)  Height (in m)        BMI\n",
       "2   54.0            78.0           1.50  34.666667\n",
       "4   68.0            50.0           1.32  28.696051\n",
       "7   57.0            34.0           1.61  13.116778\n",
       "8   75.0            23.0           1.24  14.958377\n",
       "12  55.0            89.0           1.65  32.690542\n",
       "14  56.0            76.0           1.69  26.609713\n",
       "15  67.0            78.0           1.85  22.790358\n",
       "17  56.0            74.0           1.69  25.909457\n",
       "18  67.0            78.0           1.85  22.790358\n",
       "20  68.0            50.0           1.32  28.696051\n",
       "21  56.0            76.0           1.69  26.609713\n",
       "22  67.0            78.0           1.85  22.790358"
      ]
     },
     "execution_count": 89,
     "metadata": {},
     "output_type": "execute_result"
    }
   ],
   "source": [
    "# to selct rows where the Age is greater than 47\n",
    "df_basic_info[df_basic_info['Age'] > 47]"
   ]
  },
  {
   "cell_type": "markdown",
   "id": "dd05d3c1",
   "metadata": {},
   "source": [
    "Subsetting the age more than 40 *or* weight column value more than 65"
   ]
  },
  {
   "cell_type": "code",
   "execution_count": 111,
   "id": "4c1673a8",
   "metadata": {},
   "outputs": [
    {
     "data": {
      "text/html": [
       "<div>\n",
       "<style scoped>\n",
       "    .dataframe tbody tr th:only-of-type {\n",
       "        vertical-align: middle;\n",
       "    }\n",
       "\n",
       "    .dataframe tbody tr th {\n",
       "        vertical-align: top;\n",
       "    }\n",
       "\n",
       "    .dataframe thead th {\n",
       "        text-align: right;\n",
       "    }\n",
       "</style>\n",
       "<table border=\"1\" class=\"dataframe\">\n",
       "  <thead>\n",
       "    <tr style=\"text-align: right;\">\n",
       "      <th></th>\n",
       "      <th>Age</th>\n",
       "      <th>Weight (in kg)</th>\n",
       "      <th>Height (in m)</th>\n",
       "      <th>BMI</th>\n",
       "      <th>Rank_min</th>\n",
       "      <th>Rank_densed</th>\n",
       "    </tr>\n",
       "  </thead>\n",
       "  <tbody>\n",
       "    <tr>\n",
       "      <th>0</th>\n",
       "      <td>45.0</td>\n",
       "      <td>60.0</td>\n",
       "      <td>1.35</td>\n",
       "      <td>32.921811</td>\n",
       "      <td>5.0</td>\n",
       "      <td>16.0</td>\n",
       "    </tr>\n",
       "    <tr>\n",
       "      <th>2</th>\n",
       "      <td>54.0</td>\n",
       "      <td>78.0</td>\n",
       "      <td>1.50</td>\n",
       "      <td>34.666667</td>\n",
       "      <td>4.0</td>\n",
       "      <td>17.0</td>\n",
       "    </tr>\n",
       "    <tr>\n",
       "      <th>4</th>\n",
       "      <td>68.0</td>\n",
       "      <td>50.0</td>\n",
       "      <td>1.32</td>\n",
       "      <td>28.696051</td>\n",
       "      <td>8.0</td>\n",
       "      <td>13.0</td>\n",
       "    </tr>\n",
       "    <tr>\n",
       "      <th>7</th>\n",
       "      <td>57.0</td>\n",
       "      <td>34.0</td>\n",
       "      <td>1.61</td>\n",
       "      <td>13.116778</td>\n",
       "      <td>22.0</td>\n",
       "      <td>3.0</td>\n",
       "    </tr>\n",
       "    <tr>\n",
       "      <th>8</th>\n",
       "      <td>75.0</td>\n",
       "      <td>23.0</td>\n",
       "      <td>1.24</td>\n",
       "      <td>14.958377</td>\n",
       "      <td>20.0</td>\n",
       "      <td>5.0</td>\n",
       "    </tr>\n",
       "    <tr>\n",
       "      <th>12</th>\n",
       "      <td>55.0</td>\n",
       "      <td>89.0</td>\n",
       "      <td>1.65</td>\n",
       "      <td>32.690542</td>\n",
       "      <td>6.0</td>\n",
       "      <td>15.0</td>\n",
       "    </tr>\n",
       "    <tr>\n",
       "      <th>14</th>\n",
       "      <td>56.0</td>\n",
       "      <td>76.0</td>\n",
       "      <td>1.69</td>\n",
       "      <td>26.609713</td>\n",
       "      <td>10.0</td>\n",
       "      <td>12.0</td>\n",
       "    </tr>\n",
       "    <tr>\n",
       "      <th>15</th>\n",
       "      <td>67.0</td>\n",
       "      <td>78.0</td>\n",
       "      <td>1.85</td>\n",
       "      <td>22.790358</td>\n",
       "      <td>15.0</td>\n",
       "      <td>8.0</td>\n",
       "    </tr>\n",
       "    <tr>\n",
       "      <th>17</th>\n",
       "      <td>56.0</td>\n",
       "      <td>74.0</td>\n",
       "      <td>1.69</td>\n",
       "      <td>25.909457</td>\n",
       "      <td>13.0</td>\n",
       "      <td>10.0</td>\n",
       "    </tr>\n",
       "    <tr>\n",
       "      <th>18</th>\n",
       "      <td>67.0</td>\n",
       "      <td>78.0</td>\n",
       "      <td>1.85</td>\n",
       "      <td>22.790358</td>\n",
       "      <td>15.0</td>\n",
       "      <td>8.0</td>\n",
       "    </tr>\n",
       "    <tr>\n",
       "      <th>20</th>\n",
       "      <td>68.0</td>\n",
       "      <td>50.0</td>\n",
       "      <td>1.32</td>\n",
       "      <td>28.696051</td>\n",
       "      <td>8.0</td>\n",
       "      <td>13.0</td>\n",
       "    </tr>\n",
       "    <tr>\n",
       "      <th>21</th>\n",
       "      <td>56.0</td>\n",
       "      <td>76.0</td>\n",
       "      <td>1.69</td>\n",
       "      <td>26.609713</td>\n",
       "      <td>10.0</td>\n",
       "      <td>12.0</td>\n",
       "    </tr>\n",
       "    <tr>\n",
       "      <th>22</th>\n",
       "      <td>67.0</td>\n",
       "      <td>78.0</td>\n",
       "      <td>1.85</td>\n",
       "      <td>22.790358</td>\n",
       "      <td>15.0</td>\n",
       "      <td>8.0</td>\n",
       "    </tr>\n",
       "    <tr>\n",
       "      <th>24</th>\n",
       "      <td>45.0</td>\n",
       "      <td>85.0</td>\n",
       "      <td>1.80</td>\n",
       "      <td>26.300000</td>\n",
       "      <td>12.0</td>\n",
       "      <td>11.0</td>\n",
       "    </tr>\n",
       "  </tbody>\n",
       "</table>\n",
       "</div>"
      ],
      "text/plain": [
       "     Age  Weight (in kg)  Height (in m)        BMI  Rank_min  Rank_densed\n",
       "0   45.0            60.0           1.35  32.921811       5.0         16.0\n",
       "2   54.0            78.0           1.50  34.666667       4.0         17.0\n",
       "4   68.0            50.0           1.32  28.696051       8.0         13.0\n",
       "7   57.0            34.0           1.61  13.116778      22.0          3.0\n",
       "8   75.0            23.0           1.24  14.958377      20.0          5.0\n",
       "12  55.0            89.0           1.65  32.690542       6.0         15.0\n",
       "14  56.0            76.0           1.69  26.609713      10.0         12.0\n",
       "15  67.0            78.0           1.85  22.790358      15.0          8.0\n",
       "17  56.0            74.0           1.69  25.909457      13.0         10.0\n",
       "18  67.0            78.0           1.85  22.790358      15.0          8.0\n",
       "20  68.0            50.0           1.32  28.696051       8.0         13.0\n",
       "21  56.0            76.0           1.69  26.609713      10.0         12.0\n",
       "22  67.0            78.0           1.85  22.790358      15.0          8.0\n",
       "24  45.0            85.0           1.80  26.300000      12.0         11.0"
      ]
     },
     "execution_count": 111,
     "metadata": {},
     "output_type": "execute_result"
    }
   ],
   "source": [
    "# to select rows where either age is greater than 40 or weight is more than 65\n",
    "df_basic_info[ (df_basic_info[\"Age\"] > 40) | (df_basic_info['Weight (in kg)'] > 65)]"
   ]
  },
  {
   "cell_type": "markdown",
   "id": "b458818c",
   "metadata": {},
   "source": [
    "Subsetting the age *and* weight column value more than 65"
   ]
  },
  {
   "cell_type": "code",
   "execution_count": 91,
   "id": "91ebbcc1",
   "metadata": {},
   "outputs": [
    {
     "data": {
      "text/html": [
       "<div>\n",
       "<style scoped>\n",
       "    .dataframe tbody tr th:only-of-type {\n",
       "        vertical-align: middle;\n",
       "    }\n",
       "\n",
       "    .dataframe tbody tr th {\n",
       "        vertical-align: top;\n",
       "    }\n",
       "\n",
       "    .dataframe thead th {\n",
       "        text-align: right;\n",
       "    }\n",
       "</style>\n",
       "<table border=\"1\" class=\"dataframe\">\n",
       "  <thead>\n",
       "    <tr style=\"text-align: right;\">\n",
       "      <th></th>\n",
       "      <th>Age</th>\n",
       "      <th>Weight (in kg)</th>\n",
       "      <th>Height (in m)</th>\n",
       "      <th>BMI</th>\n",
       "    </tr>\n",
       "  </thead>\n",
       "  <tbody>\n",
       "    <tr>\n",
       "      <th>15</th>\n",
       "      <td>67.0</td>\n",
       "      <td>78.0</td>\n",
       "      <td>1.85</td>\n",
       "      <td>22.790358</td>\n",
       "    </tr>\n",
       "    <tr>\n",
       "      <th>18</th>\n",
       "      <td>67.0</td>\n",
       "      <td>78.0</td>\n",
       "      <td>1.85</td>\n",
       "      <td>22.790358</td>\n",
       "    </tr>\n",
       "    <tr>\n",
       "      <th>22</th>\n",
       "      <td>67.0</td>\n",
       "      <td>78.0</td>\n",
       "      <td>1.85</td>\n",
       "      <td>22.790358</td>\n",
       "    </tr>\n",
       "  </tbody>\n",
       "</table>\n",
       "</div>"
      ],
      "text/plain": [
       "     Age  Weight (in kg)  Height (in m)        BMI\n",
       "15  67.0            78.0           1.85  22.790358\n",
       "18  67.0            78.0           1.85  22.790358\n",
       "22  67.0            78.0           1.85  22.790358"
      ]
     },
     "execution_count": 91,
     "metadata": {},
     "output_type": "execute_result"
    }
   ],
   "source": [
    "# select rows where both age and weight are more than 65\n",
    "df_basic_info[(df_basic_info[\"Age\"] > 65) & (df_basic_info['Weight (in kg)'] > 65)]"
   ]
  },
  {
   "cell_type": "markdown",
   "id": "e9a7086a",
   "metadata": {},
   "source": [
    "**Sort the data frame on the basis of values in a column**\n",
    "\n",
    "Each column of a pandas DataFrame is treated as a pandas Series. The `.sort_values()` in DataFrames works similar to the `pandas.Series`."
   ]
  },
  {
   "cell_type": "code",
   "execution_count": 92,
   "id": "68ee068d",
   "metadata": {},
   "outputs": [
    {
     "data": {
      "text/html": [
       "<div>\n",
       "<style scoped>\n",
       "    .dataframe tbody tr th:only-of-type {\n",
       "        vertical-align: middle;\n",
       "    }\n",
       "\n",
       "    .dataframe tbody tr th {\n",
       "        vertical-align: top;\n",
       "    }\n",
       "\n",
       "    .dataframe thead th {\n",
       "        text-align: right;\n",
       "    }\n",
       "</style>\n",
       "<table border=\"1\" class=\"dataframe\">\n",
       "  <thead>\n",
       "    <tr style=\"text-align: right;\">\n",
       "      <th></th>\n",
       "      <th>Age</th>\n",
       "      <th>Weight (in kg)</th>\n",
       "      <th>Height (in m)</th>\n",
       "      <th>BMI</th>\n",
       "    </tr>\n",
       "  </thead>\n",
       "  <tbody>\n",
       "    <tr>\n",
       "      <th>6</th>\n",
       "      <td>10.0</td>\n",
       "      <td>32.0</td>\n",
       "      <td>1.65</td>\n",
       "      <td>11.753903</td>\n",
       "    </tr>\n",
       "    <tr>\n",
       "      <th>1</th>\n",
       "      <td>12.0</td>\n",
       "      <td>43.0</td>\n",
       "      <td>1.21</td>\n",
       "      <td>29.369579</td>\n",
       "    </tr>\n",
       "    <tr>\n",
       "      <th>5</th>\n",
       "      <td>21.0</td>\n",
       "      <td>43.0</td>\n",
       "      <td>1.52</td>\n",
       "      <td>18.611496</td>\n",
       "    </tr>\n",
       "    <tr>\n",
       "      <th>13</th>\n",
       "      <td>23.0</td>\n",
       "      <td>45.0</td>\n",
       "      <td>1.75</td>\n",
       "      <td>14.693878</td>\n",
       "    </tr>\n",
       "    <tr>\n",
       "      <th>10</th>\n",
       "      <td>23.0</td>\n",
       "      <td>53.0</td>\n",
       "      <td>1.50</td>\n",
       "      <td>23.555556</td>\n",
       "    </tr>\n",
       "    <tr>\n",
       "      <th>19</th>\n",
       "      <td>26.0</td>\n",
       "      <td>65.0</td>\n",
       "      <td>1.21</td>\n",
       "      <td>44.395875</td>\n",
       "    </tr>\n",
       "    <tr>\n",
       "      <th>3</th>\n",
       "      <td>26.0</td>\n",
       "      <td>65.0</td>\n",
       "      <td>1.21</td>\n",
       "      <td>44.395875</td>\n",
       "    </tr>\n",
       "    <tr>\n",
       "      <th>16</th>\n",
       "      <td>26.0</td>\n",
       "      <td>65.0</td>\n",
       "      <td>1.21</td>\n",
       "      <td>44.395875</td>\n",
       "    </tr>\n",
       "    <tr>\n",
       "      <th>9</th>\n",
       "      <td>32.0</td>\n",
       "      <td>21.0</td>\n",
       "      <td>1.52</td>\n",
       "      <td>9.089335</td>\n",
       "    </tr>\n",
       "    <tr>\n",
       "      <th>11</th>\n",
       "      <td>34.0</td>\n",
       "      <td>65.0</td>\n",
       "      <td>1.76</td>\n",
       "      <td>20.983988</td>\n",
       "    </tr>\n",
       "    <tr>\n",
       "      <th>0</th>\n",
       "      <td>45.0</td>\n",
       "      <td>60.0</td>\n",
       "      <td>1.35</td>\n",
       "      <td>32.921811</td>\n",
       "    </tr>\n",
       "    <tr>\n",
       "      <th>24</th>\n",
       "      <td>45.0</td>\n",
       "      <td>85.0</td>\n",
       "      <td>1.80</td>\n",
       "      <td>26.300000</td>\n",
       "    </tr>\n",
       "    <tr>\n",
       "      <th>2</th>\n",
       "      <td>54.0</td>\n",
       "      <td>78.0</td>\n",
       "      <td>1.50</td>\n",
       "      <td>34.666667</td>\n",
       "    </tr>\n",
       "    <tr>\n",
       "      <th>12</th>\n",
       "      <td>55.0</td>\n",
       "      <td>89.0</td>\n",
       "      <td>1.65</td>\n",
       "      <td>32.690542</td>\n",
       "    </tr>\n",
       "    <tr>\n",
       "      <th>14</th>\n",
       "      <td>56.0</td>\n",
       "      <td>76.0</td>\n",
       "      <td>1.69</td>\n",
       "      <td>26.609713</td>\n",
       "    </tr>\n",
       "    <tr>\n",
       "      <th>17</th>\n",
       "      <td>56.0</td>\n",
       "      <td>74.0</td>\n",
       "      <td>1.69</td>\n",
       "      <td>25.909457</td>\n",
       "    </tr>\n",
       "    <tr>\n",
       "      <th>21</th>\n",
       "      <td>56.0</td>\n",
       "      <td>76.0</td>\n",
       "      <td>1.69</td>\n",
       "      <td>26.609713</td>\n",
       "    </tr>\n",
       "    <tr>\n",
       "      <th>7</th>\n",
       "      <td>57.0</td>\n",
       "      <td>34.0</td>\n",
       "      <td>1.61</td>\n",
       "      <td>13.116778</td>\n",
       "    </tr>\n",
       "    <tr>\n",
       "      <th>22</th>\n",
       "      <td>67.0</td>\n",
       "      <td>78.0</td>\n",
       "      <td>1.85</td>\n",
       "      <td>22.790358</td>\n",
       "    </tr>\n",
       "    <tr>\n",
       "      <th>15</th>\n",
       "      <td>67.0</td>\n",
       "      <td>78.0</td>\n",
       "      <td>1.85</td>\n",
       "      <td>22.790358</td>\n",
       "    </tr>\n",
       "    <tr>\n",
       "      <th>18</th>\n",
       "      <td>67.0</td>\n",
       "      <td>78.0</td>\n",
       "      <td>1.85</td>\n",
       "      <td>22.790358</td>\n",
       "    </tr>\n",
       "    <tr>\n",
       "      <th>4</th>\n",
       "      <td>68.0</td>\n",
       "      <td>50.0</td>\n",
       "      <td>1.32</td>\n",
       "      <td>28.696051</td>\n",
       "    </tr>\n",
       "    <tr>\n",
       "      <th>20</th>\n",
       "      <td>68.0</td>\n",
       "      <td>50.0</td>\n",
       "      <td>1.32</td>\n",
       "      <td>28.696051</td>\n",
       "    </tr>\n",
       "    <tr>\n",
       "      <th>8</th>\n",
       "      <td>75.0</td>\n",
       "      <td>23.0</td>\n",
       "      <td>1.24</td>\n",
       "      <td>14.958377</td>\n",
       "    </tr>\n",
       "  </tbody>\n",
       "</table>\n",
       "</div>"
      ],
      "text/plain": [
       "     Age  Weight (in kg)  Height (in m)        BMI\n",
       "6   10.0            32.0           1.65  11.753903\n",
       "1   12.0            43.0           1.21  29.369579\n",
       "5   21.0            43.0           1.52  18.611496\n",
       "13  23.0            45.0           1.75  14.693878\n",
       "10  23.0            53.0           1.50  23.555556\n",
       "19  26.0            65.0           1.21  44.395875\n",
       "3   26.0            65.0           1.21  44.395875\n",
       "16  26.0            65.0           1.21  44.395875\n",
       "9   32.0            21.0           1.52   9.089335\n",
       "11  34.0            65.0           1.76  20.983988\n",
       "0   45.0            60.0           1.35  32.921811\n",
       "24  45.0            85.0           1.80  26.300000\n",
       "2   54.0            78.0           1.50  34.666667\n",
       "12  55.0            89.0           1.65  32.690542\n",
       "14  56.0            76.0           1.69  26.609713\n",
       "17  56.0            74.0           1.69  25.909457\n",
       "21  56.0            76.0           1.69  26.609713\n",
       "7   57.0            34.0           1.61  13.116778\n",
       "22  67.0            78.0           1.85  22.790358\n",
       "15  67.0            78.0           1.85  22.790358\n",
       "18  67.0            78.0           1.85  22.790358\n",
       "4   68.0            50.0           1.32  28.696051\n",
       "20  68.0            50.0           1.32  28.696051\n",
       "8   75.0            23.0           1.24  14.958377"
      ]
     },
     "execution_count": 92,
     "metadata": {},
     "output_type": "execute_result"
    }
   ],
   "source": [
    "# sort the data frame on basis of 'Age' values\n",
    "# by default the values will get sorted in ascending order\n",
    "df_basic_info.sort_values('Age')"
   ]
  },
  {
   "cell_type": "markdown",
   "id": "f440a353",
   "metadata": {},
   "source": [
    "#### Note: 'ascending = False' will sort the data frame in descending order"
   ]
  },
  {
   "cell_type": "markdown",
   "id": "63b835b7",
   "metadata": {},
   "source": [
    "**Rank the dataframe**"
   ]
  },
  {
   "cell_type": "code",
   "execution_count": 93,
   "id": "f50bc7e9",
   "metadata": {},
   "outputs": [],
   "source": [
    "# rank the data frame 'data' in descending order based on 'BMI'\n",
    "# 'method = min' assigns the minimum rank to highest equal value of 'BMI' \n",
    "df_basic_info['Rank_min'] = df_basic_info['BMI'].rank(ascending = 0, method  = 'min')"
   ]
  },
  {
   "cell_type": "code",
   "execution_count": 94,
   "id": "25cc04e6",
   "metadata": {},
   "outputs": [
    {
     "data": {
      "text/html": [
       "<div>\n",
       "<style scoped>\n",
       "    .dataframe tbody tr th:only-of-type {\n",
       "        vertical-align: middle;\n",
       "    }\n",
       "\n",
       "    .dataframe tbody tr th {\n",
       "        vertical-align: top;\n",
       "    }\n",
       "\n",
       "    .dataframe thead th {\n",
       "        text-align: right;\n",
       "    }\n",
       "</style>\n",
       "<table border=\"1\" class=\"dataframe\">\n",
       "  <thead>\n",
       "    <tr style=\"text-align: right;\">\n",
       "      <th></th>\n",
       "      <th>Age</th>\n",
       "      <th>Weight (in kg)</th>\n",
       "      <th>Height (in m)</th>\n",
       "      <th>BMI</th>\n",
       "      <th>Rank_min</th>\n",
       "    </tr>\n",
       "  </thead>\n",
       "  <tbody>\n",
       "    <tr>\n",
       "      <th>0</th>\n",
       "      <td>45.0</td>\n",
       "      <td>60.0</td>\n",
       "      <td>1.35</td>\n",
       "      <td>32.921811</td>\n",
       "      <td>5.0</td>\n",
       "    </tr>\n",
       "    <tr>\n",
       "      <th>1</th>\n",
       "      <td>12.0</td>\n",
       "      <td>43.0</td>\n",
       "      <td>1.21</td>\n",
       "      <td>29.369579</td>\n",
       "      <td>7.0</td>\n",
       "    </tr>\n",
       "    <tr>\n",
       "      <th>2</th>\n",
       "      <td>54.0</td>\n",
       "      <td>78.0</td>\n",
       "      <td>1.50</td>\n",
       "      <td>34.666667</td>\n",
       "      <td>4.0</td>\n",
       "    </tr>\n",
       "    <tr>\n",
       "      <th>3</th>\n",
       "      <td>26.0</td>\n",
       "      <td>65.0</td>\n",
       "      <td>1.21</td>\n",
       "      <td>44.395875</td>\n",
       "      <td>1.0</td>\n",
       "    </tr>\n",
       "    <tr>\n",
       "      <th>4</th>\n",
       "      <td>68.0</td>\n",
       "      <td>50.0</td>\n",
       "      <td>1.32</td>\n",
       "      <td>28.696051</td>\n",
       "      <td>8.0</td>\n",
       "    </tr>\n",
       "    <tr>\n",
       "      <th>5</th>\n",
       "      <td>21.0</td>\n",
       "      <td>43.0</td>\n",
       "      <td>1.52</td>\n",
       "      <td>18.611496</td>\n",
       "      <td>19.0</td>\n",
       "    </tr>\n",
       "    <tr>\n",
       "      <th>6</th>\n",
       "      <td>10.0</td>\n",
       "      <td>32.0</td>\n",
       "      <td>1.65</td>\n",
       "      <td>11.753903</td>\n",
       "      <td>23.0</td>\n",
       "    </tr>\n",
       "    <tr>\n",
       "      <th>7</th>\n",
       "      <td>57.0</td>\n",
       "      <td>34.0</td>\n",
       "      <td>1.61</td>\n",
       "      <td>13.116778</td>\n",
       "      <td>22.0</td>\n",
       "    </tr>\n",
       "    <tr>\n",
       "      <th>8</th>\n",
       "      <td>75.0</td>\n",
       "      <td>23.0</td>\n",
       "      <td>1.24</td>\n",
       "      <td>14.958377</td>\n",
       "      <td>20.0</td>\n",
       "    </tr>\n",
       "    <tr>\n",
       "      <th>9</th>\n",
       "      <td>32.0</td>\n",
       "      <td>21.0</td>\n",
       "      <td>1.52</td>\n",
       "      <td>9.089335</td>\n",
       "      <td>24.0</td>\n",
       "    </tr>\n",
       "    <tr>\n",
       "      <th>10</th>\n",
       "      <td>23.0</td>\n",
       "      <td>53.0</td>\n",
       "      <td>1.50</td>\n",
       "      <td>23.555556</td>\n",
       "      <td>14.0</td>\n",
       "    </tr>\n",
       "    <tr>\n",
       "      <th>11</th>\n",
       "      <td>34.0</td>\n",
       "      <td>65.0</td>\n",
       "      <td>1.76</td>\n",
       "      <td>20.983988</td>\n",
       "      <td>18.0</td>\n",
       "    </tr>\n",
       "    <tr>\n",
       "      <th>12</th>\n",
       "      <td>55.0</td>\n",
       "      <td>89.0</td>\n",
       "      <td>1.65</td>\n",
       "      <td>32.690542</td>\n",
       "      <td>6.0</td>\n",
       "    </tr>\n",
       "    <tr>\n",
       "      <th>13</th>\n",
       "      <td>23.0</td>\n",
       "      <td>45.0</td>\n",
       "      <td>1.75</td>\n",
       "      <td>14.693878</td>\n",
       "      <td>21.0</td>\n",
       "    </tr>\n",
       "    <tr>\n",
       "      <th>14</th>\n",
       "      <td>56.0</td>\n",
       "      <td>76.0</td>\n",
       "      <td>1.69</td>\n",
       "      <td>26.609713</td>\n",
       "      <td>10.0</td>\n",
       "    </tr>\n",
       "    <tr>\n",
       "      <th>15</th>\n",
       "      <td>67.0</td>\n",
       "      <td>78.0</td>\n",
       "      <td>1.85</td>\n",
       "      <td>22.790358</td>\n",
       "      <td>15.0</td>\n",
       "    </tr>\n",
       "    <tr>\n",
       "      <th>16</th>\n",
       "      <td>26.0</td>\n",
       "      <td>65.0</td>\n",
       "      <td>1.21</td>\n",
       "      <td>44.395875</td>\n",
       "      <td>1.0</td>\n",
       "    </tr>\n",
       "    <tr>\n",
       "      <th>17</th>\n",
       "      <td>56.0</td>\n",
       "      <td>74.0</td>\n",
       "      <td>1.69</td>\n",
       "      <td>25.909457</td>\n",
       "      <td>13.0</td>\n",
       "    </tr>\n",
       "    <tr>\n",
       "      <th>18</th>\n",
       "      <td>67.0</td>\n",
       "      <td>78.0</td>\n",
       "      <td>1.85</td>\n",
       "      <td>22.790358</td>\n",
       "      <td>15.0</td>\n",
       "    </tr>\n",
       "    <tr>\n",
       "      <th>19</th>\n",
       "      <td>26.0</td>\n",
       "      <td>65.0</td>\n",
       "      <td>1.21</td>\n",
       "      <td>44.395875</td>\n",
       "      <td>1.0</td>\n",
       "    </tr>\n",
       "    <tr>\n",
       "      <th>20</th>\n",
       "      <td>68.0</td>\n",
       "      <td>50.0</td>\n",
       "      <td>1.32</td>\n",
       "      <td>28.696051</td>\n",
       "      <td>8.0</td>\n",
       "    </tr>\n",
       "    <tr>\n",
       "      <th>21</th>\n",
       "      <td>56.0</td>\n",
       "      <td>76.0</td>\n",
       "      <td>1.69</td>\n",
       "      <td>26.609713</td>\n",
       "      <td>10.0</td>\n",
       "    </tr>\n",
       "    <tr>\n",
       "      <th>22</th>\n",
       "      <td>67.0</td>\n",
       "      <td>78.0</td>\n",
       "      <td>1.85</td>\n",
       "      <td>22.790358</td>\n",
       "      <td>15.0</td>\n",
       "    </tr>\n",
       "    <tr>\n",
       "      <th>24</th>\n",
       "      <td>45.0</td>\n",
       "      <td>85.0</td>\n",
       "      <td>1.80</td>\n",
       "      <td>26.300000</td>\n",
       "      <td>12.0</td>\n",
       "    </tr>\n",
       "  </tbody>\n",
       "</table>\n",
       "</div>"
      ],
      "text/plain": [
       "     Age  Weight (in kg)  Height (in m)        BMI  Rank_min\n",
       "0   45.0            60.0           1.35  32.921811       5.0\n",
       "1   12.0            43.0           1.21  29.369579       7.0\n",
       "2   54.0            78.0           1.50  34.666667       4.0\n",
       "3   26.0            65.0           1.21  44.395875       1.0\n",
       "4   68.0            50.0           1.32  28.696051       8.0\n",
       "5   21.0            43.0           1.52  18.611496      19.0\n",
       "6   10.0            32.0           1.65  11.753903      23.0\n",
       "7   57.0            34.0           1.61  13.116778      22.0\n",
       "8   75.0            23.0           1.24  14.958377      20.0\n",
       "9   32.0            21.0           1.52   9.089335      24.0\n",
       "10  23.0            53.0           1.50  23.555556      14.0\n",
       "11  34.0            65.0           1.76  20.983988      18.0\n",
       "12  55.0            89.0           1.65  32.690542       6.0\n",
       "13  23.0            45.0           1.75  14.693878      21.0\n",
       "14  56.0            76.0           1.69  26.609713      10.0\n",
       "15  67.0            78.0           1.85  22.790358      15.0\n",
       "16  26.0            65.0           1.21  44.395875       1.0\n",
       "17  56.0            74.0           1.69  25.909457      13.0\n",
       "18  67.0            78.0           1.85  22.790358      15.0\n",
       "19  26.0            65.0           1.21  44.395875       1.0\n",
       "20  68.0            50.0           1.32  28.696051       8.0\n",
       "21  56.0            76.0           1.69  26.609713      10.0\n",
       "22  67.0            78.0           1.85  22.790358      15.0\n",
       "24  45.0            85.0           1.80  26.300000      12.0"
      ]
     },
     "execution_count": 94,
     "metadata": {},
     "output_type": "execute_result"
    }
   ],
   "source": [
    "# print the data\n",
    "df_basic_info"
   ]
  },
  {
   "cell_type": "markdown",
   "id": "34429df1",
   "metadata": {},
   "source": [
    "From the above data frame, we can see that 'BMI = 44.395875' is repeating thrice; thus the method = 'min' will assign the minimum rank (=1) to all the three values of BMI. The rank '4' will be assigned to the second largest value of BMI and so on. Thus, there is no rank equal to 2 and 3.\n",
    "\n"
   ]
  },
  {
   "cell_type": "code",
   "execution_count": 113,
   "id": "031b0286",
   "metadata": {},
   "outputs": [],
   "source": [
    "# method = 'dense' assigns same rank to all the same BMI values\n",
    "df_basic_info['Rank_densed'] = df_basic_info['BMI'].rank(method = 'dense')"
   ]
  },
  {
   "cell_type": "code",
   "execution_count": 114,
   "id": "96e0dcf5",
   "metadata": {},
   "outputs": [
    {
     "data": {
      "text/html": [
       "<div>\n",
       "<style scoped>\n",
       "    .dataframe tbody tr th:only-of-type {\n",
       "        vertical-align: middle;\n",
       "    }\n",
       "\n",
       "    .dataframe tbody tr th {\n",
       "        vertical-align: top;\n",
       "    }\n",
       "\n",
       "    .dataframe thead th {\n",
       "        text-align: right;\n",
       "    }\n",
       "</style>\n",
       "<table border=\"1\" class=\"dataframe\">\n",
       "  <thead>\n",
       "    <tr style=\"text-align: right;\">\n",
       "      <th></th>\n",
       "      <th>Age</th>\n",
       "      <th>Weight (in kg)</th>\n",
       "      <th>Height (in m)</th>\n",
       "      <th>BMI</th>\n",
       "      <th>Rank_min</th>\n",
       "      <th>Rank_densed</th>\n",
       "    </tr>\n",
       "  </thead>\n",
       "  <tbody>\n",
       "    <tr>\n",
       "      <th>0</th>\n",
       "      <td>45.0</td>\n",
       "      <td>60.0</td>\n",
       "      <td>1.35</td>\n",
       "      <td>32.921811</td>\n",
       "      <td>5.0</td>\n",
       "      <td>16.0</td>\n",
       "    </tr>\n",
       "    <tr>\n",
       "      <th>1</th>\n",
       "      <td>12.0</td>\n",
       "      <td>43.0</td>\n",
       "      <td>1.21</td>\n",
       "      <td>29.369579</td>\n",
       "      <td>7.0</td>\n",
       "      <td>14.0</td>\n",
       "    </tr>\n",
       "    <tr>\n",
       "      <th>2</th>\n",
       "      <td>54.0</td>\n",
       "      <td>78.0</td>\n",
       "      <td>1.50</td>\n",
       "      <td>34.666667</td>\n",
       "      <td>4.0</td>\n",
       "      <td>17.0</td>\n",
       "    </tr>\n",
       "    <tr>\n",
       "      <th>3</th>\n",
       "      <td>26.0</td>\n",
       "      <td>65.0</td>\n",
       "      <td>1.21</td>\n",
       "      <td>44.395875</td>\n",
       "      <td>1.0</td>\n",
       "      <td>18.0</td>\n",
       "    </tr>\n",
       "    <tr>\n",
       "      <th>4</th>\n",
       "      <td>68.0</td>\n",
       "      <td>50.0</td>\n",
       "      <td>1.32</td>\n",
       "      <td>28.696051</td>\n",
       "      <td>8.0</td>\n",
       "      <td>13.0</td>\n",
       "    </tr>\n",
       "    <tr>\n",
       "      <th>5</th>\n",
       "      <td>21.0</td>\n",
       "      <td>43.0</td>\n",
       "      <td>1.52</td>\n",
       "      <td>18.611496</td>\n",
       "      <td>19.0</td>\n",
       "      <td>6.0</td>\n",
       "    </tr>\n",
       "    <tr>\n",
       "      <th>6</th>\n",
       "      <td>10.0</td>\n",
       "      <td>32.0</td>\n",
       "      <td>1.65</td>\n",
       "      <td>11.753903</td>\n",
       "      <td>23.0</td>\n",
       "      <td>2.0</td>\n",
       "    </tr>\n",
       "    <tr>\n",
       "      <th>7</th>\n",
       "      <td>57.0</td>\n",
       "      <td>34.0</td>\n",
       "      <td>1.61</td>\n",
       "      <td>13.116778</td>\n",
       "      <td>22.0</td>\n",
       "      <td>3.0</td>\n",
       "    </tr>\n",
       "    <tr>\n",
       "      <th>8</th>\n",
       "      <td>75.0</td>\n",
       "      <td>23.0</td>\n",
       "      <td>1.24</td>\n",
       "      <td>14.958377</td>\n",
       "      <td>20.0</td>\n",
       "      <td>5.0</td>\n",
       "    </tr>\n",
       "    <tr>\n",
       "      <th>9</th>\n",
       "      <td>32.0</td>\n",
       "      <td>21.0</td>\n",
       "      <td>1.52</td>\n",
       "      <td>9.089335</td>\n",
       "      <td>24.0</td>\n",
       "      <td>1.0</td>\n",
       "    </tr>\n",
       "    <tr>\n",
       "      <th>10</th>\n",
       "      <td>23.0</td>\n",
       "      <td>53.0</td>\n",
       "      <td>1.50</td>\n",
       "      <td>23.555556</td>\n",
       "      <td>14.0</td>\n",
       "      <td>9.0</td>\n",
       "    </tr>\n",
       "    <tr>\n",
       "      <th>11</th>\n",
       "      <td>34.0</td>\n",
       "      <td>65.0</td>\n",
       "      <td>1.76</td>\n",
       "      <td>20.983988</td>\n",
       "      <td>18.0</td>\n",
       "      <td>7.0</td>\n",
       "    </tr>\n",
       "    <tr>\n",
       "      <th>12</th>\n",
       "      <td>55.0</td>\n",
       "      <td>89.0</td>\n",
       "      <td>1.65</td>\n",
       "      <td>32.690542</td>\n",
       "      <td>6.0</td>\n",
       "      <td>15.0</td>\n",
       "    </tr>\n",
       "    <tr>\n",
       "      <th>13</th>\n",
       "      <td>23.0</td>\n",
       "      <td>45.0</td>\n",
       "      <td>1.75</td>\n",
       "      <td>14.693878</td>\n",
       "      <td>21.0</td>\n",
       "      <td>4.0</td>\n",
       "    </tr>\n",
       "    <tr>\n",
       "      <th>14</th>\n",
       "      <td>56.0</td>\n",
       "      <td>76.0</td>\n",
       "      <td>1.69</td>\n",
       "      <td>26.609713</td>\n",
       "      <td>10.0</td>\n",
       "      <td>12.0</td>\n",
       "    </tr>\n",
       "    <tr>\n",
       "      <th>15</th>\n",
       "      <td>67.0</td>\n",
       "      <td>78.0</td>\n",
       "      <td>1.85</td>\n",
       "      <td>22.790358</td>\n",
       "      <td>15.0</td>\n",
       "      <td>8.0</td>\n",
       "    </tr>\n",
       "    <tr>\n",
       "      <th>16</th>\n",
       "      <td>26.0</td>\n",
       "      <td>65.0</td>\n",
       "      <td>1.21</td>\n",
       "      <td>44.395875</td>\n",
       "      <td>1.0</td>\n",
       "      <td>18.0</td>\n",
       "    </tr>\n",
       "    <tr>\n",
       "      <th>17</th>\n",
       "      <td>56.0</td>\n",
       "      <td>74.0</td>\n",
       "      <td>1.69</td>\n",
       "      <td>25.909457</td>\n",
       "      <td>13.0</td>\n",
       "      <td>10.0</td>\n",
       "    </tr>\n",
       "    <tr>\n",
       "      <th>18</th>\n",
       "      <td>67.0</td>\n",
       "      <td>78.0</td>\n",
       "      <td>1.85</td>\n",
       "      <td>22.790358</td>\n",
       "      <td>15.0</td>\n",
       "      <td>8.0</td>\n",
       "    </tr>\n",
       "    <tr>\n",
       "      <th>19</th>\n",
       "      <td>26.0</td>\n",
       "      <td>65.0</td>\n",
       "      <td>1.21</td>\n",
       "      <td>44.395875</td>\n",
       "      <td>1.0</td>\n",
       "      <td>18.0</td>\n",
       "    </tr>\n",
       "    <tr>\n",
       "      <th>20</th>\n",
       "      <td>68.0</td>\n",
       "      <td>50.0</td>\n",
       "      <td>1.32</td>\n",
       "      <td>28.696051</td>\n",
       "      <td>8.0</td>\n",
       "      <td>13.0</td>\n",
       "    </tr>\n",
       "    <tr>\n",
       "      <th>21</th>\n",
       "      <td>56.0</td>\n",
       "      <td>76.0</td>\n",
       "      <td>1.69</td>\n",
       "      <td>26.609713</td>\n",
       "      <td>10.0</td>\n",
       "      <td>12.0</td>\n",
       "    </tr>\n",
       "    <tr>\n",
       "      <th>22</th>\n",
       "      <td>67.0</td>\n",
       "      <td>78.0</td>\n",
       "      <td>1.85</td>\n",
       "      <td>22.790358</td>\n",
       "      <td>15.0</td>\n",
       "      <td>8.0</td>\n",
       "    </tr>\n",
       "    <tr>\n",
       "      <th>24</th>\n",
       "      <td>45.0</td>\n",
       "      <td>85.0</td>\n",
       "      <td>1.80</td>\n",
       "      <td>26.300000</td>\n",
       "      <td>12.0</td>\n",
       "      <td>11.0</td>\n",
       "    </tr>\n",
       "  </tbody>\n",
       "</table>\n",
       "</div>"
      ],
      "text/plain": [
       "     Age  Weight (in kg)  Height (in m)        BMI  Rank_min  Rank_densed\n",
       "0   45.0            60.0           1.35  32.921811       5.0         16.0\n",
       "1   12.0            43.0           1.21  29.369579       7.0         14.0\n",
       "2   54.0            78.0           1.50  34.666667       4.0         17.0\n",
       "3   26.0            65.0           1.21  44.395875       1.0         18.0\n",
       "4   68.0            50.0           1.32  28.696051       8.0         13.0\n",
       "5   21.0            43.0           1.52  18.611496      19.0          6.0\n",
       "6   10.0            32.0           1.65  11.753903      23.0          2.0\n",
       "7   57.0            34.0           1.61  13.116778      22.0          3.0\n",
       "8   75.0            23.0           1.24  14.958377      20.0          5.0\n",
       "9   32.0            21.0           1.52   9.089335      24.0          1.0\n",
       "10  23.0            53.0           1.50  23.555556      14.0          9.0\n",
       "11  34.0            65.0           1.76  20.983988      18.0          7.0\n",
       "12  55.0            89.0           1.65  32.690542       6.0         15.0\n",
       "13  23.0            45.0           1.75  14.693878      21.0          4.0\n",
       "14  56.0            76.0           1.69  26.609713      10.0         12.0\n",
       "15  67.0            78.0           1.85  22.790358      15.0          8.0\n",
       "16  26.0            65.0           1.21  44.395875       1.0         18.0\n",
       "17  56.0            74.0           1.69  25.909457      13.0         10.0\n",
       "18  67.0            78.0           1.85  22.790358      15.0          8.0\n",
       "19  26.0            65.0           1.21  44.395875       1.0         18.0\n",
       "20  68.0            50.0           1.32  28.696051       8.0         13.0\n",
       "21  56.0            76.0           1.69  26.609713      10.0         12.0\n",
       "22  67.0            78.0           1.85  22.790358      15.0          8.0\n",
       "24  45.0            85.0           1.80  26.300000      12.0         11.0"
      ]
     },
     "execution_count": 114,
     "metadata": {},
     "output_type": "execute_result"
    }
   ],
   "source": [
    "# print the data\n",
    "df_basic_info"
   ]
  },
  {
   "cell_type": "markdown",
   "id": "f07cc7bd",
   "metadata": {},
   "source": [
    "Here, the dense method assigns minimum rank (=1) to the minimum value (=9.089335) of the BMI. Rank 2 will be assigned to next smallest value and so on. The value 44.395875 which repeats thrice has the same rank - 18 to the three observations."
   ]
  },
  {
   "cell_type": "markdown",
   "id": "e94a2b63",
   "metadata": {},
   "source": [
    "**To check for missing values**\n",
    "\n",
    "We shall import a new dataset."
   ]
  },
  {
   "cell_type": "code",
   "execution_count": 115,
   "id": "461b2b2b",
   "metadata": {},
   "outputs": [],
   "source": [
    "# read the dataset\n",
    "df_basic_info_missing = pd.read_csv(\"basic_info_missingdata.csv\")"
   ]
  },
  {
   "cell_type": "code",
   "execution_count": 116,
   "id": "836c7ca6",
   "metadata": {},
   "outputs": [
    {
     "data": {
      "text/html": [
       "<div>\n",
       "<style scoped>\n",
       "    .dataframe tbody tr th:only-of-type {\n",
       "        vertical-align: middle;\n",
       "    }\n",
       "\n",
       "    .dataframe tbody tr th {\n",
       "        vertical-align: top;\n",
       "    }\n",
       "\n",
       "    .dataframe thead th {\n",
       "        text-align: right;\n",
       "    }\n",
       "</style>\n",
       "<table border=\"1\" class=\"dataframe\">\n",
       "  <thead>\n",
       "    <tr style=\"text-align: right;\">\n",
       "      <th></th>\n",
       "      <th>Age</th>\n",
       "      <th>Weight (in kg)</th>\n",
       "      <th>Height (in m)</th>\n",
       "    </tr>\n",
       "  </thead>\n",
       "  <tbody>\n",
       "    <tr>\n",
       "      <th>0</th>\n",
       "      <td>45.0</td>\n",
       "      <td>60.0</td>\n",
       "      <td>1.35</td>\n",
       "    </tr>\n",
       "    <tr>\n",
       "      <th>1</th>\n",
       "      <td>12.0</td>\n",
       "      <td>43.0</td>\n",
       "      <td>1.21</td>\n",
       "    </tr>\n",
       "    <tr>\n",
       "      <th>2</th>\n",
       "      <td>54.0</td>\n",
       "      <td>78.0</td>\n",
       "      <td>1.50</td>\n",
       "    </tr>\n",
       "    <tr>\n",
       "      <th>3</th>\n",
       "      <td>26.0</td>\n",
       "      <td>65.0</td>\n",
       "      <td>1.21</td>\n",
       "    </tr>\n",
       "    <tr>\n",
       "      <th>4</th>\n",
       "      <td>68.0</td>\n",
       "      <td>50.0</td>\n",
       "      <td>1.32</td>\n",
       "    </tr>\n",
       "    <tr>\n",
       "      <th>5</th>\n",
       "      <td>21.0</td>\n",
       "      <td>NaN</td>\n",
       "      <td>1.52</td>\n",
       "    </tr>\n",
       "    <tr>\n",
       "      <th>6</th>\n",
       "      <td>10.0</td>\n",
       "      <td>32.0</td>\n",
       "      <td>1.65</td>\n",
       "    </tr>\n",
       "    <tr>\n",
       "      <th>7</th>\n",
       "      <td>57.0</td>\n",
       "      <td>34.0</td>\n",
       "      <td>1.61</td>\n",
       "    </tr>\n",
       "    <tr>\n",
       "      <th>8</th>\n",
       "      <td>75.0</td>\n",
       "      <td>23.0</td>\n",
       "      <td>1.24</td>\n",
       "    </tr>\n",
       "    <tr>\n",
       "      <th>9</th>\n",
       "      <td>32.0</td>\n",
       "      <td>21.0</td>\n",
       "      <td>1.52</td>\n",
       "    </tr>\n",
       "    <tr>\n",
       "      <th>10</th>\n",
       "      <td>23.0</td>\n",
       "      <td>NaN</td>\n",
       "      <td>1.50</td>\n",
       "    </tr>\n",
       "    <tr>\n",
       "      <th>11</th>\n",
       "      <td>34.0</td>\n",
       "      <td>65.0</td>\n",
       "      <td>1.76</td>\n",
       "    </tr>\n",
       "    <tr>\n",
       "      <th>12</th>\n",
       "      <td>55.0</td>\n",
       "      <td>89.0</td>\n",
       "      <td>1.65</td>\n",
       "    </tr>\n",
       "    <tr>\n",
       "      <th>13</th>\n",
       "      <td>23.0</td>\n",
       "      <td>45.0</td>\n",
       "      <td>1.75</td>\n",
       "    </tr>\n",
       "    <tr>\n",
       "      <th>14</th>\n",
       "      <td>56.0</td>\n",
       "      <td>76.0</td>\n",
       "      <td>1.69</td>\n",
       "    </tr>\n",
       "    <tr>\n",
       "      <th>15</th>\n",
       "      <td>67.0</td>\n",
       "      <td>78.0</td>\n",
       "      <td>1.85</td>\n",
       "    </tr>\n",
       "    <tr>\n",
       "      <th>16</th>\n",
       "      <td>26.0</td>\n",
       "      <td>65.0</td>\n",
       "      <td>1.21</td>\n",
       "    </tr>\n",
       "    <tr>\n",
       "      <th>17</th>\n",
       "      <td>56.0</td>\n",
       "      <td>74.0</td>\n",
       "      <td>1.69</td>\n",
       "    </tr>\n",
       "    <tr>\n",
       "      <th>18</th>\n",
       "      <td>67.0</td>\n",
       "      <td>78.0</td>\n",
       "      <td>NaN</td>\n",
       "    </tr>\n",
       "    <tr>\n",
       "      <th>19</th>\n",
       "      <td>26.0</td>\n",
       "      <td>65.0</td>\n",
       "      <td>1.21</td>\n",
       "    </tr>\n",
       "    <tr>\n",
       "      <th>20</th>\n",
       "      <td>68.0</td>\n",
       "      <td>50.0</td>\n",
       "      <td>1.32</td>\n",
       "    </tr>\n",
       "    <tr>\n",
       "      <th>21</th>\n",
       "      <td>NaN</td>\n",
       "      <td>76.0</td>\n",
       "      <td>1.69</td>\n",
       "    </tr>\n",
       "    <tr>\n",
       "      <th>22</th>\n",
       "      <td>67.0</td>\n",
       "      <td>78.0</td>\n",
       "      <td>1.85</td>\n",
       "    </tr>\n",
       "  </tbody>\n",
       "</table>\n",
       "</div>"
      ],
      "text/plain": [
       "     Age  Weight (in kg)  Height (in m)\n",
       "0   45.0            60.0           1.35\n",
       "1   12.0            43.0           1.21\n",
       "2   54.0            78.0           1.50\n",
       "3   26.0            65.0           1.21\n",
       "4   68.0            50.0           1.32\n",
       "5   21.0             NaN           1.52\n",
       "6   10.0            32.0           1.65\n",
       "7   57.0            34.0           1.61\n",
       "8   75.0            23.0           1.24\n",
       "9   32.0            21.0           1.52\n",
       "10  23.0             NaN           1.50\n",
       "11  34.0            65.0           1.76\n",
       "12  55.0            89.0           1.65\n",
       "13  23.0            45.0           1.75\n",
       "14  56.0            76.0           1.69\n",
       "15  67.0            78.0           1.85\n",
       "16  26.0            65.0           1.21\n",
       "17  56.0            74.0           1.69\n",
       "18  67.0            78.0            NaN\n",
       "19  26.0            65.0           1.21\n",
       "20  68.0            50.0           1.32\n",
       "21   NaN            76.0           1.69\n",
       "22  67.0            78.0           1.85"
      ]
     },
     "execution_count": 116,
     "metadata": {},
     "output_type": "execute_result"
    }
   ],
   "source": [
    "# print the dataset\n",
    "df_basic_info_missing"
   ]
  },
  {
   "cell_type": "markdown",
   "id": "15d02d25",
   "metadata": {},
   "source": [
    "Check for missing values"
   ]
  },
  {
   "cell_type": "code",
   "execution_count": 100,
   "id": "bd4a6f9c",
   "metadata": {},
   "outputs": [
    {
     "data": {
      "text/plain": [
       "Age               1\n",
       "Weight (in kg)    2\n",
       "Height (in m)     1\n",
       "dtype: int64"
      ]
     },
     "execution_count": 100,
     "metadata": {},
     "output_type": "execute_result"
    }
   ],
   "source": [
    "# isnull() returns True for a missing value\n",
    "# sum() gives the sum of True values\n",
    "df_basic_info_missing.isnull().sum()"
   ]
  },
  {
   "cell_type": "markdown",
   "id": "82c098c2",
   "metadata": {},
   "source": [
    "The function `.isnull` check whether the data is missing. The `sum()` sums the number of 'True' values in the column. The final output gives the number of missing values in each column.\n",
    "\n",
    "Here, we see there are 2 missing values in the 'weight' column and one missing value in other columns."
   ]
  },
  {
   "cell_type": "code",
   "execution_count": null,
   "id": "24a63c82",
   "metadata": {},
   "outputs": [],
   "source": []
  }
 ],
 "metadata": {
  "kernelspec": {
   "display_name": "Python 3 (ipykernel)",
   "language": "python",
   "name": "python3"
  },
  "language_info": {
   "codemirror_mode": {
    "name": "ipython",
    "version": 3
   },
   "file_extension": ".py",
   "mimetype": "text/x-python",
   "name": "python",
   "nbconvert_exporter": "python",
   "pygments_lexer": "ipython3",
   "version": "3.9.13"
  }
 },
 "nbformat": 4,
 "nbformat_minor": 5
}
