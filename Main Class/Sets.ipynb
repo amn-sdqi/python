{
 "cells": [
  {
   "cell_type": "markdown",
   "metadata": {},
   "source": [
    "# Sets"
   ]
  },
  {
   "cell_type": "markdown",
   "metadata": {},
   "source": [
    "It is a collection of unique items.<br>\n",
    "It is used to eliminate duplicate items from a list.<br>\n",
    "Also, it supports set operations like union intersection and difference."
   ]
  },
  {
   "cell_type": "markdown",
   "metadata": {},
   "source": [
    "**Creating Set**<br>\n",
    "In Python sets are written with curly brackets"
   ]
  },
  {
   "cell_type": "code",
   "execution_count": 1,
   "metadata": {},
   "outputs": [
    {
     "name": "stdout",
     "output_type": "stream",
     "text": [
      "{32, 33, 11, 12, 13, 21, 23, 24, 31}\n"
     ]
    },
    {
     "data": {
      "text/plain": [
       "{1, 2, 3, 4}"
      ]
     },
     "execution_count": 1,
     "metadata": {},
     "output_type": "execute_result"
    }
   ],
   "source": [
    "# create a set\n",
    "age_set = {11, 12, 31, 13, 24, 32, 33, 21, 23, 12}\n",
    "print (age_set)\n",
    "\n",
    "# create a set\n",
    "set([1, 2, 3, 4])"
   ]
  },
  {
   "cell_type": "markdown",
   "metadata": {},
   "source": [
    "Observed that the set contains unique items only even though we put duplicates into it"
   ]
  },
  {
   "cell_type": "markdown",
   "metadata": {},
   "source": [
    "A set can contain elements of different data types"
   ]
  },
  {
   "cell_type": "code",
   "execution_count": 2,
   "metadata": {},
   "outputs": [
    {
     "data": {
      "text/plain": [
       "{12, 4, 'python', 'world'}"
      ]
     },
     "execution_count": 2,
     "metadata": {},
     "output_type": "execute_result"
    }
   ],
   "source": [
    "# create a set\n",
    "new_set = {12, 12, 'python', 4, 'world'}\n",
    "\n",
    "# print\n",
    "new_set"
   ]
  },
  {
   "cell_type": "markdown",
   "metadata": {},
   "source": [
    "Following are the methods that you can use on sets:\n",
    "1. add()\n",
    "1. update()\n",
    "1. len()\n",
    "1. remove()\n",
    "1. pop()"
   ]
  },
  {
   "cell_type": "markdown",
   "metadata": {},
   "source": [
    "**Change Items**<br>\n",
    "Once a set is created, you cannot modify its items, but you can add new items"
   ]
  },
  {
   "cell_type": "markdown",
   "metadata": {},
   "source": [
    "**Add Items**<br>\n",
    "Use add() method to add one item to a set<br>\n",
    "Use update() method to add more than one item"
   ]
  },
  {
   "cell_type": "code",
   "execution_count": 3,
   "metadata": {},
   "outputs": [
    {
     "data": {
      "text/plain": [
       "{'hi', 'python', 'world'}"
      ]
     },
     "execution_count": 3,
     "metadata": {},
     "output_type": "execute_result"
    }
   ],
   "source": [
    "# create a set\n",
    "my_set = {'python','world'}\n",
    "\n",
    "# add element\n",
    "my_set.add(\"hi\")\n",
    "\n",
    "my_set"
   ]
  },
  {
   "cell_type": "markdown",
   "metadata": {},
   "source": [
    "Add multiple items to a set"
   ]
  },
  {
   "cell_type": "code",
   "execution_count": 4,
   "metadata": {},
   "outputs": [
    {
     "data": {
      "text/plain": [
       "{'data science', 'machine learning', 'python', 'world'}"
      ]
     },
     "execution_count": 4,
     "metadata": {},
     "output_type": "execute_result"
    }
   ],
   "source": [
    "# create a set\n",
    "my_set = {'python','world'}\n",
    "\n",
    "# update the set\n",
    "my_set.update(['data science', 'machine learning'])\n",
    "\n",
    "my_set"
   ]
  },
  {
   "cell_type": "markdown",
   "metadata": {},
   "source": [
    "**Length of Set**"
   ]
  },
  {
   "cell_type": "code",
   "execution_count": 5,
   "metadata": {},
   "outputs": [
    {
     "data": {
      "text/plain": [
       "4"
      ]
     },
     "execution_count": 5,
     "metadata": {},
     "output_type": "execute_result"
    }
   ],
   "source": [
    "# print the length of set\n",
    "len(my_set)"
   ]
  },
  {
   "cell_type": "markdown",
   "metadata": {},
   "source": [
    "**remove() method**<br>\n",
    "Use remove() or discard() method to remove an item in a set"
   ]
  },
  {
   "cell_type": "code",
   "execution_count": 6,
   "metadata": {},
   "outputs": [
    {
     "data": {
      "text/plain": [
       "{'machine learning', 'python', 'world'}"
      ]
     },
     "execution_count": 6,
     "metadata": {},
     "output_type": "execute_result"
    }
   ],
   "source": [
    "# create a set\n",
    "my_set = {'data science', 'machine learning', 'python', 'world'}\n",
    "\n",
    "# remove element from list \n",
    "my_set.remove('data science')\n",
    "\n",
    "my_set"
   ]
  },
  {
   "cell_type": "markdown",
   "metadata": {},
   "source": [
    "**pop() method**<br>\n",
    "It removes a random element from the set and returns the removed element"
   ]
  },
  {
   "cell_type": "code",
   "execution_count": 7,
   "metadata": {},
   "outputs": [
    {
     "data": {
      "text/plain": [
       "'world'"
      ]
     },
     "execution_count": 7,
     "metadata": {},
     "output_type": "execute_result"
    }
   ],
   "source": [
    "# create a set\n",
    "my_set = {'data science', 'machine learning', 'python', 'world'}\n",
    "\n",
    "# remove random element from set \n",
    "my_set.pop()"
   ]
  },
  {
   "cell_type": "code",
   "execution_count": 8,
   "metadata": {},
   "outputs": [
    {
     "data": {
      "text/plain": [
       "1"
      ]
     },
     "execution_count": 8,
     "metadata": {},
     "output_type": "execute_result"
    }
   ],
   "source": [
    "# create a set\n",
    "my_set1 = {1,2,3,\"data\", \"science\"}\n",
    "\n",
    "# remove random element from set\n",
    "my_set1.pop()"
   ]
  },
  {
   "cell_type": "markdown",
   "metadata": {},
   "source": [
    "**Set Operations**\n",
    "\n",
    "**Disjoint set:**\n",
    "if the two sets have no common elements"
   ]
  },
  {
   "cell_type": "code",
   "execution_count": 9,
   "metadata": {},
   "outputs": [
    {
     "name": "stdout",
     "output_type": "stream",
     "text": [
      "False\n"
     ]
    }
   ],
   "source": [
    "print (set([11, 12, 22, 33, 4]).isdisjoint(set([4, 1])))"
   ]
  },
  {
   "cell_type": "markdown",
   "metadata": {},
   "source": [
    "**Checking for subset**<br>\n",
    "Use issubset() method to check whether all elements of a set are contained in another set"
   ]
  },
  {
   "cell_type": "code",
   "execution_count": 10,
   "metadata": {},
   "outputs": [
    {
     "name": "stdout",
     "output_type": "stream",
     "text": [
      "Is a subset of b? True\n"
     ]
    }
   ],
   "source": [
    "# check whether one set 'a' is a subset of the 'b'\n",
    "a = set([1, 3, 4, 5])\n",
    "b = set([1, 3, 4, 5, 6])\n",
    "print('Is a subset of b?', a.issubset(b))"
   ]
  },
  {
   "cell_type": "markdown",
   "metadata": {},
   "source": [
    "**Set Union**<br>\n",
    "Use union() method to compute the union of two or more sets"
   ]
  },
  {
   "cell_type": "code",
   "execution_count": 11,
   "metadata": {},
   "outputs": [
    {
     "name": "stdout",
     "output_type": "stream",
     "text": [
      "{1, 2, 3, 4, 5, 6}\n"
     ]
    }
   ],
   "source": [
    "a = set([1, 2, 3])\n",
    "b = set([3, 4, 5, 6])\n",
    "print (a.union(b))"
   ]
  },
  {
   "cell_type": "markdown",
   "metadata": {},
   "source": [
    "**Set Intersection**<br>\n",
    "Take intersection to find the common elements"
   ]
  },
  {
   "cell_type": "code",
   "execution_count": 12,
   "metadata": {},
   "outputs": [
    {
     "name": "stdout",
     "output_type": "stream",
     "text": [
      "{12, 78}\n",
      "{12, 78}\n"
     ]
    }
   ],
   "source": [
    "a = set([12,34,56,78])\n",
    "b = set([12,45,67,89,78])\n",
    "c = set([12,34,56,78,56])\n",
    "print (a & b)\n",
    "print (a & b & c)"
   ]
  },
  {
   "cell_type": "markdown",
   "metadata": {},
   "source": [
    "**Set Difference**<br>\n",
    "It returns a new set containing all items from the first set that are not in the other set"
   ]
  },
  {
   "cell_type": "code",
   "execution_count": 13,
   "metadata": {},
   "outputs": [
    {
     "name": "stdout",
     "output_type": "stream",
     "text": [
      "{56, 89, 77}\n"
     ]
    }
   ],
   "source": [
    "a = set([23,45,56,77,89])\n",
    "b = set([23,45,54,33,23])\n",
    "print(a - b)"
   ]
  },
  {
   "cell_type": "code",
   "execution_count": null,
   "metadata": {},
   "outputs": [],
   "source": []
  }
 ],
 "metadata": {
  "kernelspec": {
   "display_name": "Python 3",
   "language": "python",
   "name": "python3"
  },
  "language_info": {
   "codemirror_mode": {
    "name": "ipython",
    "version": 3
   },
   "file_extension": ".py",
   "mimetype": "text/x-python",
   "name": "python",
   "nbconvert_exporter": "python",
   "pygments_lexer": "ipython3",
   "version": "3.8.8"
  }
 },
 "nbformat": 4,
 "nbformat_minor": 4
}
