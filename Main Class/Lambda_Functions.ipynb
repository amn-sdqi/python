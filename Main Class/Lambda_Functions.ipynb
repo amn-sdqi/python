{
 "cells": [
  {
   "cell_type": "markdown",
   "id": "e907066f",
   "metadata": {},
   "source": [
    "## Lambda Functions"
   ]
  },
  {
   "cell_type": "markdown",
   "id": "1bcf0f16",
   "metadata": {},
   "source": [
    "A lambda operator or lambda function is used for creating small, one-time, anonymous function objects in Python.<br><br>\n",
    "The general expression for a lambda function is <br>\n",
    "lambda argument(s): expression <br><br>\n",
    "A lambda function can take any number of arguments, but they contain only a single expression. An expression is a piece of code executed by the lambda function, which may or may not return any value. <br><br>"
   ]
  },
  {
   "cell_type": "markdown",
   "id": "f8f21668",
   "metadata": {},
   "source": [
    "Let us look at some examples using lambda functions."
   ]
  },
  {
   "cell_type": "code",
   "execution_count": 1,
   "id": "8f89a0c4",
   "metadata": {},
   "outputs": [
    {
     "data": {
      "text/plain": [
       "6"
      ]
     },
     "execution_count": 1,
     "metadata": {},
     "output_type": "execute_result"
    }
   ],
   "source": [
    "sum1 = lambda x, y, z: x + y + z\n",
    "\n",
    "sum1(1,2,3)"
   ]
  },
  {
   "cell_type": "code",
   "execution_count": 2,
   "id": "e1827d9c",
   "metadata": {},
   "outputs": [
    {
     "data": {
      "text/plain": [
       "9"
      ]
     },
     "execution_count": 2,
     "metadata": {},
     "output_type": "execute_result"
    }
   ],
   "source": [
    "sum1(2,3,4)"
   ]
  },
  {
   "cell_type": "markdown",
   "id": "5de4f408",
   "metadata": {},
   "source": [
    "**Obtain the minimum among two numbers**"
   ]
  },
  {
   "cell_type": "code",
   "execution_count": 1,
   "id": "958d842b",
   "metadata": {},
   "outputs": [
    {
     "data": {
      "text/plain": [
       "34"
      ]
     },
     "execution_count": 1,
     "metadata": {},
     "output_type": "execute_result"
    }
   ],
   "source": [
    "min_value = (lambda x, y: x if x < y else y)\n",
    "min_value(34, 78)"
   ]
  },
  {
   "cell_type": "markdown",
   "id": "766d514b",
   "metadata": {},
   "source": [
    "**Check whether two strings are equal**"
   ]
  },
  {
   "cell_type": "code",
   "execution_count": 2,
   "id": "cd5a6666",
   "metadata": {},
   "outputs": [
    {
     "data": {
      "text/plain": [
       "'False'"
      ]
     },
     "execution_count": 2,
     "metadata": {},
     "output_type": "execute_result"
    }
   ],
   "source": [
    "result = (lambda x, y: 'True' if x == y else 'False')\n",
    "result(\"Data\", \"DaTa\")"
   ]
  },
  {
   "cell_type": "markdown",
   "id": "89e42610",
   "metadata": {},
   "source": [
    "**Demonstrating wrong usage of variable name**"
   ]
  },
  {
   "cell_type": "code",
   "execution_count": 4,
   "id": "05d90180",
   "metadata": {},
   "outputs": [
    {
     "ename": "NameError",
     "evalue": "name 'b' is not defined",
     "output_type": "error",
     "traceback": [
      "\u001b[1;31m---------------------------------------------------------------------------\u001b[0m",
      "\u001b[1;31mNameError\u001b[0m                                 Traceback (most recent call last)",
      "\u001b[1;32m~\\AppData\\Local\\Temp\\ipykernel_18420\\3961043444.py\u001b[0m in \u001b[0;36m<module>\u001b[1;34m\u001b[0m\n\u001b[0;32m      1\u001b[0m \u001b[1;31m# multiplication - wrong usage of variable\u001b[0m\u001b[1;33m\u001b[0m\u001b[1;33m\u001b[0m\u001b[0m\n\u001b[0;32m      2\u001b[0m \u001b[0mx\u001b[0m \u001b[1;33m=\u001b[0m \u001b[1;32mlambda\u001b[0m \u001b[0ma\u001b[0m\u001b[1;33m,\u001b[0m \u001b[0mc\u001b[0m \u001b[1;33m:\u001b[0m \u001b[0ma\u001b[0m \u001b[1;33m+\u001b[0m \u001b[0mb\u001b[0m\u001b[1;33m\u001b[0m\u001b[1;33m\u001b[0m\u001b[0m\n\u001b[1;32m----> 3\u001b[1;33m \u001b[0mprint\u001b[0m\u001b[1;33m(\u001b[0m\u001b[0mx\u001b[0m\u001b[1;33m(\u001b[0m\u001b[1;36m5\u001b[0m\u001b[1;33m,\u001b[0m \u001b[1;36m6\u001b[0m\u001b[1;33m)\u001b[0m\u001b[1;33m)\u001b[0m\u001b[1;33m\u001b[0m\u001b[1;33m\u001b[0m\u001b[0m\n\u001b[0m",
      "\u001b[1;32m~\\AppData\\Local\\Temp\\ipykernel_18420\\3961043444.py\u001b[0m in \u001b[0;36m<lambda>\u001b[1;34m(a, c)\u001b[0m\n\u001b[0;32m      1\u001b[0m \u001b[1;31m# multiplication - wrong usage of variable\u001b[0m\u001b[1;33m\u001b[0m\u001b[1;33m\u001b[0m\u001b[0m\n\u001b[1;32m----> 2\u001b[1;33m \u001b[0mx\u001b[0m \u001b[1;33m=\u001b[0m \u001b[1;32mlambda\u001b[0m \u001b[0ma\u001b[0m\u001b[1;33m,\u001b[0m \u001b[0mc\u001b[0m \u001b[1;33m:\u001b[0m \u001b[0ma\u001b[0m \u001b[1;33m+\u001b[0m \u001b[0mb\u001b[0m\u001b[1;33m\u001b[0m\u001b[1;33m\u001b[0m\u001b[0m\n\u001b[0m\u001b[0;32m      3\u001b[0m \u001b[0mprint\u001b[0m\u001b[1;33m(\u001b[0m\u001b[0mx\u001b[0m\u001b[1;33m(\u001b[0m\u001b[1;36m5\u001b[0m\u001b[1;33m,\u001b[0m \u001b[1;36m6\u001b[0m\u001b[1;33m)\u001b[0m\u001b[1;33m)\u001b[0m\u001b[1;33m\u001b[0m\u001b[1;33m\u001b[0m\u001b[0m\n",
      "\u001b[1;31mNameError\u001b[0m: name 'b' is not defined"
     ]
    }
   ],
   "source": [
    "# multiplication - wrong usage of variable\n",
    "x = lambda a, c : a + b\n",
    "print(x(5, 6))"
   ]
  },
  {
   "cell_type": "markdown",
   "id": "7f87a964",
   "metadata": {},
   "source": [
    "**If variable a and c are used, then the operations should be on a and c.**"
   ]
  },
  {
   "cell_type": "markdown",
   "id": "43a69aeb",
   "metadata": {},
   "source": [
    "### Overview of map, reduce and filter functions\n",
    "\n",
    "The function map(f,l) applies a function 'f' to each element of list 'l' <br><br>\n",
    "The output of map is not a list, to convert it to a list use list(map(f,l))<br><br>\n",
    "The function filter(p,l) where property p is checked for every element in list l. The output of filter(p, l) is a sublist of list 'l' that satisfies the property 'p'. <br><br>\n",
    "The reduce(fun,seq) function is used to apply a particular function passed in its argument to all of the list elements mentioned in the sequence passed along and returns only one value.This function is defined in the “functools” module."
   ]
  },
  {
   "cell_type": "markdown",
   "id": "c9272a74",
   "metadata": {},
   "source": [
    "### Function map()"
   ]
  },
  {
   "cell_type": "raw",
   "id": "142d1f03",
   "metadata": {},
   "source": [
    "map(lambda variables: code, seq)"
   ]
  },
  {
   "cell_type": "raw",
   "id": "889bbb45",
   "metadata": {},
   "source": [
    "x = lambda variables: code\n",
    "\n",
    "map(fuc, seq)"
   ]
  },
  {
   "cell_type": "markdown",
   "id": "6998a7d2",
   "metadata": {},
   "source": [
    "**A test was conducted in a class, the list of all the scores is given. Tha scores are out of 45. Obtain the percentage of each score using lambda function.**\n",
    "             \n",
    "             marks = [ 20, 23, 34, 45, 33, 10, 43, 23, 27, 34, 37, 44, 42, 43 ]"
   ]
  },
  {
   "cell_type": "code",
   "execution_count": 11,
   "id": "a9783d23",
   "metadata": {},
   "outputs": [
    {
     "name": "stdout",
     "output_type": "stream",
     "text": [
      "[44.44444444444444, 51.111111111111114, 75.55555555555556, 100.0, 73.33333333333333, 22.22222222222222, 95.55555555555556, 51.111111111111114, 60.0, 75.55555555555556, 82.22222222222223, 97.77777777777777, 93.33333333333333, 95.55555555555556]\n"
     ]
    }
   ],
   "source": [
    "marks = [ 20, 23, 34, 45, 33, 10, 43, 23, 27, 34, 37, 44, 42, 43 ]\n",
    "\n",
    "x = lambda x: x * 100 / 45\n",
    "\n",
    "print(list(map(x, marks)))"
   ]
  },
  {
   "cell_type": "code",
   "execution_count": null,
   "id": "93784b98",
   "metadata": {},
   "outputs": [],
   "source": [
    "marks = [ 20, 23, 34, 45, 33, 10, 43, 23, 27, 34, 37, 44, 42, 43 ]\n",
    "\n",
    "print(list(map(lambda x:x*100/45 , marks)))"
   ]
  },
  {
   "cell_type": "code",
   "execution_count": 4,
   "id": "96bfd691",
   "metadata": {},
   "outputs": [
    {
     "name": "stdout",
     "output_type": "stream",
     "text": [
      "[44.44444444444444, 51.111111111111114, 75.55555555555556, 100.0, 73.33333333333333, 22.22222222222222, 95.55555555555556, 51.111111111111114, 60.0, 75.55555555555556, 82.22222222222223, 97.77777777777777, 93.33333333333333, 95.55555555555556]\n"
     ]
    }
   ],
   "source": [
    "marks = [ 20, 23, 34, 45, 33, 10, 43, 23, 27, 34, 37, 44, 42, 43 ]\n",
    "\n",
    "print(list(map(lambda x, y=100 :x*y/45 , marks)))"
   ]
  },
  {
   "cell_type": "markdown",
   "id": "1af4ccf8",
   "metadata": {},
   "source": [
    "The output is the percentage scores."
   ]
  },
  {
   "cell_type": "markdown",
   "id": "d9087860",
   "metadata": {},
   "source": [
    "**Create two lists and add corresponding elements of each list**"
   ]
  },
  {
   "cell_type": "code",
   "execution_count": 5,
   "id": "8cc5fe9f",
   "metadata": {},
   "outputs": [
    {
     "name": "stdout",
     "output_type": "stream",
     "text": [
      "[42, 40, 110]\n"
     ]
    }
   ],
   "source": [
    "# iteration using list\n",
    "list_a = [30, 35, 40]\n",
    "list_b = [12, 5, 70]\n",
    "  \n",
    "print(list(map(lambda x, y: x + y, list_a, list_b)))"
   ]
  },
  {
   "cell_type": "markdown",
   "id": "e5a85542",
   "metadata": {},
   "source": [
    "### Function filter()"
   ]
  },
  {
   "cell_type": "markdown",
   "id": "7559967b",
   "metadata": {},
   "source": [
    "**To obtain the  sum of cubes of odd number from 1 to 50**"
   ]
  },
  {
   "cell_type": "code",
   "execution_count": 6,
   "id": "4b6435c0",
   "metadata": {},
   "outputs": [],
   "source": [
    "# sum of cubes of odd numers from 1 to 50\n",
    "\n",
    "# user defined function to obtain the cube\n",
    "def cube(num):\n",
    "    return(num*num)"
   ]
  },
  {
   "cell_type": "code",
   "execution_count": 7,
   "id": "a6dd3a11",
   "metadata": {},
   "outputs": [],
   "source": [
    "# user defined function to obtain odds numbers from a list\n",
    "def isodd(num):\n",
    "    return(num%2 == 1)"
   ]
  },
  {
   "cell_type": "code",
   "execution_count": 15,
   "id": "b60ad180",
   "metadata": {},
   "outputs": [
    {
     "ename": "TypeError",
     "evalue": "<lambda>() takes 1 positional argument but 4 were given",
     "output_type": "error",
     "traceback": [
      "\u001b[1;31m---------------------------------------------------------------------------\u001b[0m",
      "\u001b[1;31mTypeError\u001b[0m                                 Traceback (most recent call last)",
      "\u001b[1;32m~\\AppData\\Local\\Temp\\ipykernel_18420\\1446384981.py\u001b[0m in \u001b[0;36m<module>\u001b[1;34m\u001b[0m\n\u001b[0;32m      1\u001b[0m \u001b[0meven\u001b[0m \u001b[1;33m=\u001b[0m \u001b[1;32mlambda\u001b[0m \u001b[0mx\u001b[0m\u001b[1;33m:\u001b[0m \u001b[0mx\u001b[0m \u001b[1;33m%\u001b[0m \u001b[1;36m2\u001b[0m \u001b[1;33m==\u001b[0m \u001b[1;36m0\u001b[0m\u001b[1;33m\u001b[0m\u001b[1;33m\u001b[0m\u001b[0m\n\u001b[1;32m----> 2\u001b[1;33m \u001b[0meven\u001b[0m\u001b[1;33m(\u001b[0m\u001b[1;36m3\u001b[0m\u001b[1;33m,\u001b[0m\u001b[1;36m4\u001b[0m\u001b[1;33m,\u001b[0m\u001b[1;36m5\u001b[0m\u001b[1;33m,\u001b[0m\u001b[1;36m67\u001b[0m\u001b[1;33m)\u001b[0m\u001b[1;33m\u001b[0m\u001b[1;33m\u001b[0m\u001b[0m\n\u001b[0m",
      "\u001b[1;31mTypeError\u001b[0m: <lambda>() takes 1 positional argument but 4 were given"
     ]
    }
   ],
   "source": [
    "even = lambda x: x % 2 == 0\n",
    "even(3,4,5,67)"
   ]
  },
  {
   "cell_type": "code",
   "execution_count": 16,
   "id": "c7393138",
   "metadata": {},
   "outputs": [
    {
     "data": {
      "text/plain": [
       "[False,\n",
       " True,\n",
       " False,\n",
       " True,\n",
       " False,\n",
       " True,\n",
       " False,\n",
       " True,\n",
       " False,\n",
       " True,\n",
       " False,\n",
       " True,\n",
       " False,\n",
       " True,\n",
       " False,\n",
       " True,\n",
       " False,\n",
       " True,\n",
       " False]"
      ]
     },
     "execution_count": 16,
     "metadata": {},
     "output_type": "execute_result"
    }
   ],
   "source": [
    "list(map(lambda x: x % 2 == 0, range(1,20)))"
   ]
  },
  {
   "cell_type": "code",
   "execution_count": 12,
   "id": "8ef93764",
   "metadata": {},
   "outputs": [
    {
     "data": {
      "text/plain": [
       "[2, 4, 6, 8, 10, 12, 14, 16, 18]"
      ]
     },
     "execution_count": 12,
     "metadata": {},
     "output_type": "execute_result"
    }
   ],
   "source": [
    "list(filter(lambda x: x % 2 == 0, range(1,20)))"
   ]
  },
  {
   "cell_type": "code",
   "execution_count": null,
   "id": "5f7cfe70",
   "metadata": {},
   "outputs": [],
   "source": []
  },
  {
   "cell_type": "code",
   "execution_count": 8,
   "id": "1ab3b702",
   "metadata": {},
   "outputs": [
    {
     "data": {
      "text/plain": [
       "20825"
      ]
     },
     "execution_count": 8,
     "metadata": {},
     "output_type": "execute_result"
    }
   ],
   "source": [
    "# create a list of all cubes\n",
    "list_cubes = list(map(cube,filter(isodd,range(1,50))))\n",
    "\n",
    "# sum of all elements in the in the list_cube\n",
    "sum(list_cubes)"
   ]
  },
  {
   "cell_type": "code",
   "execution_count": 9,
   "id": "6dcb5c0b",
   "metadata": {},
   "outputs": [
    {
     "data": {
      "text/plain": [
       "20825"
      ]
     },
     "execution_count": 9,
     "metadata": {},
     "output_type": "execute_result"
    }
   ],
   "source": [
    "# create a list of all cubes\n",
    "list_cubes = list(map(cube,filter(isodd,range(1,50))))\n",
    "\n",
    "# sum of all elements in the in the list_cube\n",
    "sum(list_cubes)"
   ]
  },
  {
   "cell_type": "markdown",
   "id": "c4e0c1a2",
   "metadata": {},
   "source": [
    "The same code above can be done using list comprehension  in the following way:"
   ]
  },
  {
   "cell_type": "code",
   "execution_count": 10,
   "id": "8a005b36",
   "metadata": {},
   "outputs": [
    {
     "data": {
      "text/plain": [
       "20825"
      ]
     },
     "execution_count": 10,
     "metadata": {},
     "output_type": "execute_result"
    }
   ],
   "source": [
    "# map - the function defined above is called \n",
    "# generator - the range for numbers is fixed\n",
    "# filter - cube is calculated for the numbers which satisfy the 'if' condition\n",
    "# built-in function sum() is used to obtain the sum\n",
    "\n",
    "sum ( [cube(x) for x in range(50) if isodd(x)] ) # Map - Generator - Filter"
   ]
  },
  {
   "cell_type": "markdown",
   "id": "c1db7c1f",
   "metadata": {},
   "source": [
    "**To obtain the odd numbers from a list**"
   ]
  },
  {
   "cell_type": "code",
   "execution_count": 11,
   "id": "617fd71f",
   "metadata": {},
   "outputs": [],
   "source": [
    "numbers = [121, 443, 477, 125, 34, 655, 458, 141, 363, 125, 456 , 578, 123]\n",
    "\n",
    "# function that filters the numbers\n",
    "def oddnumber(in_num):\n",
    "    if(in_num % 2) == 0:\n",
    "        return True\n",
    "    else:\n",
    "        return False"
   ]
  },
  {
   "cell_type": "code",
   "execution_count": 12,
   "id": "676de9a2",
   "metadata": {},
   "outputs": [
    {
     "name": "stdout",
     "output_type": "stream",
     "text": [
      "Type of filter object:  <class 'filter'>\n",
      "Even number is as follows:  [34, 458, 456, 578]\n"
     ]
    }
   ],
   "source": [
    "# Use filter() to remove odd numbers\n",
    "out_filter_number = filter(oddnumber, numbers)\n",
    "\n",
    "print(\"Type of filter object: \", type(out_filter_number))\n",
    "print(\"Even number is as follows: \", list(out_filter_number))"
   ]
  },
  {
   "cell_type": "markdown",
   "id": "b7cae85a",
   "metadata": {},
   "source": [
    "### Function reduce()"
   ]
  },
  {
   "cell_type": "markdown",
   "id": "896b720e",
   "metadata": {},
   "source": [
    "**List of  sales in a shop are noted. Obtain the total sales**"
   ]
  },
  {
   "cell_type": "code",
   "execution_count": 14,
   "id": "67193498",
   "metadata": {},
   "outputs": [
    {
     "name": "stdout",
     "output_type": "stream",
     "text": [
      "385730\n"
     ]
    }
   ],
   "source": [
    "# import reduce function from functools\n",
    "from functools import reduce\n",
    "\n",
    "sale = [14565,65460,74450,54546,23245,14543,84355,54566]\n",
    "total_sale = reduce(lambda a, b: a + b, sale)\n",
    "print(total_sale)"
   ]
  },
  {
   "cell_type": "markdown",
   "id": "7736338d",
   "metadata": {},
   "source": [
    "**Thus we may say the total sale is 385730 INR.**\n",
    "\n",
    "**Factorial of a 5** "
   ]
  },
  {
   "cell_type": "code",
   "execution_count": 17,
   "id": "28fc93b2",
   "metadata": {},
   "outputs": [
    {
     "name": "stdout",
     "output_type": "stream",
     "text": [
      "The factorial of 5 is  120\n"
     ]
    }
   ],
   "source": [
    "# import reduce function from functools\n",
    "from functools import reduce\n",
    "\n",
    "factorial = reduce(lambda p,q : p*q , range(1,6))\n",
    "\n",
    "print(\"The factorial of 5 is \",factorial)"
   ]
  },
  {
   "cell_type": "code",
   "execution_count": 18,
   "id": "d7751b5a",
   "metadata": {},
   "outputs": [
    {
     "name": "stdout",
     "output_type": "stream",
     "text": [
      "120\n"
     ]
    }
   ],
   "source": [
    "print(factorial)"
   ]
  },
  {
   "cell_type": "code",
   "execution_count": null,
   "id": "819e4c90",
   "metadata": {},
   "outputs": [],
   "source": []
  }
 ],
 "metadata": {
  "kernelspec": {
   "display_name": "Python 3 (ipykernel)",
   "language": "python",
   "name": "python3"
  },
  "language_info": {
   "codemirror_mode": {
    "name": "ipython",
    "version": 3
   },
   "file_extension": ".py",
   "mimetype": "text/x-python",
   "name": "python",
   "nbconvert_exporter": "python",
   "pygments_lexer": "ipython3",
   "version": "3.9.13"
  }
 },
 "nbformat": 4,
 "nbformat_minor": 5
}
