{
 "cells": [
  {
   "cell_type": "markdown",
   "id": "99ff4079",
   "metadata": {},
   "source": [
    "List comprehensions are used to create a new list from an existing iterable. While creating the new list, elements from the iterable can be selectively included in the new list (based on conditions) and transformed as required.\n",
    "\n",
    "Following are the three Components of list comprehensions:\n",
    "1. Iterable\n",
    "1. Output expression\n",
    "1. Iterator variable which takes the values of the members of the iterable"
   ]
  },
  {
   "cell_type": "markdown",
   "id": "5769495c",
   "metadata": {},
   "source": [
    "**In python, list comprehensions are constructed as follows:**\n",
    "\n",
    "list = [x for x in iterable]"
   ]
  },
  {
   "cell_type": "code",
   "execution_count": null,
   "id": "2fb14471",
   "metadata": {},
   "outputs": [],
   "source": []
  },
  {
   "cell_type": "markdown",
   "id": "3e8e0803",
   "metadata": {},
   "source": [
    "### List Comprehensions vs loops\n",
    "\n",
    "#### for loop\n",
    "\n",
    "Let’s create a new list using a given string:<br>\n",
    "Suppose, you want to separate each element of the string 'Great Lakes' and make a list out of them. The immediate approach would be to make use of for loop"
   ]
  },
  {
   "cell_type": "code",
   "execution_count": 3,
   "id": "e0e80402",
   "metadata": {},
   "outputs": [
    {
     "data": {
      "text/plain": [
       "['L', 'N', 'C', 'T', ' ', 'B', 'h', 'o', 'p', 'a', 'l']"
      ]
     },
     "execution_count": 3,
     "metadata": {},
     "output_type": "execute_result"
    }
   ],
   "source": [
    "# Using loop for constructing output list \n",
    "letter_list=[]\n",
    "for i in 'LNCT Bhopal':\n",
    "    letter_list.append(i)\n",
    "letter_list"
   ]
  },
  {
   "cell_type": "markdown",
   "id": "d5291d50",
   "metadata": {},
   "source": [
    "Here, the output is encapsulated within square brackets that means it is a list. letter_list.append(i) is the function used to add 'i' ( obtained from new iteration ) to the array from previous iteration executed. 'i' takes values of letters from the string 'Great Lakes'.But with a python list comprehension, we can do this in one line"
   ]
  },
  {
   "cell_type": "code",
   "execution_count": 4,
   "id": "cce32c41",
   "metadata": {},
   "outputs": [
    {
     "name": "stdout",
     "output_type": "stream",
     "text": [
      "['L', 'N', 'C', 'T', ' ', 'B', 'h', 'o', 'p', 'a', 'l']\n"
     ]
    }
   ],
   "source": [
    "# using list comprehensions\n",
    "new_list = [i for i in 'LNCT Bhopal']\n",
    "print(new_list)"
   ]
  },
  {
   "cell_type": "markdown",
   "id": "7314341f",
   "metadata": {},
   "source": [
    "From the output we can see, a new list is created and assigned to the 'new_list' variable, and list contains the items of the iterable string 'Great Lakes'. We use print() function to print the output"
   ]
  },
  {
   "cell_type": "markdown",
   "id": "4f763ee1",
   "metadata": {},
   "source": [
    "#### Find the squares of each element using list comprehension"
   ]
  },
  {
   "cell_type": "code",
   "execution_count": 5,
   "id": "1e6694e8",
   "metadata": {},
   "outputs": [
    {
     "name": "stdout",
     "output_type": "stream",
     "text": [
      "[169, 1024, 1089, 576]\n"
     ]
    }
   ],
   "source": [
    "num = [13, 32, 33, 24]\n",
    "num_squares = [n**2 for n in num]\n",
    "\n",
    "print(num_squares)"
   ]
  },
  {
   "cell_type": "markdown",
   "id": "d76ae6d8",
   "metadata": {},
   "source": [
    "Here, the output is encapsulated within square brackets that means it is a list. n**2 is the expression executed for each n. 'n' takes values of elements in 'num'"
   ]
  },
  {
   "cell_type": "markdown",
   "id": "b5fb59fc",
   "metadata": {},
   "source": [
    "#### We can use list comprehension to iterate over list of strings. Convert all the words in the given list to the upper case"
   ]
  },
  {
   "cell_type": "code",
   "execution_count": 6,
   "id": "c3971d6e",
   "metadata": {},
   "outputs": [
    {
     "name": "stdout",
     "output_type": "stream",
     "text": [
      "['YES', \"IT'S\", 'A', 'BEAUTIFUL', 'DAY']\n"
     ]
    }
   ],
   "source": [
    "list_1 = [\"yes\", \"it's\", \"a\", \"Beautiful\", \"Day\"]\n",
    "\n",
    "upper_list_1 = [str.upper() for str in list_1]\n",
    "\n",
    "print(upper_list_1)"
   ]
  },
  {
   "cell_type": "markdown",
   "id": "5e84e5e4",
   "metadata": {},
   "source": [
    "#### List comprehensions can be used to produce a list of a lists, as shown below:"
   ]
  },
  {
   "cell_type": "code",
   "execution_count": 1,
   "id": "9dbd748c",
   "metadata": {},
   "outputs": [
    {
     "name": "stdout",
     "output_type": "stream",
     "text": [
      "[[121, 14641], [144, 20736], [169, 28561], [196, 38416]]\n"
     ]
    }
   ],
   "source": [
    "list_1 = [11, 12, 13, 14]\n",
    "\n",
    "square_cube_num = [ [a**2, a**4] for a in list_1]\n",
    "\n",
    "print(square_cube_num)"
   ]
  },
  {
   "cell_type": "markdown",
   "id": "186904da",
   "metadata": {},
   "source": [
    "Here we use list_1 to create square_cube_num, which is a list of lists that comprises of values of squares and cubes of the numbers from list_1"
   ]
  },
  {
   "cell_type": "code",
   "execution_count": null,
   "id": "e11f3192",
   "metadata": {},
   "outputs": [],
   "source": []
  },
  {
   "cell_type": "markdown",
   "id": "cbb8fc03",
   "metadata": {},
   "source": [
    "### nested for loop"
   ]
  },
  {
   "cell_type": "markdown",
   "id": "4e2d2bfc",
   "metadata": {},
   "source": [
    "**Print the tables of numbers from 13 to 17**"
   ]
  },
  {
   "cell_type": "code",
   "execution_count": 8,
   "id": "55beee92",
   "metadata": {},
   "outputs": [
    {
     "data": {
      "text/plain": [
       "[[13, 26, 39, 52, 65, 78, 91, 104, 117, 130],\n",
       " [14, 28, 42, 56, 70, 84, 98, 112, 126, 140],\n",
       " [15, 30, 45, 60, 75, 90, 105, 120, 135, 150],\n",
       " [16, 32, 48, 64, 80, 96, 112, 128, 144, 160],\n",
       " [17, 34, 51, 68, 85, 102, 119, 136, 153, 170]]"
      ]
     },
     "execution_count": 8,
     "metadata": {},
     "output_type": "execute_result"
    }
   ],
   "source": [
    "[[i*j for j in range(1,11)] for i in range(13,18)]"
   ]
  },
  {
   "cell_type": "markdown",
   "id": "16333347",
   "metadata": {},
   "source": [
    "**Create a list of tuples with a and b such that a is less than b**"
   ]
  },
  {
   "cell_type": "code",
   "execution_count": 9,
   "id": "486cfaa8",
   "metadata": {},
   "outputs": [
    {
     "name": "stdout",
     "output_type": "stream",
     "text": [
      "[(13, 25), (13, 37), (13, 35), (27, 37), (27, 35)]\n"
     ]
    }
   ],
   "source": [
    "list_1 = [13, 72, 27, 83, 89, 54]\n",
    "list_2 = [25, 37, 35]\n",
    "\n",
    "new_list = [(a, b) for a in list_1 for b in list_2 if a < b]\n",
    "\n",
    "print(new_list)"
   ]
  },
  {
   "cell_type": "markdown",
   "id": "ef400829",
   "metadata": {},
   "source": [
    "#### Conditional list comprehension\n",
    "New lists can be created by 'list comprehensions' that selectively modify existing squential data types like lists. For this conditional statements can be used.<br>\n",
    "'Conditional list comprehension' adds only those items to the list that meet the condition (for which the condition is True)."
   ]
  },
  {
   "cell_type": "markdown",
   "id": "581f3536",
   "metadata": {},
   "source": [
    "#### if satement"
   ]
  },
  {
   "cell_type": "markdown",
   "id": "edb6a2c2",
   "metadata": {},
   "source": [
    "**We create an example to print the even numbers from 0 to 11.**"
   ]
  },
  {
   "cell_type": "code",
   "execution_count": 10,
   "id": "e63fd190",
   "metadata": {},
   "outputs": [
    {
     "name": "stdout",
     "output_type": "stream",
     "text": [
      "[0, 2, 4, 6, 8, 10]\n"
     ]
    }
   ],
   "source": [
    "num_list = [i for i in range(11) if i%2==0]\n",
    "print(num_list)"
   ]
  },
  {
   "cell_type": "markdown",
   "id": "5ed58b71",
   "metadata": {},
   "source": [
    "**Square the number if its even, else, cube it**"
   ]
  },
  {
   "cell_type": "code",
   "execution_count": 11,
   "id": "8614635e",
   "metadata": {},
   "outputs": [
    {
     "data": {
      "text/plain": [
       "[4, 27, 16, 125]"
      ]
     },
     "execution_count": 11,
     "metadata": {},
     "output_type": "execute_result"
    }
   ],
   "source": [
    "[i**2 if i%2==0 else i**3 for i in [2,3,4,5]]"
   ]
  },
  {
   "cell_type": "markdown",
   "id": "bdc1c054",
   "metadata": {},
   "source": [
    "#### 3.4 nested condition\n",
    "\n",
    "Nested conditions comprise conditional statements contained within the definition of other conditional statements"
   ]
  },
  {
   "cell_type": "markdown",
   "id": "1fa19635",
   "metadata": {},
   "source": [
    "**Find all the numbers from a given list divisible by 2 and 3**"
   ]
  },
  {
   "cell_type": "code",
   "execution_count": 14,
   "id": "9c03df98",
   "metadata": {},
   "outputs": [
    {
     "name": "stdout",
     "output_type": "stream",
     "text": [
      "[6, 18]\n"
     ]
    }
   ],
   "source": [
    "numbers = [1, 2, 3, 4, 5, 6, 18, 20]\n",
    "number_list = [number for number in numbers if number % 2 == 0 if number % 3 == 0]\n",
    "print(number_list)"
   ]
  },
  {
   "cell_type": "markdown",
   "id": "418acf2c",
   "metadata": {},
   "source": [
    "Here, list comprehension checks the number is divisible by 2 and 3. If number satisfies both conditions, number is appended to number_list."
   ]
  },
  {
   "cell_type": "markdown",
   "id": "384ddcc4",
   "metadata": {},
   "source": [
    "**For all integers from 0 to 20.Check if the number is odd or even**"
   ]
  },
  {
   "cell_type": "code",
   "execution_count": 17,
   "id": "338af625",
   "metadata": {},
   "outputs": [
    {
     "data": {
      "text/plain": [
       "['Even',\n",
       " 'Odd',\n",
       " 'Even',\n",
       " 'Odd',\n",
       " 'Even',\n",
       " 'Odd',\n",
       " 'Even',\n",
       " 'Odd',\n",
       " 'Even',\n",
       " 'Odd',\n",
       " 'Even',\n",
       " 'Odd',\n",
       " 'Even',\n",
       " 'Odd',\n",
       " 'Even',\n",
       " 'Odd',\n",
       " 'Even',\n",
       " 'Odd',\n",
       " 'Even',\n",
       " 'Odd',\n",
       " 'Even']"
      ]
     },
     "execution_count": 17,
     "metadata": {},
     "output_type": "execute_result"
    }
   ],
   "source": [
    "[\"Even\" if i%2==0 else \"Odd\" for i in range(21)]"
   ]
  },
  {
   "cell_type": "markdown",
   "id": "9db3fa05",
   "metadata": {},
   "source": [
    "**Make a list of numbers common to both the lists using list comprehension**"
   ]
  },
  {
   "cell_type": "code",
   "execution_count": 19,
   "id": "ffe5b1f8",
   "metadata": {},
   "outputs": [
    {
     "name": "stdout",
     "output_type": "stream",
     "text": [
      "[102, 233, 456, 564]\n"
     ]
    }
   ],
   "source": [
    "list_1 = [102, 232, 233, 344, 456, 564, 234]\n",
    "list_2 = [102, 233, 324, 564, 567, 523, 456]\n",
    "\n",
    "common_num = [a for a in list_1 for b in list_2 if a == b]\n",
    "\n",
    "print(common_num)"
   ]
  },
  {
   "cell_type": "code",
   "execution_count": null,
   "id": "8540ee01",
   "metadata": {},
   "outputs": [],
   "source": []
  }
 ],
 "metadata": {
  "kernelspec": {
   "display_name": "Python 3",
   "language": "python",
   "name": "python3"
  },
  "language_info": {
   "codemirror_mode": {
    "name": "ipython",
    "version": 3
   },
   "file_extension": ".py",
   "mimetype": "text/x-python",
   "name": "python",
   "nbconvert_exporter": "python",
   "pygments_lexer": "ipython3",
   "version": "3.11.4"
  }
 },
 "nbformat": 4,
 "nbformat_minor": 5
}
