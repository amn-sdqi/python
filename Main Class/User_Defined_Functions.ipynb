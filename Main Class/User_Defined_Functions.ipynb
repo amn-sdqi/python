{
 "cells": [
  {
   "cell_type": "markdown",
   "id": "f5b1a0c2",
   "metadata": {},
   "source": [
    "There are situations where built-in functions are not available in a library. In such cases, we do the computations by using formulas/concepts\n",
    "\n",
    "At times there are no built-in functions available, thus there arises a need for the user to define a function as desired. The user-defined functions are named blocks of code that are designed to do a specific job(s). When you want to perform a particular task that you’ve defined in a function, you call the name of the function responsible for it. This aids the scenarios where a chunk of code is required repeatedly; just call the function dedicated to handling that task, and the call tells Python to run the code inside the function. You’ll find that using functions makes your programs easier to write, read, test, and fix."
   ]
  },
  {
   "cell_type": "markdown",
   "id": "980fedc1",
   "metadata": {},
   "source": [
    "### Argument and Parameter\n",
    "\n",
    "Parameters and arguments are subtly different. Let us first define them.<br><br>\n",
    "1. Parameter: A value which is passed when defining a function\n",
    "2. Argument: A value that is passed when invoking a function\n",
    "\n",
    "\n"
   ]
  },
  {
   "cell_type": "raw",
   "id": "1e24feea",
   "metadata": {},
   "source": [
    "Consider the following user defined function:"
   ]
  },
  {
   "cell_type": "markdown",
   "id": "6c9e9b59",
   "metadata": {},
   "source": [
    "def fun(params):\n",
    "    statement 1\n",
    "    statement 2\n",
    "        .\n",
    "        .\n",
    "        ."
   ]
  },
  {
   "cell_type": "markdown",
   "id": "4a2d1dda",
   "metadata": {},
   "source": [
    "Now, if we invoke this function:"
   ]
  },
  {
   "cell_type": "raw",
   "id": "2687c8e7",
   "metadata": {},
   "source": [
    "fun(sample_parameters)"
   ]
  },
  {
   "cell_type": "markdown",
   "id": "26acbcd5",
   "metadata": {},
   "source": [
    "Here the 'sample_parameters' is called an argument."
   ]
  },
  {
   "cell_type": "markdown",
   "id": "8731a1f9",
   "metadata": {},
   "source": [
    "### User defined functions without arguments\n",
    "\n",
    "Once a function is defined, it can be called anytime, without running the function again. Generally, a function returns a value or prints a value.  \n",
    "\n",
    "Let us see a few examples of user defined functions."
   ]
  },
  {
   "cell_type": "markdown",
   "id": "1b6f8fc1",
   "metadata": {},
   "source": [
    "**1. We shall write a user defined function without argument to find the twice of a number.**"
   ]
  },
  {
   "cell_type": "code",
   "execution_count": 10,
   "id": "5fa5c898",
   "metadata": {},
   "outputs": [],
   "source": [
    "def twice():\n",
    "    a = int(input('enter a number: '))\n",
    "    print(a*2)"
   ]
  },
  {
   "cell_type": "code",
   "execution_count": 11,
   "id": "a1b7787d",
   "metadata": {},
   "outputs": [
    {
     "name": "stdout",
     "output_type": "stream",
     "text": [
      "4\n"
     ]
    }
   ],
   "source": [
    "# In this function, no argument is passed\n",
    "# call the function\n",
    "twice()"
   ]
  },
  {
   "cell_type": "markdown",
   "id": "4a2bb5b4",
   "metadata": {},
   "source": [
    "**2. We shall write a user defined function hi() which takes a string input. The output will greet the user displaying his/her name on the screen.**"
   ]
  },
  {
   "cell_type": "code",
   "execution_count": 8,
   "id": "b1009d68",
   "metadata": {},
   "outputs": [],
   "source": [
    "def hi():\n",
    "    name = str(input('Enter your name: '))\n",
    "    print(\"Hey \" + name +\", how are you?\")"
   ]
  },
  {
   "cell_type": "code",
   "execution_count": 12,
   "id": "267befcc",
   "metadata": {},
   "outputs": [
    {
     "name": "stdout",
     "output_type": "stream",
     "text": [
      "Hey Amaan, how are you?\n"
     ]
    }
   ],
   "source": [
    "# In this function, no argument is passed\n",
    "# call the function\n",
    "hi()"
   ]
  },
  {
   "cell_type": "code",
   "execution_count": 6,
   "id": "aba1a3d9",
   "metadata": {},
   "outputs": [],
   "source": [
    "#create a function\n",
    "def greetings():\n",
    "    print(\"hello\")\n",
    "    print(\"How are you ?\")"
   ]
  },
  {
   "cell_type": "code",
   "execution_count": 15,
   "id": "3cae9550",
   "metadata": {},
   "outputs": [
    {
     "ename": "NameError",
     "evalue": "name 'greetings' is not defined",
     "output_type": "error",
     "traceback": [
      "\u001b[1;31m---------------------------------------------------------------------------\u001b[0m",
      "\u001b[1;31mNameError\u001b[0m                                 Traceback (most recent call last)",
      "\u001b[1;32mc:\\Users\\HP\\Documents\\python\\User_Defined_Functions.ipynb Cell 16\u001b[0m line \u001b[0;36m3\n\u001b[0;32m      <a href='vscode-notebook-cell:/c%3A/Users/HP/Documents/python/User_Defined_Functions.ipynb#X21sZmlsZQ%3D%3D?line=0'>1</a>\u001b[0m \u001b[39m# In this function, no argument is passed\u001b[39;00m\n\u001b[0;32m      <a href='vscode-notebook-cell:/c%3A/Users/HP/Documents/python/User_Defined_Functions.ipynb#X21sZmlsZQ%3D%3D?line=1'>2</a>\u001b[0m \u001b[39m# call the function\u001b[39;00m\n\u001b[1;32m----> <a href='vscode-notebook-cell:/c%3A/Users/HP/Documents/python/User_Defined_Functions.ipynb#X21sZmlsZQ%3D%3D?line=2'>3</a>\u001b[0m greetings()\n",
      "\u001b[1;31mNameError\u001b[0m: name 'greetings' is not defined"
     ]
    }
   ],
   "source": [
    "# In this function, no argument is passed\n",
    "# call the function\n",
    "greetings()"
   ]
  },
  {
   "cell_type": "markdown",
   "id": "1ef91627",
   "metadata": {},
   "source": [
    "**3. To find area of a circle**"
   ]
  },
  {
   "cell_type": "code",
   "execution_count": 17,
   "id": "455c6d55",
   "metadata": {},
   "outputs": [
    {
     "name": "stdout",
     "output_type": "stream",
     "text": [
      "The area of circle with radius 45 is 6358.5 sq. units\n"
     ]
    }
   ],
   "source": [
    "def area_circle():\n",
    "    r = int(input('Enter the radius of circle: '))\n",
    "    area = 3.14 * r**2 \n",
    "    print(\"The area of circle with radius \" + str(r)  +\" is \" + str(area) + \" sq. units\")\n",
    "\n",
    "area_circle()"
   ]
  },
  {
   "cell_type": "markdown",
   "metadata": {},
   "source": [
    "calling function without argument in diffrent cell would not work\n"
   ]
  },
  {
   "cell_type": "code",
   "execution_count": 16,
   "id": "894477f5",
   "metadata": {},
   "outputs": [
    {
     "ename": "NameError",
     "evalue": "name 'area_circle' is not defined",
     "output_type": "error",
     "traceback": [
      "\u001b[1;31m---------------------------------------------------------------------------\u001b[0m",
      "\u001b[1;31mNameError\u001b[0m                                 Traceback (most recent call last)",
      "\u001b[1;32mc:\\Users\\HP\\Documents\\python\\User_Defined_Functions.ipynb Cell 19\u001b[0m line \u001b[0;36m2\n\u001b[0;32m      <a href='vscode-notebook-cell:/c%3A/Users/HP/Documents/python/User_Defined_Functions.ipynb#X24sZmlsZQ%3D%3D?line=0'>1</a>\u001b[0m \u001b[39m# call the function   \u001b[39;00m\n\u001b[1;32m----> <a href='vscode-notebook-cell:/c%3A/Users/HP/Documents/python/User_Defined_Functions.ipynb#X24sZmlsZQ%3D%3D?line=1'>2</a>\u001b[0m area_circle()\n",
      "\u001b[1;31mNameError\u001b[0m: name 'area_circle' is not defined"
     ]
    }
   ],
   "source": [
    "# call the function   \n",
    "area_circle()"
   ]
  },
  {
   "cell_type": "markdown",
   "id": "942c92f5",
   "metadata": {},
   "source": [
    "### 2.2 User defined functions with arguments\n",
    "\n",
    "Most of the functions will either `return` a value or `print` an output. Take a note of this in the examples considered below."
   ]
  },
  {
   "cell_type": "markdown",
   "id": "fe342c70",
   "metadata": {},
   "source": [
    "**1. A user defined function to get the average of all numbers in a sequence.**"
   ]
  },
  {
   "cell_type": "code",
   "execution_count": 10,
   "id": "1138f46d",
   "metadata": {},
   "outputs": [],
   "source": [
    "def average(x):\n",
    "    count = 0\n",
    "    total = 0\n",
    "    for i in x:\n",
    "        count += 1\n",
    "        total += i\n",
    "    avg = total/count\n",
    "    return avg"
   ]
  },
  {
   "cell_type": "code",
   "execution_count": 11,
   "id": "894de041",
   "metadata": {},
   "outputs": [
    {
     "data": {
      "text/plain": [
       "32.166666666666664"
      ]
     },
     "execution_count": 11,
     "metadata": {},
     "output_type": "execute_result"
    }
   ],
   "source": [
    "x = (44, 45, -56, 44, 32,-54, 44, 56, 44, 87, 44, 56)\n",
    "\n",
    "# call the function   \n",
    "average(x)"
   ]
  },
  {
   "cell_type": "markdown",
   "id": "96e2e094",
   "metadata": {},
   "source": [
    "The average of the number is 32.1667"
   ]
  },
  {
   "cell_type": "markdown",
   "id": "42887627",
   "metadata": {},
   "source": [
    "If the function requires an argument to be passed and we do not provide it, then an error will be shown."
   ]
  },
  {
   "cell_type": "code",
   "execution_count": 15,
   "id": "6d63ee00",
   "metadata": {},
   "outputs": [
    {
     "ename": "TypeError",
     "evalue": "average() missing 1 required positional argument: 'x'",
     "output_type": "error",
     "traceback": [
      "\u001b[1;31m---------------------------------------------------------------------------\u001b[0m",
      "\u001b[1;31mTypeError\u001b[0m                                 Traceback (most recent call last)",
      "\u001b[1;32m~\\AppData\\Local\\Temp\\ipykernel_24820\\266176995.py\u001b[0m in \u001b[0;36m<module>\u001b[1;34m\u001b[0m\n\u001b[0;32m      1\u001b[0m \u001b[1;31m# call the function\u001b[0m\u001b[1;33m\u001b[0m\u001b[1;33m\u001b[0m\u001b[0m\n\u001b[1;32m----> 2\u001b[1;33m \u001b[0maverage\u001b[0m\u001b[1;33m(\u001b[0m\u001b[1;33m)\u001b[0m\u001b[1;33m\u001b[0m\u001b[1;33m\u001b[0m\u001b[0m\n\u001b[0m",
      "\u001b[1;31mTypeError\u001b[0m: average() missing 1 required positional argument: 'x'"
     ]
    }
   ],
   "source": [
    "# call the function   \n",
    "average()"
   ]
  },
  {
   "cell_type": "markdown",
   "id": "b10e897e",
   "metadata": {},
   "source": [
    "**2. A user defined function with argument to greet a person by name.**"
   ]
  },
  {
   "cell_type": "code",
   "execution_count": 16,
   "id": "9832c33e",
   "metadata": {},
   "outputs": [],
   "source": [
    "def greet(name):\n",
    "    name = str(name)\n",
    "    print(\"Hello, \" + name)"
   ]
  },
  {
   "cell_type": "code",
   "execution_count": 17,
   "id": "12dcacb6",
   "metadata": {},
   "outputs": [
    {
     "name": "stdout",
     "output_type": "stream",
     "text": [
      "Hello, Dave\n"
     ]
    }
   ],
   "source": [
    "# call the function        \n",
    "greet('Dave')"
   ]
  },
  {
   "cell_type": "markdown",
   "id": "34b72e6c",
   "metadata": {},
   "source": [
    "Enter your name in the parenthese, and your notebook will greet you!."
   ]
  },
  {
   "cell_type": "markdown",
   "id": "484f71aa",
   "metadata": {},
   "source": [
    "**Also note that this function prints an output.** "
   ]
  },
  {
   "cell_type": "markdown",
   "id": "870c745a",
   "metadata": {},
   "source": [
    "**Answer:** The 'print' output can not be stored in a variable. Moreover, any function which returns a value can be stored in a variable. "
   ]
  },
  {
   "cell_type": "markdown",
   "id": "65dd95f0",
   "metadata": {},
   "source": [
    "**Consider the list given below and write a function to find the unique values of the list**\n",
    "\n",
    "                [44,45,56,44,32,54,44,56,44,87,44,56]"
   ]
  },
  {
   "cell_type": "code",
   "execution_count": 18,
   "id": "c6c64ef8",
   "metadata": {},
   "outputs": [],
   "source": [
    "def unique(list1): \n",
    "    unique_list = [] \n",
    "    for x in list1: \n",
    "            if x not in unique_list: \n",
    "                 unique_list.append(x)  \n",
    "    return unique_list    "
   ]
  },
  {
   "cell_type": "code",
   "execution_count": 19,
   "id": "a0173db6",
   "metadata": {},
   "outputs": [
    {
     "data": {
      "text/plain": [
       "[44, 45, 56, 32, 54, 87]"
      ]
     },
     "execution_count": 19,
     "metadata": {},
     "output_type": "execute_result"
    }
   ],
   "source": [
    "x = [44,45,56,44,32,54,44,56,44,87,44,56]\n",
    "\n",
    "# call the function  \n",
    "# store the output in a variable\n",
    "unique_values = unique(x)\n",
    "\n",
    "# print the variable name\n",
    "unique_values"
   ]
  },
  {
   "cell_type": "markdown",
   "id": "012146df",
   "metadata": {},
   "source": [
    "These are the unique values in the list.\n",
    "\n",
    "**Also note that this function returns the output to the calling program.**"
   ]
  },
  {
   "cell_type": "markdown",
   "id": "3419f9c4",
   "metadata": {},
   "source": [
    "**A function to reverse a string**"
   ]
  },
  {
   "cell_type": "code",
   "execution_count": 20,
   "id": "f44050de",
   "metadata": {},
   "outputs": [],
   "source": [
    "def reverse(string):\n",
    "    # set the empty string\n",
    "    rev=''\n",
    "    for i in string:\n",
    "        rev = i+rev\n",
    "    print(rev)"
   ]
  },
  {
   "cell_type": "code",
   "execution_count": 22,
   "id": "01b227b7",
   "metadata": {},
   "outputs": [
    {
     "name": "stdout",
     "output_type": "stream",
     "text": [
      "Enter string:Data Science\n",
      "ecneicS ataD\n"
     ]
    }
   ],
   "source": [
    "# call the function\n",
    "string = str(input('Enter string:'))\n",
    "reverse(string)"
   ]
  },
  {
   "cell_type": "markdown",
   "id": "24d9d1dc",
   "metadata": {},
   "source": [
    "**A function to display multiplication table of an integer**"
   ]
  },
  {
   "cell_type": "code",
   "execution_count": 23,
   "id": "9d7c9f30",
   "metadata": {},
   "outputs": [],
   "source": [
    "def table(n):\n",
    "    multi = 1\n",
    "    for i in range(1,11):\n",
    "        multi = n*i\n",
    "        print(str(i) + \" times \" + str(n) + \" is \" + str(multi))"
   ]
  },
  {
   "cell_type": "code",
   "execution_count": 24,
   "id": "56fb0d9a",
   "metadata": {},
   "outputs": [
    {
     "name": "stdout",
     "output_type": "stream",
     "text": [
      "Enter number:6\n",
      "1 times 6 is 6\n",
      "2 times 6 is 12\n",
      "3 times 6 is 18\n",
      "4 times 6 is 24\n",
      "5 times 6 is 30\n",
      "6 times 6 is 36\n",
      "7 times 6 is 42\n",
      "8 times 6 is 48\n",
      "9 times 6 is 54\n",
      "10 times 6 is 60\n"
     ]
    }
   ],
   "source": [
    "# call the function        \n",
    "n=int(input('Enter number:'))\n",
    "table(n)"
   ]
  },
  {
   "cell_type": "markdown",
   "id": "cc4b5007",
   "metadata": {},
   "source": [
    "**To find the product of numbers in a list.**"
   ]
  },
  {
   "cell_type": "code",
   "execution_count": 25,
   "id": "d12ecc38",
   "metadata": {},
   "outputs": [],
   "source": [
    "def product(x):\n",
    "    prod = 1\n",
    "    for i in x:\n",
    "        prod *= i\n",
    "    return prod"
   ]
  },
  {
   "cell_type": "code",
   "execution_count": 26,
   "id": "a936ef27",
   "metadata": {},
   "outputs": [
    {
     "data": {
      "text/plain": [
       "120"
      ]
     },
     "execution_count": 26,
     "metadata": {},
     "output_type": "execute_result"
    }
   ],
   "source": [
    "#call the function\n",
    "product([1,2,3,4,5])"
   ]
  },
  {
   "cell_type": "markdown",
   "id": "558a8781",
   "metadata": {},
   "source": [
    "**A function which takes the order of a matrix and multiplies it with a scalar. The function takes two parameters- first the order of identity matrix and second the scalar to be multiplied.**"
   ]
  },
  {
   "cell_type": "code",
   "execution_count": 27,
   "id": "cc91b6b5",
   "metadata": {},
   "outputs": [],
   "source": [
    "def scalar_multiplication(n,m):\n",
    "    for i in range(0,n):\n",
    "        for j in range(0,n):\n",
    "            if(i==j):\n",
    "                print(m,sep=\" \",end=\" \")\n",
    "            else:\n",
    "                print(\"0\",sep=\" \",end=\" \")\n",
    "        print()"
   ]
  },
  {
   "cell_type": "code",
   "execution_count": 28,
   "id": "d8ee197a",
   "metadata": {},
   "outputs": [
    {
     "name": "stdout",
     "output_type": "stream",
     "text": [
      "5 0 0 0 \n",
      "0 5 0 0 \n",
      "0 0 5 0 \n",
      "0 0 0 5 \n"
     ]
    }
   ],
   "source": [
    "#call the function\n",
    "scalar_multiplication(4,5)"
   ]
  },
  {
   "cell_type": "markdown",
   "id": "a949519f",
   "metadata": {},
   "source": [
    "**Usage of `*args`.**\n",
    "\n",
    "Usage : multiple arguments can be added without specifying the number of parameters defined in a function.  It is used to pass a non-keyworded, variable-length argument list.\n",
    "\n",
    " `*args` in function definitions in python is used to pass a variable number of arguments to a function. It reads the value one by one and performs the required task. <br>\n",
    " The symbol `*` is used to take in a variable number of arguments; by convention, it is often used with the word 'args', however we may use another word."
   ]
  },
  {
   "cell_type": "code",
   "execution_count": 29,
   "id": "01ed465e",
   "metadata": {},
   "outputs": [],
   "source": [
    "# * indicates that number of arguments can be taken\n",
    "def Multiple(*args):  \n",
    "    for parameter in args:  \n",
    "        print (parameter) "
   ]
  },
  {
   "cell_type": "code",
   "execution_count": 30,
   "id": "c2394a5f",
   "metadata": {},
   "outputs": [
    {
     "name": "stdout",
     "output_type": "stream",
     "text": [
      "Lets\n",
      "learn\n",
      "Python\n",
      "for\n",
      "Data\n",
      "Science\n"
     ]
    }
   ],
   "source": [
    "#call the function\n",
    "Multiple(\"Lets\",\"learn\",\"Python\",\"for\",\"Data\",\"Science\") "
   ]
  },
  {
   "cell_type": "markdown",
   "id": "cafd7f67",
   "metadata": {},
   "source": [
    "**Another example on `*args`.**"
   ]
  },
  {
   "cell_type": "code",
   "execution_count": 31,
   "id": "2f533ab2",
   "metadata": {},
   "outputs": [],
   "source": [
    "def to_print( argument1, *argument):\n",
    "   print(argument1)\n",
    "   for var in argument:\n",
    "        print(var)"
   ]
  },
  {
   "cell_type": "code",
   "execution_count": 32,
   "id": "8110eae6",
   "metadata": {},
   "outputs": [
    {
     "name": "stdout",
     "output_type": "stream",
     "text": [
      "10\n",
      "20\n",
      "30\n"
     ]
    }
   ],
   "source": [
    "#call the function        \n",
    "to_print( 10,20,30 )   "
   ]
  },
  {
   "cell_type": "markdown",
   "id": "e499fe8e",
   "metadata": {},
   "source": [
    "**Usage of  ` **kwargs`.**\n",
    "\n",
    "Usage: `**kwargs` is used to pass a keyworded, variable-length argument list to the function. The name 'kwargs' is used with the double star because it allows us to pass through keyword arguments (and any number of them)."
   ]
  },
  {
   "cell_type": "code",
   "execution_count": 33,
   "id": "9a46419f",
   "metadata": {},
   "outputs": [],
   "source": [
    "def function(**kwargs):\n",
    "    for a,b in kwargs.items():\n",
    "        print(a,\"==\",b)"
   ]
  },
  {
   "cell_type": "code",
   "execution_count": 34,
   "id": "c631f8fb",
   "metadata": {},
   "outputs": [
    {
     "name": "stdout",
     "output_type": "stream",
     "text": [
      "A == First letter\n",
      "B == Second letter\n",
      "C == Third letter\n"
     ]
    }
   ],
   "source": [
    "# call the function\n",
    "a=function(A = \"First letter\", B = \"Second letter\", C = \"Third letter\")"
   ]
  },
  {
   "cell_type": "markdown",
   "id": "42d648e3",
   "metadata": {},
   "source": [
    "**Another example of ` **kwargs `.**\n",
    "\n",
    "`**kwargs` is a dict of the keyword or arguments passed to the function"
   ]
  },
  {
   "cell_type": "code",
   "execution_count": 35,
   "id": "315ae3bf",
   "metadata": {},
   "outputs": [],
   "source": [
    "def print_keyword_args(**kwargs):\n",
    "      for key, value in kwargs.items():\n",
    "            print( \"%s = %s\" % (key, value))"
   ]
  },
  {
   "cell_type": "code",
   "execution_count": 36,
   "id": "9cbf16a7",
   "metadata": {},
   "outputs": [
    {
     "name": "stdout",
     "output_type": "stream",
     "text": [
      "first_name = John\n",
      "last_name = Doe\n"
     ]
    }
   ],
   "source": [
    "# call the function\n",
    "print_keyword_args(first_name=\"John\", last_name=\"Doe\")"
   ]
  },
  {
   "cell_type": "code",
   "execution_count": null,
   "id": "1cf1a143",
   "metadata": {},
   "outputs": [],
   "source": []
  }
 ],
 "metadata": {
  "kernelspec": {
   "display_name": "Python 3 (ipykernel)",
   "language": "python",
   "name": "python3"
  },
  "language_info": {
   "codemirror_mode": {
    "name": "ipython",
    "version": 3
   },
   "file_extension": ".py",
   "mimetype": "text/x-python",
   "name": "python",
   "nbconvert_exporter": "python",
   "pygments_lexer": "ipython3",
   "version": "3.11.4"
  }
 },
 "nbformat": 4,
 "nbformat_minor": 5
}
