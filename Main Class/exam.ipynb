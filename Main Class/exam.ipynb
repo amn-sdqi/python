{
 "cells": [
  {
   "cell_type": "code",
   "execution_count": 42,
   "metadata": {},
   "outputs": [],
   "source": [
    "import numpy as np\n",
    "import pandas as pd\n",
    "\n"
   ]
  },
  {
   "cell_type": "code",
   "execution_count": 21,
   "metadata": {},
   "outputs": [
    {
     "name": "stdout",
     "output_type": "stream",
     "text": [
      "['Neem tree', 'peepal tree', 'Mango tree', 'Coconut tree', ' ', ' ', ' ', 'blackberry tree']\n",
      "2\n"
     ]
    }
   ],
   "source": [
    "list=['Mango tree','Coconut tree','papaya tree','apple tree','banana tree','blackberry tree']\n",
    "list[2]=' '\n",
    "list[3]=' '\n",
    "list[4]=' '\n",
    "\n",
    "list.insert(0,'Neem tree')\n",
    "list.insert(1,'peepal tree')\n",
    "\n",
    "print(list)\n",
    "\n",
    "string='banana tree'\n",
    "\n",
    "Number=lambda x:x.count('n')\n",
    "\n",
    "print(Number(string))\n",
    "\n"
   ]
  },
  {
   "cell_type": "code",
   "execution_count": 37,
   "metadata": {},
   "outputs": [
    {
     "ename": "TypeError",
     "evalue": "list indices must be integers or slices, not str",
     "output_type": "error",
     "traceback": [
      "\u001b[1;31m---------------------------------------------------------------------------\u001b[0m",
      "\u001b[1;31mTypeError\u001b[0m                                 Traceback (most recent call last)",
      "Cell \u001b[1;32mIn[37], line 2\u001b[0m\n\u001b[0;32m      1\u001b[0m a\u001b[38;5;241m=\u001b[39m\u001b[38;5;124m'\u001b[39m\u001b[38;5;124mAmaan\u001b[39m\u001b[38;5;124m'\u001b[39m\n\u001b[1;32m----> 2\u001b[0m b\u001b[38;5;241m=\u001b[39m\u001b[38;5;28;43mlist\u001b[39;49m\u001b[43m[\u001b[49m\u001b[43ma\u001b[49m\u001b[43m]\u001b[49m\n\u001b[0;32m      3\u001b[0m \u001b[38;5;28mdict\u001b[39m\u001b[38;5;241m=\u001b[39m{ x:y \u001b[38;5;28;01mfor\u001b[39;00m x \u001b[38;5;129;01min\u001b[39;00m a \u001b[38;5;28;01mfor\u001b[39;00m y \u001b[38;5;129;01min\u001b[39;00m a \u001b[38;5;28;01mif\u001b[39;00m x\u001b[38;5;241m==\u001b[39my }\n\u001b[0;32m      5\u001b[0m \u001b[38;5;28mprint\u001b[39m(\u001b[38;5;28mdict\u001b[39m)\n",
      "\u001b[1;31mTypeError\u001b[0m: list indices must be integers or slices, not str"
     ]
    }
   ],
   "source": [
    "a='Amaan'\n",
    "b=list[a]\n",
    "dict={ x:y for x in a for y in a if x==y }\n",
    "\n",
    "print(dict)"
   ]
  },
  {
   "cell_type": "code",
   "execution_count": 31,
   "metadata": {},
   "outputs": [
    {
     "ename": "SyntaxError",
     "evalue": "invalid syntax (3614677182.py, line 6)",
     "output_type": "error",
     "traceback": [
      "\u001b[1;36m  Cell \u001b[1;32mIn[31], line 6\u001b[1;36m\u001b[0m\n\u001b[1;33m    dict={x:count=count+1}\u001b[0m\n\u001b[1;37m                 ^\u001b[0m\n\u001b[1;31mSyntaxError\u001b[0m\u001b[1;31m:\u001b[0m invalid syntax\n"
     ]
    }
   ],
   "source": [
    "string='Amaan'\n",
    "count=0\n",
    "for x in string:\n",
    "    for y in string:\n",
    "        if x==y:\n",
    "            dict={x:count=count+1}\n",
    "    count=0 \n",
    "print(dict)\n",
    "\n"
   ]
  },
  {
   "cell_type": "code",
   "execution_count": 39,
   "metadata": {},
   "outputs": [
    {
     "ename": "TypeError",
     "evalue": "list indices must be integers or slices, not str",
     "output_type": "error",
     "traceback": [
      "\u001b[1;31m---------------------------------------------------------------------------\u001b[0m",
      "\u001b[1;31mTypeError\u001b[0m                                 Traceback (most recent call last)",
      "Cell \u001b[1;32mIn[39], line 2\u001b[0m\n\u001b[0;32m      1\u001b[0m input_string \u001b[38;5;241m=\u001b[39m \u001b[38;5;124m\"\u001b[39m\u001b[38;5;124mHello\u001b[39m\u001b[38;5;124m\"\u001b[39m\n\u001b[1;32m----> 2\u001b[0m split_characters \u001b[38;5;241m=\u001b[39m \u001b[38;5;28;43mlist\u001b[39;49m\u001b[43m[\u001b[49m\u001b[43minput_string\u001b[49m\u001b[43m]\u001b[49m\n\u001b[0;32m      3\u001b[0m \u001b[38;5;28mprint\u001b[39m(split_characters)\n",
      "\u001b[1;31mTypeError\u001b[0m: list indices must be integers or slices, not str"
     ]
    }
   ],
   "source": [
    "input_string = \"Hello\"\n",
    "split_characters = list[input_string]\n",
    "print(split_characters)\n"
   ]
  },
  {
   "cell_type": "code",
   "execution_count": 59,
   "metadata": {},
   "outputs": [
    {
     "name": "stdout",
     "output_type": "stream",
     "text": [
      "0    4.0\n",
      "1    7.0\n",
      "2   -5.0\n",
      "3    3.0\n",
      "4    3.3\n",
      "dtype: float64\n"
     ]
    }
   ],
   "source": [
    "series=pd.Series([4,7,-5,3,3.3])\n",
    "\n",
    "print(series)"
   ]
  },
  {
   "cell_type": "code",
   "execution_count": 60,
   "metadata": {},
   "outputs": [
    {
     "name": "stdout",
     "output_type": "stream",
     "text": [
      "d    4.0\n",
      "b    7.0\n",
      "a   -5.0\n",
      "c    3.0\n",
      "e    3.3\n",
      "dtype: float64\n"
     ]
    }
   ],
   "source": [
    "series.index=['d','b','a','c','e']\n",
    "\n",
    "print(series)\n",
    "\n"
   ]
  },
  {
   "cell_type": "code",
   "execution_count": 61,
   "metadata": {},
   "outputs": [
    {
     "name": "stdout",
     "output_type": "stream",
     "text": [
      "-5.0\n",
      "7.0\n"
     ]
    }
   ],
   "source": [
    "min=series.min()\n",
    "max=series.max()\n",
    "\n",
    "print(min)\n",
    "\n",
    "print(max)"
   ]
  },
  {
   "cell_type": "code",
   "execution_count": 62,
   "metadata": {},
   "outputs": [
    {
     "name": "stdout",
     "output_type": "stream",
     "text": [
      "b    7.0\n",
      "d    4.0\n",
      "e    3.3\n",
      "c    3.0\n",
      "a   -5.0\n",
      "dtype: float64\n",
      "a   -5.0\n",
      "c    3.0\n",
      "e    3.3\n",
      "d    4.0\n",
      "b    7.0\n",
      "dtype: float64\n"
     ]
    }
   ],
   "source": [
    "print(series.sort_values(ascending=0))\n",
    "\n",
    "print(series.sort_values(ascending=1))"
   ]
  },
  {
   "cell_type": "code",
   "execution_count": 67,
   "metadata": {},
   "outputs": [
    {
     "name": "stdout",
     "output_type": "stream",
     "text": [
      "[[110 102 183]\n",
      " [140 175 106]\n",
      " [170 195 117]\n",
      " [192 140 195]]\n"
     ]
    }
   ],
   "source": [
    "list=[[110,102,183],[140,175,106],[170,195,117],[192,140,195]]\n",
    "\n",
    "list1=np.array(list).reshape(4,3)\n",
    "\n",
    "print(list1)"
   ]
  },
  {
   "cell_type": "code",
   "execution_count": 97,
   "metadata": {},
   "outputs": [
    {
     "data": {
      "text/plain": [
       "array([102, 106, 117, 140])"
      ]
     },
     "execution_count": 97,
     "metadata": {},
     "output_type": "execute_result"
    }
   ],
   "source": [
    "r1=np.min(list, axis=1)\n",
    "\n",
    "r1\n",
    "\n",
    "\n"
   ]
  },
  {
   "cell_type": "code",
   "execution_count": 99,
   "metadata": {},
   "outputs": [
    {
     "data": {
      "text/plain": [
       "array([[110, 102,  -2],\n",
       "       [140,  -2, 106],\n",
       "       [170,  -2,  -2],\n",
       "       [192, 140,  -2]])"
      ]
     },
     "execution_count": 99,
     "metadata": {},
     "output_type": "execute_result"
    }
   ],
   "source": [
    "list1[list1 %2!=0]=-2\n",
    "\n",
    "list1"
   ]
  },
  {
   "cell_type": "code",
   "execution_count": 101,
   "metadata": {},
   "outputs": [
    {
     "data": {
      "text/plain": [
       "array([[110, 140,  -2],\n",
       "       [140,  -2, 106],\n",
       "       [170,  -2,  -2],\n",
       "       [192, 140,  -2]])"
      ]
     },
     "execution_count": 101,
     "metadata": {},
     "output_type": "execute_result"
    }
   ],
   "source": [
    "list1[0,1]=list1[1,0]\n",
    "\n",
    "list1"
   ]
  },
  {
   "cell_type": "code",
   "execution_count": 93,
   "metadata": {},
   "outputs": [
    {
     "name": "stdout",
     "output_type": "stream",
     "text": [
      "Character frequencies:\n",
      "{'#': 1, 'a': 4, 'm': 5, 's': 5, '1': 3, '2': 3, '3': 1}\n"
     ]
    }
   ],
   "source": [
    "# Ask the user to enter a string\n",
    "user_input = input(\"Enter a string: \")\n",
    "\n",
    "# Create an empty dictionary to store character frequencies\n",
    "char_freq = {}\n",
    "\n",
    "# Iterate through each character in the string\n",
    "for char in user_input:\n",
    "    # Increment the count for each character in the dictionary\n",
    "    char_freq[char] = char_freq.get(char, 0) + 1\n",
    "\n",
    "# Print the dictionary\n",
    "print(\"Character frequencies:\")\n",
    "# for char, freq in char_freq.items():\n",
    "#     print(f\"'{char}': {freq}\")\n",
    "print(char_freq)"
   ]
  }
 ],
 "metadata": {
  "kernelspec": {
   "display_name": "Python 3",
   "language": "python",
   "name": "python3"
  },
  "language_info": {
   "codemirror_mode": {
    "name": "ipython",
    "version": 3
   },
   "file_extension": ".py",
   "mimetype": "text/x-python",
   "name": "python",
   "nbconvert_exporter": "python",
   "pygments_lexer": "ipython3",
   "version": "3.11.4"
  }
 },
 "nbformat": 4,
 "nbformat_minor": 2
}
