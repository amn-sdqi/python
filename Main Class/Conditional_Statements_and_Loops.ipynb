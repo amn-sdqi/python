{
 "cells": [
  {
   "cell_type": "markdown",
   "id": "cc41c691",
   "metadata": {},
   "source": [
    "# if statement\n",
    "\n",
    "It decides whether given statements needs to be executed or not.<br>\n",
    "It checks for a given condition, if the condition is true, then the code present inside the if block will be executed."
   ]
  },
  {
   "cell_type": "markdown",
   "id": "e4fdc358",
   "metadata": {},
   "source": [
    "### Important things about if statements:\n",
    "\n",
    "1. The colon (:) is significant and required. It separates the header of the compound statement from the body\n",
    "1. The line after the colon should be indented. Use four spaces for indenting"
   ]
  },
  {
   "cell_type": "markdown",
   "id": "4efa5e4d",
   "metadata": {},
   "source": [
    "**syntax:**<br><br>\n",
    "if BOOLEAN EXPRESSION:<br>\n",
    "&nbsp;&nbsp;    STATEMENTS"
   ]
  },
  {
   "cell_type": "code",
   "execution_count": null,
   "id": "461b100a",
   "metadata": {},
   "outputs": [],
   "source": []
  },
  {
   "cell_type": "code",
   "execution_count": 1,
   "id": "0fdeeea7",
   "metadata": {},
   "outputs": [
    {
     "name": "stdout",
     "output_type": "stream",
     "text": [
      "Python Tutorial\n"
     ]
    }
   ],
   "source": [
    "# create a string\n",
    "my_string = 'Python'\n",
    "\n",
    "# create a list\n",
    "my_list = ['Data Science', 'Machine Learning', 'Artificial Intelligence', 'Python']\n",
    "\n",
    "if my_string in my_list:\n",
    "    print(my_string + ' Tutorial')"
   ]
  },
  {
   "cell_type": "code",
   "execution_count": 2,
   "id": "b710407e",
   "metadata": {},
   "outputs": [
    {
     "name": "stdout",
     "output_type": "stream",
     "text": [
      "right\n"
     ]
    }
   ],
   "source": [
    "# Check whether the item is a member of a list or not\n",
    "languages = ['java', 'python' ,'perl', 'ruby', 'c#']\n",
    "if 'python' in languages:\n",
    "    print('right')"
   ]
  },
  {
   "cell_type": "code",
   "execution_count": null,
   "id": "9044b505",
   "metadata": {},
   "outputs": [],
   "source": []
  },
  {
   "cell_type": "markdown",
   "id": "1f81f850",
   "metadata": {},
   "source": [
    "# if else statement\n",
    "\n",
    "The if..else statement evaluates test expression and will execute the body of if only when test condition is True.<br>\n",
    "'If' decides whether certain statements need to be executed or not.<br>\n",
    "In case, the condition is false,the body of 'else' is executed."
   ]
  },
  {
   "cell_type": "markdown",
   "id": "5b331e6b",
   "metadata": {},
   "source": [
    "**Syntax of if...else**<br><br>\n",
    "if BOOLEAN EXPRESSION:<br>\n",
    "&nbsp;&nbsp;    STATEMENTS_1<br>\n",
    "else:<br>\n",
    "&nbsp;&nbsp;    STATEMENTS_2"
   ]
  },
  {
   "cell_type": "code",
   "execution_count": 5,
   "id": "a82aeadc",
   "metadata": {},
   "outputs": [
    {
     "name": "stdout",
     "output_type": "stream",
     "text": [
      "200\n",
      "the value of x is not equal to 500\n"
     ]
    }
   ],
   "source": [
    "# create a integer\n",
    "x = 200\n",
    "print(x)\n",
    "\n",
    "# use if else statement\n",
    "if  x != 500:\n",
    "    print('the value of x is not equal to 500')\n",
    "else:\n",
    "    print('the value of x is equal to 500')"
   ]
  },
  {
   "cell_type": "code",
   "execution_count": 4,
   "id": "65d815ff",
   "metadata": {},
   "outputs": [
    {
     "name": "stdout",
     "output_type": "stream",
     "text": [
      "150\n",
      "18.75\n"
     ]
    }
   ],
   "source": [
    "# create a integer\n",
    "n = 150\n",
    "print(n)\n",
    "\n",
    "# If number is greater than 400, n is multiplied by 8, otherwise n is divided by 8\n",
    "result = n * 8 if n > 400 else n / 8\n",
    "print(result)"
   ]
  },
  {
   "cell_type": "markdown",
   "id": "e4fcc42b",
   "metadata": {},
   "source": [
    "Check whether the two numbers are equal or not"
   ]
  },
  {
   "cell_type": "code",
   "execution_count": 3,
   "id": "768667c8",
   "metadata": {},
   "outputs": [
    {
     "name": "stdout",
     "output_type": "stream",
     "text": [
      "A & B are Equal\n"
     ]
    }
   ],
   "source": [
    "a = 3; b=3\n",
    "if (a == b):  ## indent is very important\n",
    "    print(\"A & B are Equal\")\n",
    "else:\n",
    "    print(\"A & B are not Equal\")"
   ]
  },
  {
   "cell_type": "code",
   "execution_count": 4,
   "id": "7f121ef9",
   "metadata": {},
   "outputs": [
    {
     "name": "stdout",
     "output_type": "stream",
     "text": [
      "Enter your userid xyz\n",
      "Enter your password xyz123\n",
      "Successfully logged in!!\n"
     ]
    }
   ],
   "source": [
    "string1 = input(\"Enter your userid \")\n",
    "string2 = input(\"Enter your password \")\n",
    "\n",
    "if (string1 == \"xyz\" and string2 == \"xyz123\"):\n",
    "    print(\"Successfully logged in!!\")\n",
    "else :\n",
    "    print(\"Please check your userid and password\")"
   ]
  },
  {
   "cell_type": "code",
   "execution_count": null,
   "id": "d42774b0",
   "metadata": {},
   "outputs": [],
   "source": []
  },
  {
   "cell_type": "markdown",
   "id": "3ab689f1",
   "metadata": {},
   "source": [
    "# if-elif-else\n",
    "\n",
    "The elif is short for else-if. It checks for multiple expressions.<br>\n",
    "If the condition for 'if' is False, it checks the condition for the next elif statement.<br>\n",
    "If all the conditions are False, the else statement is executed.<br>\n",
    "The if statement can have only one else block. But it can have multiple elif blocks."
   ]
  },
  {
   "cell_type": "markdown",
   "id": "2c91c3c1",
   "metadata": {},
   "source": [
    "**Syntax of if elif else:**<br>\n",
    "if x < y:<br>\n",
    "&nbsp;&nbsp;    STATEMENTS_A<br>\n",
    "elif x > y:<br>\n",
    "&nbsp;&nbsp    STATEMENTS_B<br>\n",
    "else:<br>\n",
    "&nbsp;&nbsp;    STATEMENTS_C"
   ]
  },
  {
   "cell_type": "markdown",
   "id": "c944b67f",
   "metadata": {},
   "source": [
    "Find the type of given variable"
   ]
  },
  {
   "cell_type": "code",
   "execution_count": 5,
   "id": "33add65a",
   "metadata": {},
   "outputs": [
    {
     "name": "stdout",
     "output_type": "stream",
     "text": [
      "Type of the variable is Complex\n"
     ]
    }
   ],
   "source": [
    "var = 1+3j\n",
    "if (type(var) == int):\n",
    "    print(\"Type of the variable is Integer\")\n",
    "elif (type(var) == float):\n",
    "    print(\"Type of the variable is Float\")\n",
    "elif (type(var) == complex):\n",
    "    print(\"Type of the variable is Complex\")\n",
    "elif (type(var) == bool):\n",
    "    print(\"Type of the variable is Bool\")\n",
    "elif (type(var) == str):\n",
    "    print(\"Type of the variable is String\")\n",
    "elif (type(var) == tuple):\n",
    "    print(\"Type of the variable is Tuple\")\n",
    "elif (type(var) == dict):\n",
    "    print(\"Type of the variable is Dictionaries\")\n",
    "elif (type(var) == list):\n",
    "    print(\"Type of the variable is List\")\n",
    "else:\n",
    "    print(\"Type of the variable is Unknown\")"
   ]
  },
  {
   "cell_type": "markdown",
   "id": "72ab2014",
   "metadata": {},
   "source": [
    "Check whether the given number is greater than 50 or not"
   ]
  },
  {
   "cell_type": "code",
   "execution_count": 7,
   "id": "89166768",
   "metadata": {},
   "outputs": [
    {
     "name": "stdout",
     "output_type": "stream",
     "text": [
      "Number is greater than 50\n"
     ]
    }
   ],
   "source": [
    "num = 100\n",
    "if (num == 0):\n",
    "    print(\"Number is Zero\")\n",
    "elif (num > 55):\n",
    "    print(\"Number is greater than 50\")\n",
    "else:\n",
    "    print(\"Number is smaller than 50\")"
   ]
  },
  {
   "cell_type": "code",
   "execution_count": null,
   "id": "947c094a",
   "metadata": {},
   "outputs": [],
   "source": []
  },
  {
   "cell_type": "markdown",
   "id": "f87fa853",
   "metadata": {},
   "source": [
    "# for loop\n",
    "\n",
    "The 'for' loop in python is used to execute a block of statements or code several times until the given condition becomes false.<br>\n",
    "It is used to iterate over a sequence (list, tuple, string) or other iterable objects."
   ]
  },
  {
   "cell_type": "markdown",
   "id": "db193679",
   "metadata": {},
   "source": [
    "**Syntax of for loop:**<br>\n",
    "for val in sequence:<br>\n",
    "&nbsp;&nbsp;\tBody of for"
   ]
  },
  {
   "cell_type": "code",
   "execution_count": 1,
   "id": "2091f08c",
   "metadata": {},
   "outputs": [
    {
     "name": "stdout",
     "output_type": "stream",
     "text": [
      "The sum is 2068\n"
     ]
    }
   ],
   "source": [
    "# find the sum of all numbers in a given list\n",
    "\n",
    "# given list\n",
    "num_list = [66, 545, 223, 438, 224, 122, 125, 214, 111]\n",
    "\n",
    "# variable to store the sum\n",
    "total = 0\n",
    "\n",
    "# iterate over the list\n",
    "for val in num_list:\n",
    "    total = total+val\n",
    "\n",
    "# Output: The sum is 2068\n",
    "print(\"The sum is\", total)"
   ]
  },
  {
   "cell_type": "code",
   "execution_count": 8,
   "id": "aef6a120",
   "metadata": {},
   "outputs": [
    {
     "name": "stdout",
     "output_type": "stream",
     "text": [
      "0\n",
      "1\n",
      "2\n",
      "3\n",
      "4\n",
      "5\n"
     ]
    }
   ],
   "source": [
    "# Print the numbers 0,1,2,3,4,5\n",
    "for x in range(6):\n",
    "    print(x)"
   ]
  },
  {
   "cell_type": "code",
   "execution_count": 9,
   "id": "26401f46",
   "metadata": {},
   "outputs": [
    {
     "name": "stdout",
     "output_type": "stream",
     "text": [
      "Sum = 1698\n",
      "Avg = 283.0\n"
     ]
    }
   ],
   "source": [
    "int_list = [134, 222, 113, 234, 375, 620]\n",
    "sum = 0\n",
    "for iter in int_list:\n",
    "    sum += iter\n",
    "\n",
    "print(\"Sum =\", sum)\n",
    "print(\"Avg =\", sum/len(int_list))"
   ]
  },
  {
   "cell_type": "code",
   "execution_count": null,
   "id": "661008d8",
   "metadata": {},
   "outputs": [],
   "source": []
  },
  {
   "cell_type": "markdown",
   "id": "48de270d",
   "metadata": {},
   "source": [
    "# while loop\n",
    "\n",
    "While loop executes the same procedure by checking a given condition until the condition is false<br>\n",
    "The condition is given before the loop and is checked before each execution of the loop."
   ]
  },
  {
   "cell_type": "markdown",
   "id": "9b3d2412",
   "metadata": {},
   "source": [
    "**Syntax of for loop:**<br>\n",
    "while (expression):<br>\n",
    "&nbsp;&nbsp;     statement_1<br>\n",
    "&nbsp;&nbsp;     statement_2<br>"
   ]
  },
  {
   "cell_type": "code",
   "execution_count": 10,
   "id": "d2861387",
   "metadata": {},
   "outputs": [
    {
     "name": "stdout",
     "output_type": "stream",
     "text": [
      "0\n",
      "1\n",
      "2\n",
      "3\n",
      "4\n"
     ]
    }
   ],
   "source": [
    "# print the digit 0 to 4\n",
    "x = 0\n",
    "while (x < 5):\n",
    "     print(x)\n",
    "     x += 1"
   ]
  },
  {
   "cell_type": "markdown",
   "id": "c30a8180",
   "metadata": {},
   "source": [
    "Calculate the sum of the integers from 0 to 9"
   ]
  },
  {
   "cell_type": "code",
   "execution_count": 11,
   "id": "9e6ad375",
   "metadata": {},
   "outputs": [
    {
     "name": "stdout",
     "output_type": "stream",
     "text": [
      "The sum of first 9 integers :  45\n"
     ]
    }
   ],
   "source": [
    "a = 0;\n",
    "b = 0\n",
    "while (a < 10):\n",
    "     b = b + a\n",
    "     a = a + 1\n",
    "else :\n",
    "     print('The sum of first 9 integers : ',b)   "
   ]
  },
  {
   "cell_type": "code",
   "execution_count": 14,
   "id": "f1c812f0",
   "metadata": {},
   "outputs": [
    {
     "name": "stdout",
     "output_type": "stream",
     "text": [
      "345\n",
      "Length is 3\n"
     ]
    }
   ],
   "source": [
    "# find the length of input\n",
    "n = int(input())\n",
    "length = 0\n",
    "while True:\n",
    "    length += 1\n",
    "    n //= 10\n",
    "    if n == 0:\n",
    "        break\n",
    "print('Length is', length)"
   ]
  },
  {
   "cell_type": "code",
   "execution_count": null,
   "id": "471e57a1",
   "metadata": {},
   "outputs": [],
   "source": []
  }
 ],
 "metadata": {
  "kernelspec": {
   "display_name": "Python 3",
   "language": "python",
   "name": "python3"
  },
  "language_info": {
   "codemirror_mode": {
    "name": "ipython",
    "version": 3
   },
   "file_extension": ".py",
   "mimetype": "text/x-python",
   "name": "python",
   "nbconvert_exporter": "python",
   "pygments_lexer": "ipython3",
   "version": "3.11.4"
  }
 },
 "nbformat": 4,
 "nbformat_minor": 5
}
