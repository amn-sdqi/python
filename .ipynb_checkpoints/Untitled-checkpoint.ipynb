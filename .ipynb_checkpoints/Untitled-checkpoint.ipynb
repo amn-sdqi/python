{
 "cells": [
  {
   "cell_type": "code",
   "execution_count": 5,
   "id": "7ea80d44",
   "metadata": {},
   "outputs": [
    {
     "ename": "SyntaxError",
     "evalue": "invalid syntax (3069186628.py, line 28)",
     "output_type": "error",
     "traceback": [
      "\u001b[1;36m  Cell \u001b[1;32mIn[5], line 28\u001b[1;36m\u001b[0m\n\u001b[1;33m    elif (op == '+'):\u001b[0m\n\u001b[1;37m    ^\u001b[0m\n\u001b[1;31mSyntaxError\u001b[0m\u001b[1;31m:\u001b[0m invalid syntax\n"
     ]
    }
   ],
   "source": [
    "def add_s(a, b):\n",
    "    return a+b\n",
    "\n",
    "\n",
    "def subs(a, b):\n",
    "    return a-b\n",
    "\n",
    "\n",
    "def multi(a, b):\n",
    "    return a*b\n",
    "\n",
    "\n",
    "def divi(a, b):\n",
    "    return a/b\n",
    "\n",
    "\n",
    "a = input(\"Enter first no.:::::::::::\")\n",
    "int = a\n",
    "if (  type(a)!= int or type(b)!= int or type(op)== int):\n",
    "    print(\"enter correct equation::\")\n",
    "op = input(\"Enter : + , - , * , / : for opration:::::::\")\n",
    "\n",
    "\n",
    "b = int(input(\"Enter second no.::::::::\"))\n",
    "\n",
    "\n",
    "\n",
    "if (op == '+'):\n",
    "    print(add_s(a, b))\n",
    "\n",
    "elif (op == '-'):\n",
    "    print(subs(a, b))\n",
    "\n",
    "elif (op == '*'):\n",
    "    print(multi(a, b))\n",
    "\n",
    "elif (op == '/'):\n",
    "    print(divi(a, b))\n"
   ]
  },
  {
   "cell_type": "code",
   "execution_count": null,
   "id": "ed2eb782",
   "metadata": {},
   "outputs": [],
   "source": []
  },
  {
   "cell_type": "code",
   "execution_count": null,
   "id": "eab3e406",
   "metadata": {},
   "outputs": [],
   "source": []
  },
  {
   "cell_type": "code",
   "execution_count": null,
   "id": "c256b24c",
   "metadata": {},
   "outputs": [],
   "source": []
  },
  {
   "cell_type": "code",
   "execution_count": null,
   "id": "0ca475e6",
   "metadata": {},
   "outputs": [],
   "source": []
  },
  {
   "cell_type": "code",
   "execution_count": null,
   "id": "b49550c9",
   "metadata": {},
   "outputs": [],
   "source": []
  },
  {
   "cell_type": "code",
   "execution_count": null,
   "id": "f08875d5",
   "metadata": {},
   "outputs": [],
   "source": []
  },
  {
   "cell_type": "code",
   "execution_count": null,
   "id": "9e8134d2",
   "metadata": {},
   "outputs": [],
   "source": []
  },
  {
   "cell_type": "code",
   "execution_count": null,
   "id": "67b3cb09",
   "metadata": {},
   "outputs": [],
   "source": []
  },
  {
   "cell_type": "code",
   "execution_count": null,
   "id": "cb9fac8a",
   "metadata": {},
   "outputs": [],
   "source": []
  },
  {
   "cell_type": "code",
   "execution_count": null,
   "id": "5ca8beda",
   "metadata": {},
   "outputs": [],
   "source": []
  },
  {
   "cell_type": "code",
   "execution_count": null,
   "id": "60e59cb7",
   "metadata": {},
   "outputs": [],
   "source": []
  },
  {
   "cell_type": "code",
   "execution_count": null,
   "id": "cd14eab1",
   "metadata": {},
   "outputs": [],
   "source": []
  },
  {
   "cell_type": "code",
   "execution_count": null,
   "id": "837716d7",
   "metadata": {},
   "outputs": [],
   "source": []
  },
  {
   "cell_type": "code",
   "execution_count": null,
   "id": "0096907a",
   "metadata": {},
   "outputs": [],
   "source": []
  }
 ],
 "metadata": {
  "kernelspec": {
   "display_name": "Python 3 (ipykernel)",
   "language": "python",
   "name": "python3"
  },
  "language_info": {
   "codemirror_mode": {
    "name": "ipython",
    "version": 3
   },
   "file_extension": ".py",
   "mimetype": "text/x-python",
   "name": "python",
   "nbconvert_exporter": "python",
   "pygments_lexer": "ipython3",
   "version": "3.11.4"
  }
 },
 "nbformat": 4,
 "nbformat_minor": 5
}
