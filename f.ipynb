{
 "cells": [
  {
   "cell_type": "code",
   "execution_count": null,
   "metadata": {},
   "outputs": [],
   "source": [
    "for i in range(1500, 2701):\n",
    "    if(i%7==0 and i %5==0):\n",
    "        print(i,' :is divisible by both 5 & 7 ')\n"
   ]
  },
  {
   "cell_type": "code",
   "execution_count": 24,
   "metadata": {},
   "outputs": [
    {
     "name": "stdout",
     "output_type": "stream",
     "text": [
      " Today\n",
      "Found Today at 0  \n",
      "Found Sunny at 11\n",
      "ay\n",
      "Today is a Sunny\n",
      "yad ynnuS a si yadoT\n"
     ]
    }
   ],
   "source": [
    "\n",
    "str=\"Today is a Sunny day\"\n",
    "\n",
    "word=str.split()\n",
    "word1=word[0]\n",
    "word2=word[3]\n",
    "print(f' {word1}')\n",
    "#code to get Today and Sunny\n",
    "a=str.find('Today')\n",
    "b=str.find('Sunny')\n",
    "\n",
    "if (a!=-1 and b!=-1):\n",
    "    print(\"Found Today at\",a,\" \\nFound Sunny at\",b)\n",
    "    \n",
    "print(str[-2:])\n",
    "\n",
    "#Obtain last 2 letters\n",
    "print(str[:-4])\n",
    "\n",
    "#write statement backwards\n",
    "print(str[::-1])"
   ]
  },
  {
   "cell_type": "code",
   "execution_count": 31,
   "metadata": {},
   "outputs": [
    {
     "ename": "SyntaxError",
     "evalue": "invalid syntax (2144834171.py, line 1)",
     "output_type": "error",
     "traceback": [
      "\u001b[1;36m  Cell \u001b[1;32mIn[31], line 1\u001b[1;36m\u001b[0m\n\u001b[1;33m    squreroots=[x***3 for x in range(0,11)]\u001b[0m\n\u001b[1;37m                   ^\u001b[0m\n\u001b[1;31mSyntaxError\u001b[0m\u001b[1;31m:\u001b[0m invalid syntax\n"
     ]
    }
   ],
   "source": [
    "squreroots=[x**2 for x in range(0,11)]\n",
    "\n",
    "print(squreroots)"
   ]
  },
  {
   "cell_type": "code",
   "execution_count": null,
   "metadata": {},
   "outputs": [],
   "source": [
    "ser=pd.series(['apple','orange','plan','python','money'])"
   ]
  }
 ],
 "metadata": {
  "kernelspec": {
   "display_name": "Python 3",
   "language": "python",
   "name": "python3"
  },
  "language_info": {
   "codemirror_mode": {
    "name": "ipython",
    "version": 3
   },
   "file_extension": ".py",
   "mimetype": "text/x-python",
   "name": "python",
   "nbconvert_exporter": "python",
   "pygments_lexer": "ipython3",
   "version": "3.11.4"
  }
 },
 "nbformat": 4,
 "nbformat_minor": 2
}
